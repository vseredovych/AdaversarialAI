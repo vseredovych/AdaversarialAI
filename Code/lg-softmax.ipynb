{
 "cells": [
  {
   "cell_type": "code",
   "execution_count": 1,
   "metadata": {},
   "outputs": [],
   "source": [
    "import numpy as np\n",
    "import pandas as pd\n",
    "import seaborn as sns\n",
    "\n",
    "from sklearn.model_selection import train_test_split\n",
    "from sklearn.metrics import mean_squared_error, r2_score\n",
    "\n",
    "import matplotlib.pyplot as plt\n",
    "%matplotlib inline"
   ]
  },
  {
   "cell_type": "code",
   "execution_count": 2,
   "metadata": {},
   "outputs": [],
   "source": [
    "normalization = 255"
   ]
  },
  {
   "cell_type": "code",
   "execution_count": 3,
   "metadata": {},
   "outputs": [],
   "source": [
    "def plot_J(J_history):\n",
    "    x = np.arange(0, len(J_history))\n",
    "    plt.plot(x, J_history)\n",
    "    plt.show()"
   ]
  },
  {
   "cell_type": "code",
   "execution_count": 4,
   "metadata": {},
   "outputs": [],
   "source": [
    "def normalize(X):\n",
    "    return X / normalization"
   ]
  },
  {
   "cell_type": "code",
   "execution_count": 5,
   "metadata": {},
   "outputs": [],
   "source": [
    "def denormalize(X):\n",
    "    return X * normalization"
   ]
  },
  {
   "cell_type": "code",
   "execution_count": 244,
   "metadata": {},
   "outputs": [],
   "source": [
    "from sklearn.base import BaseEstimator, ClassifierMixin\n",
    "from sklearn.utils.validation import check_X_y, check_array, check_is_fitted\n",
    "from sklearn.utils.multiclass import unique_labels\n",
    "from mpmath import *\n",
    "from sympy import *"
   ]
  },
  {
   "cell_type": "code",
   "execution_count": 6,
   "metadata": {},
   "outputs": [],
   "source": [
    "class LogisticRegression():\n",
    "    def __init__(self, normalize=True):\n",
    "        self.normalize = normalize\n",
    "        self.__mean = None\n",
    "        self.__std = None\n",
    "    \n",
    "    def get_mean(self):\n",
    "        return self.__mean\n",
    "    \n",
    "    def get_std(self):\n",
    "        return self.__std\n",
    "    \n",
    "    def fit(self, X_vert, Y_vert, alpha, num_iters, epsilon):\n",
    "        # X transformations\n",
    "        if self.normalize == True:\n",
    "            self.X_ = self.__normalize(X_vert)\n",
    "        else:\n",
    "            self.X_ = X_vert\n",
    "        self.X_ = self.X_.T\n",
    " \n",
    "        # Y transformations\n",
    "        self.Y_ = Y_vert.T\n",
    "\n",
    "        self.W = np.full(( self.X_.shape[0],self.Y_.shape[0]),0.01)\n",
    "        self.b = 0.0\n",
    "        self.W, self.b, self.Js = self.__gradient_descent(self.X_, self.Y_, self.W, self.b, alpha, num_iters, epsilon)\n",
    "\n",
    "    def predict(self, X):\n",
    "        # Check is fit had been called\n",
    "        check_is_fitted(self)\n",
    "        # Input validation\n",
    "        X = check_array(X)\n",
    "\n",
    "        if self.normalize:\n",
    "            X_norm = (X - self.__mean) / self.__std\n",
    "            z = self.__stable_softmax(np.dot(self.W.T,X_norm.T)+self.b)\n",
    "        else:\n",
    "            z = self.__stable_softmax(np.dot(self.W.T,X.T)+self.b)\n",
    "    \n",
    "        y_pred = np.zeros(z.shape[1], dtype=int)\n",
    "        for i in range(z.shape[1]):\n",
    "            y_pred[i] = np.argmax(z[:, i])    \n",
    "        \n",
    "        return y_pred\n",
    "\n",
    "    def predict_by_labels(self, X, y_labels):\n",
    "        # Check is fit had been called\n",
    "        check_is_fitted(self)\n",
    "        # Input validation\n",
    "        X = check_array(X)\n",
    "        \n",
    "        if self.normalize:\n",
    "            X_norm = (X - self.__mean) / self.__std\n",
    "            z = self.__stable_softmax(np.dot(self.W.T,X_norm.T)+self.b)\n",
    "        else:\n",
    "            z = self.__stable_softmax(np.dot(self.W.T,X.T)+self.b)\n",
    "            \n",
    "        y_pred = np.full((z.shape[1]), {})\n",
    "        for i in range(z.shape[1]):\n",
    "            y_pred[i] = { y_labels[j]: z[j][i] for j in range(z.shape[0])}\n",
    "        return y_pred\n",
    "            \n",
    "    def get_cost_history(self):\n",
    "        check_is_fitted(self)\n",
    "        return self.Js\n",
    "\n",
    "    def __normalize(self, X):\n",
    "        if self.__mean is None and self.__std is None:\n",
    "            mean = np.zeros([X.shape[1]])\n",
    "            std  = np.ones([X.shape[1]])\n",
    "            \n",
    "            for i in range(X.shape[1]):\n",
    "                if (np.std(X.iloc[:, i]) != 0):\n",
    "                    mean[i] = np.mean(X.iloc[:, i])\n",
    "                    std[i] = np.std(X.iloc[:, i])\n",
    "            \n",
    "            self.__mean = mean\n",
    "            self.__std = std\n",
    "\n",
    "        X_new = (X - self.__mean) / self.__std\n",
    "        return X_new\n",
    "\n",
    "    def __cost_function(self, X, Y, A):\n",
    "        m = X.shape[0]\n",
    "        if m == 0:\n",
    "            return None\n",
    "        \n",
    "        J = (1 / m) * np.sum(-Y * np.log(A) - (1 - Y) * np.log(1 - A))\n",
    "        return J\n",
    "\n",
    "    def __cross_entropy(self, X, Y, A):\n",
    "        m = X.shape[0]\n",
    "        if m == 0:\n",
    "            return None\n",
    "        \n",
    "        J = (-1 / m) * np.sum(Y.T * np.log(A.T))\n",
    "        return J\n",
    "    \n",
    "    def __sigmoid(self, z):\n",
    "        return 1 / (1 + np.exp(-z))\n",
    "    \n",
    "    def __softmax(self, z):\n",
    "        exps = np.exp(z)\n",
    "        return exps / exps.sum(axis=0, keepdims=True)\n",
    "\n",
    "    def __stable_softmax(self, z):\n",
    "        exps = np.exp(z - np.max(z))\n",
    "        return exps / exps.sum(axis=0, keepdims=True)\n",
    "\n",
    "    def __forward_backward_propagation(self, X, Y, W, b):        \n",
    "        # forward propagation\n",
    "        m = X.shape[1]\n",
    "\n",
    "        z = np.dot(W.T,X) + b\n",
    "        A = self.__stable_softmax(z)\n",
    "        cost = self.__cross_entropy(X, Y, A)\n",
    "\n",
    "        # backward propagation\n",
    "        dz = A - Y\n",
    "        derivative_weights = (1 / m) * np.dot(X, dz.T)\n",
    "        derivative_bias = (1 / m) * np.sum(dz)\n",
    "\n",
    "        return cost, derivative_weights, derivative_bias\n",
    "\n",
    "    def __gradient_descent(self, X, Y, W, b, alpha, num_iters, epsilon):        \n",
    "        # num of samples\n",
    "        m = X.shape[0]\n",
    "        # num of features\n",
    "        n = X.shape[1]\n",
    "\n",
    "        J_history = []\n",
    "\n",
    "        for i in range(num_iters):\n",
    "            J, delta_weights, delta_bias = self.__forward_backward_propagation(X, Y, W, b)\n",
    "\n",
    "            W = W - alpha * delta_weights\n",
    "            b = b - alpha * delta_bias\n",
    "\n",
    "            if i % 100 == 0:\n",
    "                print(f\"{i} iteration: {J}\")\n",
    "\n",
    "            J_history.append(J)\n",
    "\n",
    "        return W, b, J_history"
   ]
  },
  {
   "cell_type": "code",
   "execution_count": 150,
   "metadata": {},
   "outputs": [],
   "source": [
    "class AttackNoise():\n",
    "    # Targeted Fast Gradient Sign Method Attack\n",
    "    def attack(self, X_vert, Y_vert_true, predict_func, max_perturbation=1, values_range=(0, 255)):\n",
    "        self.X_ = X_vert.T\n",
    "        self.Y_ = np.expand_dims(Y_vert_true, axis=1)\n",
    "        \n",
    "        self.perturbation = max_perturbation\n",
    "        self.values_range = values_range\n",
    "\n",
    "        self.X_ = self.__add_noise(self.X_, self.Y_, predict_func)                \n",
    "        return self.X_\n",
    "   \n",
    "    def __generate_noise(self, m, n):\n",
    "        return np.random.uniform(low=-1, high=1, size=(m, n)) * self.perturbation\n",
    "\n",
    "    def __is_tricked(self, X, Y, predict_func):\n",
    "        # true class position\n",
    "        true_class = np.argmax(Y[:, 0] != 0)\n",
    "\n",
    "        if (predict_func(np.array(X))[0] == true_class):\n",
    "            return False\n",
    "        return True\n",
    "    \n",
    "    def __add_noise(self, X, Y, predict_func):\n",
    "        # num of features\n",
    "        m = X.shape[0]\n",
    "        # num of samples\n",
    "        n = X.shape[1]\n",
    "\n",
    "        noise = self.__generate_noise(m, n);\n",
    "        \n",
    "        X = X + noise\n",
    "\n",
    "        X[X > 1] = 1\n",
    "        X[X < 0] = 0\n",
    "                        \n",
    "        if self.__is_tricked(X.T, Y, predict_func) == True:\n",
    "            self.tricked = True\n",
    "        else:\n",
    "            self.tricked = False\n",
    "        \n",
    "        X_vert = X.T\n",
    "        return X_vert"
   ]
  },
  {
   "cell_type": "code",
   "execution_count": 239,
   "metadata": {},
   "outputs": [],
   "source": [
    "class AttackTIFGSM():\n",
    "    # Targeted Fast Gradient Sign Method Attack\n",
    "    def attack(self, X_vert, W, b, Y_vert_goal, predict_func, max_perturbation=1, max_iters=10, stop_when_tricked=True):\n",
    "        self.num_iters = 0\n",
    "        self.max_iters = max_iters\n",
    "        self.stop_when_tricked = stop_when_tricked\n",
    "        \n",
    "        self.W = W\n",
    "        self.b = b\n",
    "\n",
    "        self.Y_ = np.expand_dims(Y_vert_goal, axis=1)\n",
    "        self.X_ = X_vert.T\n",
    "        \n",
    "        self.X_ = self.__gradient_descent(self.X_, self.Y_, self.W, self.b, max_perturbation, predict_func)                \n",
    "        return self.X_\n",
    "            \n",
    "    def __stable_softmax(self, z):\n",
    "        exps = np.exp(z - np.max(z))\n",
    "        return exps / exps.sum(axis=0, keepdims=True)\n",
    "    \n",
    "    def __forward_backward_propagation(self, X, Y, W, b):\n",
    "        # forward propagation\n",
    "        m = X.shape[1]\n",
    "        z = np.dot(W.T,X) + b\n",
    "        A = self.__stable_softmax(z)\n",
    "\n",
    "        # backward propagation\n",
    "        dz = A - Y\n",
    "        derivative_x = (1 / m) * np.dot(W, dz)\n",
    "        return derivative_x\n",
    "\n",
    "    def __is_tricked(self, X, Y, predict_func):\n",
    "        # goal class position\n",
    "        goal_class = np.argmax(Y[:, 0] != 0)\n",
    "        if (predict_func(np.array(X))[0] != goal_class):\n",
    "            return False\n",
    "        return True\n",
    "    \n",
    "    def __gradient_descent(self, X, Y, W, b, max_perturbation, predict_func):        \n",
    "        # num of samples\n",
    "        m = X.shape[0]\n",
    "        # num of features\n",
    "        n = X.shape[1]\n",
    "        \n",
    "        alpha = max_perturbation / self.max_iters\n",
    "        \n",
    "        for i in range(self.max_iters):\n",
    "            delta_x = self.__forward_backward_propagation(X, Y, W, b)\n",
    "            X = X - alpha * np.sign(delta_x)\n",
    "            \n",
    "            X[X > 1] = 1\n",
    "            X[X < 0] = 0\n",
    "\n",
    "            self.num_iters += 1\n",
    "            \n",
    "            if self.stop_when_tricked and self.__is_tricked(X.T, Y, predict_func) == True:\n",
    "                break\n",
    "                \n",
    "        if self.__is_tricked(X.T, Y, predict_func) == True:\n",
    "            self.tricked = True\n",
    "        else:\n",
    "            self.tricked = False\n",
    "        \n",
    "        self.perturbation = alpha * self.num_iters\n",
    "        \n",
    "        X_vert = X.T\n",
    "        return X_vert"
   ]
  },
  {
   "cell_type": "code",
   "execution_count": 303,
   "metadata": {},
   "outputs": [],
   "source": [
    "class AttackIFGSM():\n",
    "    # Iterative Fast Gradient Sign Method Attack\n",
    "    def attack(self, X_vert, W, b, Y_vert_true, predict_func, max_perturbation=1, max_iters=10, stop_when_tricked=True):\n",
    "        self.num_iters = 0\n",
    "        self.max_iters = max_iters\n",
    "        self.stop_when_tricked = stop_when_tricked\n",
    "        \n",
    "        self.W = W\n",
    "        self.b = b\n",
    "\n",
    "        self.Y_ = np.expand_dims(Y_vert_true, axis=1)\n",
    "        self.X_ = X_vert.T\n",
    "        \n",
    "        self.X_ = self.__gradient_descent(self.X_, self.Y_, self.W, self.b, max_perturbation, predict_func)                \n",
    "        return self.X_\n",
    "    \n",
    "    def __softmax(self, z):\n",
    "        exps = np.exp(z)\n",
    "        return exps / exps.sum(axis=0, keepdims=True)\n",
    "   \n",
    "    def __stable_softmax(self, z):\n",
    "        exps = np.exp(z - np.max(z))\n",
    "        return exps / exps.sum(axis=0, keepdims=True)\n",
    "        \n",
    "    def __softmax_bigfloat(self, z):\n",
    "        z = np.array(z, dtype=Float)\n",
    "        exps = Float(np.e) ** z\n",
    "        return exps / exps.sum(axis=0, keepdims=True)\n",
    "    \n",
    "    def __forward_backward_propagation(self, X, Y, W, b):\n",
    "        # forward propagation\n",
    "        m = X.shape[1]\n",
    "        z = np.dot(W.T,X) + b\n",
    "        A = self.__stable_softmax(z)\n",
    "        \n",
    "        # backward propagation\n",
    "        dz = A - Y\n",
    "        derivative_x = (1 / m) * np.dot(W, dz)\n",
    "        return np.array(derivative_x, dtype=float)\n",
    "\n",
    "    def __is_tricked(self, X, Y, predict_func):\n",
    "        # goal class position\n",
    "        true_class = np.argmax(Y[:, 0] != 0)\n",
    "        if (predict_func(np.array(X))[0] == true_class):\n",
    "            return False\n",
    "        return True\n",
    "\n",
    "    def __gradient_descent(self, X, Y, W, b, max_perturbation, predict_func):        \n",
    "        # num of samples\n",
    "        m = X.shape[0]\n",
    "        # num of features\n",
    "        n = X.shape[1]\n",
    "        \n",
    "        #while (not self.__is_tricked(X.T, Y, predict_func)) and (self.num_iters < self.max_iters):\n",
    "        alpha = max_perturbation / self.max_iters\n",
    "        \n",
    "        for i in range(self.max_iters):\n",
    "            delta_x = self.__forward_backward_propagation(X, Y, W, b)\n",
    "            X = X + alpha * np.sign(delta_x)\n",
    "            \n",
    "            X[X > 1] = 1\n",
    "            X[X < 0] = 0\n",
    "\n",
    "            self.num_iters += 1\n",
    "            \n",
    "            if self.stop_when_tricked and self.__is_tricked(X.T, Y, predict_func) == True:\n",
    "                break\n",
    "                \n",
    "        if self.__is_tricked(X.T, Y, predict_func) == True:\n",
    "            self.tricked = True\n",
    "        else:\n",
    "            self.tricked = False\n",
    "        \n",
    "        self.perturbation = alpha * self.num_iters\n",
    "        \n",
    "        X_vert = X.T\n",
    "        return X_vert"
   ]
  },
  {
   "cell_type": "code",
   "execution_count": 256,
   "metadata": {},
   "outputs": [],
   "source": [
    "class AttackFGSM():\n",
    "    # Iterative Fast Gradient Sign Method Attack\n",
    "    def attack(self, X_vert, W, b, Y_vert_true, predict_func, max_perturbation=1):\n",
    "        self.perturbation = max_perturbation\n",
    "        \n",
    "        self.W = W\n",
    "        self.b = b\n",
    "\n",
    "        self.Y_ = np.expand_dims(Y_vert_true, axis=1)\n",
    "        self.X_ = X_vert.T\n",
    "        \n",
    "        self.X_ = self.__gradient_descent(self.X_, self.Y_, self.W, self.b, predict_func)                \n",
    "        return self.X_\n",
    "    \n",
    "    def __stable_softmax(self, z):\n",
    "        exps = np.exp(z - np.max(z))\n",
    "        return exps / exps.sum(axis=0, keepdims=True)\n",
    "        \n",
    "    def __forward_backward_propagation(self, X, Y, W, b):\n",
    "        # forward propagation\n",
    "        m = X.shape[1]\n",
    "        z = np.dot(W.T,X) + b\n",
    "        A = self.__stable_softmax(z)\n",
    "        \n",
    "        # backward propagation\n",
    "        dz = A - Y\n",
    "        derivative_x = (1 / m) * np.dot(W, dz)\n",
    "        return np.array(derivative_x, dtype=float)\n",
    "\n",
    "    def __is_tricked(self, X, Y, predict_func):\n",
    "        # goal class position\n",
    "        true_class = np.argmax(Y[:, 0] != 0)\n",
    "        if (predict_func(np.array(X))[0] == true_class):\n",
    "            return False\n",
    "        return True\n",
    "\n",
    "    def __gradient_descent(self, X, Y, W, b, predict_func):        \n",
    "        m = X.shape[0]\n",
    "        n = X.shape[1]\n",
    "        \n",
    "        delta_x = self.__forward_backward_propagation(X, Y, W, b)\n",
    "        X = X + self.perturbation * np.sign(delta_x)\n",
    "            \n",
    "        X[X > 1] = 1\n",
    "        X[X < 0] = 0\n",
    "\n",
    "        if self.__is_tricked(X.T, Y, predict_func) == True:\n",
    "            self.tricked = True\n",
    "        else:\n",
    "            self.tricked = False\n",
    "        \n",
    "        X_vert = X.T\n",
    "        return X_vert"
   ]
  },
  {
   "cell_type": "code",
   "execution_count": null,
   "metadata": {},
   "outputs": [],
   "source": [
    "class AttackDeepFool():\n",
    "    # Deep Fool Attack\n",
    "    def attack(self, X_vert, W, b, Y_vert_true, predict_func, max_perturbation=1, max_iters=10, stop_when_tricked=True):\n",
    "        self.num_iters = 0\n",
    "        self.max_iters = max_iters\n",
    "        self.stop_when_tricked = stop_when_tricked\n",
    "        \n",
    "        self.W = W\n",
    "        self.b = b\n",
    "\n",
    "        self.Y_ = np.expand_dims(Y_vert_true, axis=1)\n",
    "        self.X_ = X_vert.T\n",
    "        \n",
    "        self.X_ = self.__gradient_descent(self.X_, self.Y_, self.W, self.b, max_perturbation, predict_func)                \n",
    "        return self.X_\n",
    "    \n",
    "    def __softmax(self, z):\n",
    "        exps = np.exp(z)\n",
    "        return exps / exps.sum(axis=0, keepdims=True)\n",
    "   \n",
    "    def __stable_softmax(self, z):\n",
    "        exps = np.exp(z - np.max(z))\n",
    "        return exps / exps.sum(axis=0, keepdims=True)\n",
    "        \n",
    "    def __softmax_bigfloat(self, z):\n",
    "        z = np.array(z, dtype=Float)\n",
    "        exps = Float(np.e) ** z\n",
    "        return exps / exps.sum(axis=0, keepdims=True)\n",
    "    \n",
    "    def __forward_backward_propagation(self, X, Y, W, b):\n",
    "        # forward propagation\n",
    "        m = X.shape[1]\n",
    "        z = np.dot(W.T,X) + b\n",
    "        A = self.__stable_softmax(z)\n",
    "        \n",
    "        # backward propagation\n",
    "        dz = A - Y\n",
    "        derivative_x = (1 / m) * np.dot(W, dz)\n",
    "        return np.array(derivative_x, dtype=float)\n",
    "\n",
    "    def __is_tricked(self, X, Y, predict_func):\n",
    "        # goal class position\n",
    "        true_class = np.argmax(Y[:, 0] != 0)\n",
    "        if (predict_func(np.array(X))[0] == true_class):\n",
    "            return False\n",
    "        return True\n",
    "\n",
    "    def __gradient_descent(self, X, Y, W, b, max_perturbation, predict_func):        \n",
    "        # num of samples\n",
    "        m = X.shape[0]\n",
    "        # num of features\n",
    "        n = X.shape[1]\n",
    "        \n",
    "        #while (not self.__is_tricked(X.T, Y, predict_func)) and (self.num_iters < self.max_iters):\n",
    "        alpha = max_perturbation / self.max_iters\n",
    "        \n",
    "        for i in range(self.max_iters):\n",
    "            delta_x = self.__forward_backward_propagation(X, Y, W, b)\n",
    "            X = X + alpha * np.sign(delta_x)\n",
    "            \n",
    "            X[X > 1] = 1\n",
    "            X[X < 0] = 0\n",
    "\n",
    "            self.num_iters += 1\n",
    "            \n",
    "            if self.stop_when_tricked and self.__is_tricked(X.T, Y, predict_func) == True:\n",
    "                break\n",
    "                \n",
    "        if self.__is_tricked(X.T, Y, predict_func) == True:\n",
    "            self.tricked = True\n",
    "        else:\n",
    "            self.tricked = False\n",
    "        \n",
    "        self.perturbation = alpha * self.num_iters\n",
    "        \n",
    "        X_vert = X.T\n",
    "        return X_vert"
   ]
  },
  {
   "cell_type": "code",
   "execution_count": 10,
   "metadata": {},
   "outputs": [
    {
     "name": "stdout",
     "output_type": "stream",
     "text": [
      "Dataset: X=(42000, 784), y=(42000, 1)\n"
     ]
    }
   ],
   "source": [
    "filename_test = \"./digit-recognizer/test.csv\"\n",
    "filename_train = \"./digit-recognizer/train.csv\"\n",
    "\n",
    "df_train = pd.read_csv(filename_train, delimiter=',')\n",
    "df_test = pd.read_csv(filename_test, delimiter=',')\n",
    "\n",
    "X = df_train.loc[:, df_train.columns != \"label\"]\n",
    "y = df_train.loc[:, df_train.columns == \"label\"]\n",
    "print('Dataset: X={}, y={}'.format(X.shape, y.shape))"
   ]
  },
  {
   "cell_type": "code",
   "execution_count": 11,
   "metadata": {},
   "outputs": [
    {
     "name": "stdout",
     "output_type": "stream",
     "text": [
      "Training set: X=(33600, 784), y=(33600, 1)\n",
      "Test set: X=(8400, 784), y=(8400, 1)\n"
     ]
    }
   ],
   "source": [
    "X_train, X_test, y_train, y_test = train_test_split(X, y, test_size = 0.2, shuffle = True, stratify = y)\n",
    "\n",
    "print('Training set: X={}, y={}'.format(X_train.shape, y_train.shape))\n",
    "print('Test set: X={}, y={}'.format(X_test.shape, y_test.shape))"
   ]
  },
  {
   "cell_type": "code",
   "execution_count": 12,
   "metadata": {},
   "outputs": [
    {
     "data": {
      "image/png": "[encoded data removed]",
      "text/plain": [
       "<Figure size 432x288 with 1 Axes>"
      ]
     },
     "metadata": {
      "needs_background": "light"
     },
     "output_type": "display_data"
    }
   ],
   "source": [
    "X_t =  X_train.values.reshape(-1,28,28,1)\n",
    "g = plt.imshow(X_t[0][:, :, 0], 'gray')"
   ]
  },
  {
   "cell_type": "code",
   "execution_count": 13,
   "metadata": {},
   "outputs": [],
   "source": [
    "from sklearn.preprocessing import OneHotEncoder\n",
    "encoder = OneHotEncoder()\n",
    "encoder.fit(y_train)\n",
    "\n",
    "Y_train = encoder.transform(y_train).toarray()\n",
    "y_labels = [x[3:] for x in  encoder.get_feature_names()]\n",
    "\n",
    "# encoder.fit(y_test)\n",
    "# Y_test = encoder.transform(y_test).toarray()"
   ]
  },
  {
   "cell_type": "code",
   "execution_count": 346,
   "metadata": {
    "scrolled": true
   },
   "outputs": [
    {
     "name": "stdout",
     "output_type": "stream",
     "text": [
      "0 iteration: 98.68221827117338\n",
      "100 iteration: 16.668592739788266\n",
      "200 iteration: 14.682138948345427\n",
      "300 iteration: 13.795254691797975\n",
      "400 iteration: 13.258221106507815\n",
      "500 iteration: 12.8853829558503\n",
      "600 iteration: 12.605104820088682\n",
      "700 iteration: 12.383068279446976\n",
      "800 iteration: 12.200519693764313\n",
      "900 iteration: 12.046245190715865\n"
     ]
    },
    {
     "data": {
      "image/png": "[encoded data removed]",
      "text/plain": [
       "<Figure size 432x288 with 1 Axes>"
      ]
     },
     "metadata": {
      "needs_background": "light"
     },
     "output_type": "display_data"
    },
    {
     "name": "stdout",
     "output_type": "stream",
     "text": [
      "11.914323733433374\n",
      "Wall time: 1min 39s\n"
     ]
    }
   ],
   "source": [
    "%%time\n",
    "lg = LogisticRegression(normalize=False)\n",
    "lg.fit(normalize(X_train), Y_train, 0.5, 1000, 1e-15)\n",
    "\n",
    "plot_J(lg.get_cost_history())\n",
    "print(lg.get_cost_history()[-1])"
   ]
  },
  {
   "cell_type": "code",
   "execution_count": 305,
   "metadata": {},
   "outputs": [
    {
     "data": {
      "text/plain": [
       "array([0, 1, 1, ..., 3, 0, 0])"
      ]
     },
     "execution_count": 305,
     "metadata": {},
     "output_type": "execute_result"
    }
   ],
   "source": [
    "y_pred = lg.predict(normalize(X_test))\n",
    "y_pred"
   ]
  },
  {
   "cell_type": "code",
   "execution_count": null,
   "metadata": {},
   "outputs": [],
   "source": []
  },
  {
   "cell_type": "code",
   "execution_count": 16,
   "metadata": {},
   "outputs": [],
   "source": [
    "# n = len(y_labels)"
   ]
  },
  {
   "cell_type": "code",
   "execution_count": 17,
   "metadata": {},
   "outputs": [],
   "source": [
    "# X_test_norm = (X_test - lg.get_mean()) / lg.get_std()\n",
    "\n",
    "# num = 0\n",
    "# den = 0\n",
    "# iter_res_dict = {}\n",
    "# y = np.zeros(n)\n",
    "\n",
    "\n",
    "\n",
    "# for i in range(10):\n",
    "#     x = np.expand_dims(X_test_norm.iloc[i, :], axis=0)\n",
    "#     for j in range(len(y_labels)):\n",
    "#         y = np.zeros(n)\n",
    "#         y[j] = 1\n",
    "#         for k in range(100):\n",
    "#             iters, result  = get_trick_iteration(x, y_labels, k, 0.01, goal=y, model=lg)\n",
    "#             #if (iters == 10):\n",
    "#             #    print(i, y)\n",
    "#             if iters in iter_res_dict.keys():\n",
    "#                 iter_res_dict[iters][\"appearance_count\"] += 1 \n",
    "#                 iter_res_dict[iters][\"success_count\"] += result\n",
    "\n",
    "#             else:\n",
    "#                 iter_res_dict.update({iters: {\"appearance_count\": 1, \"success_count\": result} })\n",
    "    \n",
    "# success_rate = {}\n",
    "# for key, value in iter_res_dict.items():\n",
    "#     success_rate[key] = value[\"success_count\"] / value[\"appearance_count\"] * 100\n",
    "        \n",
    "# #print(num / den)\n",
    "# #print(iter_res_dict)\n",
    "# #print(success_rate)\n",
    "\n",
    "# line1, = plt.plot(list(success_rate.keys()), list(success_rate.values()), linestyle='-', linewidth=1, color='blue', label='I-FGSM')\n",
    "# plt.legend(loc=\"upper right\")\n"
   ]
  },
  {
   "cell_type": "code",
   "execution_count": 253,
   "metadata": {},
   "outputs": [],
   "source": [
    "from matplotlib import rc\n",
    "def show_adversarial_sample(x, y_labels, true_class=[], model=None, \n",
    "                            attack_model=None, \n",
    "                            max_perturbation=10, \n",
    "                            max_iters=10):\n",
    "\n",
    "    x_normalized = normalize(x)\n",
    "    attack = attack_model()\n",
    "\n",
    "    if type(attack).__name__ == 'AttackNoise':\n",
    "        x_adv_normalized = attack.attack(x_normalized, true_class, model.predict, max_perturbation=max_perturbation)\n",
    "    elif type(attack).__name__ in ['AttackIFGSM', 'AttackTIFGSM']:\n",
    "        x_adv_normalized = attack.attack(x_normalized, lg.W, lg.b, true_class, lg.predict, \n",
    "                                         max_perturbation=max_perturbation,\n",
    "                                         max_iters=max_iters,\n",
    "                                         stop_when_tricked=True)\n",
    "    elif type(attack).__name__ in ['AttackFGSM']:\n",
    "        x_adv_normalized = attack.attack(x_normalized, lg.W, lg.b, true_class, lg.predict, \n",
    "                                         max_perturbation=max_perturbation)\n",
    "\n",
    "    x_adv = denormalize(x_adv_normalized)\n",
    "    x_adv_pred = lg.predict(np.array(x_adv_normalized))\n",
    "    \n",
    "    fig, (ax1, ax2, ax3) = plt.subplots(1, 3, squeeze=True, sharex=True, sharey=True)\n",
    "    fig.set_size_inches(15,5)\n",
    "    fig.suptitle('Adversarial example')\n",
    "    \n",
    "    ax1.imshow(x.reshape(28,28), 'gray')\n",
    "    ax1.set_title(f\"Original\\n prediction: {lg.predict(x_normalized)[0]}\")\n",
    "    \n",
    "    ax2.imshow(x.reshape(28,28) - x_adv.reshape(28,28), \"gray\")\n",
    "    ax2.set_title(f\"Difference\")\n",
    "    \n",
    "    ax3.imshow(x_adv.reshape(28,28), 'gray')\n",
    "    ax3.set_title(f\"Adversarial\\n prediction: {x_adv_pred[0]}\")\n",
    "    plt.show()\n",
    "\n",
    "    pred_with_labels = lg.predict_by_labels(np.array(x_adv_normalized), y_labels)\n",
    "    plt.bar(pred_with_labels[0].keys(), pred_with_labels[0].values())\n",
    "    plt.show()\n",
    "    \n",
    "    print(f\"Perturbation: {attack.perturbation}; Result: {attack.tricked}\")\n",
    "    print(f\"Max value: {max(max(x_adv))}\")\n",
    "    print(f\"Min value: {min(min(x_adv))}\")\n",
    "    print(f\"Max perturbation: {max(max( x - x_adv ))}\")"
   ]
  },
  {
   "cell_type": "code",
   "execution_count": 311,
   "metadata": {},
   "outputs": [],
   "source": [
    "def untargeted_attack_benchmark(X, y_labels, model=None, attack_model=None, samples=100):\n",
    "    X_norm = normalize(X)\n",
    "    iter_res_dict = {}\n",
    "\n",
    "    max_perturbs = np.linspace(0.1, 0.5, num=20)\n",
    "    print(f\"Perturbations list: {max_perturbs}\")\n",
    "\n",
    "    for i in range(samples):\n",
    "        x_normalized = np.expand_dims(X_norm.iloc[i, :], axis=0)\n",
    "        y = np.zeros(len(y_labels))\n",
    "        true_class_pos = model.predict(x_normalized)\n",
    "        y[true_class_pos] = 1\n",
    "\n",
    "        for max_perturb in max_perturbs:\n",
    "            attack = attack_model()\n",
    "            if type(attack).__name__ == 'AttackNoise':\n",
    "                attack.attack(x_normalized, y, model.predict, max_perturbation=max_perturb)\n",
    "            elif type(attack).__name__ in ['AttackIFGSM', 'AttackTIFGSM']:\n",
    "                attack.attack(x_normalized, model.W, model.b, y, \n",
    "                              model.predict, \n",
    "                              max_perturbation=max_perturb,\n",
    "                              max_iters=10, \n",
    "                              stop_when_tricked=False)\n",
    "            elif type(attack).__name__ in ['AttackFGSM']:\n",
    "                attack.attack(x_normalized, model.W, model.b, y, \n",
    "                              model.predict, \n",
    "                              max_perturbation=max_perturb)\n",
    "\n",
    "            perturbation, success = attack.perturbation, attack.tricked\n",
    "            #print(i, perturbation, success, y)\n",
    "\n",
    "            if perturbation in iter_res_dict.keys():\n",
    "                iter_res_dict[perturbation][\"appearance_count\"] += 1\n",
    "                iter_res_dict[perturbation][\"success_count\"] += success\n",
    "            else:\n",
    "                iter_res_dict.update({perturbation: {\"appearance_count\": 1, \"success_count\": success} })\n",
    "\n",
    "    success_rate = {}\n",
    "    for key, value in iter_res_dict.items():\n",
    "        success_rate[key] = value[\"success_count\"] / value[\"appearance_count\"] * 100\n",
    "\n",
    "    perturbations_list = [x[0] for x in sorted(success_rate.items(), key=lambda x: x[0]) ]\n",
    "    successrate_list = [x[1] for x in sorted(success_rate.items(), key=lambda x: x[0]) ]\n",
    "\n",
    "    plt.plot(perturbations_list, successrate_list, linestyle='-', linewidth=1, color='blue', label=str(type(attack).__name__))\n",
    "    plt.legend(loc=\"lower right\")\n",
    "    return perturbations_list, successrate_list"
   ]
  },
  {
   "cell_type": "code",
   "execution_count": 329,
   "metadata": {},
   "outputs": [],
   "source": [
    "correct_pred_idx = np.array(y_test.iloc[:, 0]) == y_pred"
   ]
  },
  {
   "cell_type": "markdown",
   "metadata": {},
   "source": [
    "### Targeted FGSM Benchmark"
   ]
  },
  {
   "cell_type": "code",
   "execution_count": 342,
   "metadata": {},
   "outputs": [
    {
     "name": "stdout",
     "output_type": "stream",
     "text": [
      "Perturbations list: [0.1        0.12105263 0.14210526 0.16315789 0.18421053 0.20526316\n",
      " 0.22631579 0.24736842 0.26842105 0.28947368 0.31052632 0.33157895\n",
      " 0.35263158 0.37368421 0.39473684 0.41578947 0.43684211 0.45789474\n",
      " 0.47894737 0.5       ]\n"
     ]
    },
    {
     "data": {
      "image/png": "[encoded data removed]",
      "text/plain": [
       "<Figure size 432x288 with 1 Axes>"
      ]
     },
     "metadata": {
      "needs_background": "light"
     },
     "output_type": "display_data"
    }
   ],
   "source": [
    "x1, y1 = untargeted_attack_benchmark(X_test[correct_pred_idx], y_labels, model=lg, attack_model=AttackIFGSM, samples=1000)"
   ]
  },
  {
   "cell_type": "code",
   "execution_count": 343,
   "metadata": {},
   "outputs": [
    {
     "name": "stdout",
     "output_type": "stream",
     "text": [
      "Perturbations list: [0.1        0.12105263 0.14210526 0.16315789 0.18421053 0.20526316\n",
      " 0.22631579 0.24736842 0.26842105 0.28947368 0.31052632 0.33157895\n",
      " 0.35263158 0.37368421 0.39473684 0.41578947 0.43684211 0.45789474\n",
      " 0.47894737 0.5       ]\n"
     ]
    },
    {
     "data": {
      "image/png": "[encoded data removed]",
      "text/plain": [
       "<Figure size 432x288 with 1 Axes>"
      ]
     },
     "metadata": {
      "needs_background": "light"
     },
     "output_type": "display_data"
    }
   ],
   "source": [
    "x2, y2 = untargeted_attack_benchmark(X_test[correct_pred_idx], y_labels, model=lg, attack_model=AttackFGSM, samples=1000)"
   ]
  },
  {
   "cell_type": "code",
   "execution_count": 344,
   "metadata": {},
   "outputs": [
    {
     "name": "stdout",
     "output_type": "stream",
     "text": [
      "Perturbations list: [0.1        0.12105263 0.14210526 0.16315789 0.18421053 0.20526316\n",
      " 0.22631579 0.24736842 0.26842105 0.28947368 0.31052632 0.33157895\n",
      " 0.35263158 0.37368421 0.39473684 0.41578947 0.43684211 0.45789474\n",
      " 0.47894737 0.5       ]\n"
     ]
    },
    {
     "data": {
      "image/png": "[encoded data removed]",
      "text/plain": [
       "<Figure size 432x288 with 1 Axes>"
      ]
     },
     "metadata": {
      "needs_background": "light"
     },
     "output_type": "display_data"
    }
   ],
   "source": [
    "x3, y3 = untargeted_attack_benchmark(X_test[correct_pred_idx], y_labels, model=lg, attack_model=AttackNoise, samples=1000)"
   ]
  },
  {
   "cell_type": "code",
   "execution_count": 345,
   "metadata": {},
   "outputs": [
    {
     "data": {
      "text/plain": [
       "[<matplotlib.lines.Line2D at 0x1c1cfb6f948>]"
      ]
     },
     "execution_count": 345,
     "metadata": {},
     "output_type": "execute_result"
    },
    {
     "data": {
      "image/png": "[encoded data removed]",
      "text/plain": [
       "<Figure size 432x288 with 1 Axes>"
      ]
     },
     "metadata": {
      "needs_background": "light"
     },
     "output_type": "display_data"
    }
   ],
   "source": [
    "plt.plot(np.array(x1), y1)\n",
    "plt.plot(np.array(x2), y2, '--')\n",
    "plt.plot(np.array(x3), y3)"
   ]
  },
  {
   "cell_type": "markdown",
   "metadata": {},
   "source": [
    "### Untargeted Noise Attack"
   ]
  },
  {
   "cell_type": "code",
   "execution_count": 232,
   "metadata": {},
   "outputs": [
    {
     "data": {
      "image/png": "[encoded data removed]",
      "text/plain": [
       "<Figure size 1080x360 with 3 Axes>"
      ]
     },
     "metadata": {
      "needs_background": "light"
     },
     "output_type": "display_data"
    },
    {
     "data": {
      "image/png": "[encoded data removed]",
      "text/plain": [
       "<Figure size 432x288 with 1 Axes>"
      ]
     },
     "metadata": {
      "needs_background": "light"
     },
     "output_type": "display_data"
    },
    {
     "name": "stdout",
     "output_type": "stream",
     "text": [
      "Perturbation: 0.5; Result: True\n",
      "Max value: 255.0\n",
      "Min value: 0.0\n",
      "Max perturbation: 118.10909396524569\n"
     ]
    }
   ],
   "source": [
    "index = 38\n",
    "x = np.expand_dims(X_test.iloc[index, :], axis=0)\n",
    "y = np.zeros(len(y_labels))\n",
    "\n",
    "true_class = lg.predict(normalize(x))\n",
    "y[true_class] = 1\n",
    "\n",
    "show_adversarial_sample(x, y_labels, true_class=y, model=lg, attack_model=AttackNoise, max_perturbation=0.5)"
   ]
  },
  {
   "cell_type": "markdown",
   "metadata": {},
   "source": [
    "### Untargeted AttackFGSM"
   ]
  },
  {
   "cell_type": "code",
   "execution_count": 261,
   "metadata": {},
   "outputs": [
    {
     "data": {
      "image/png": "[encoded data removed]",
      "text/plain": [
       "<Figure size 1080x360 with 3 Axes>"
      ]
     },
     "metadata": {
      "needs_background": "light"
     },
     "output_type": "display_data"
    },
    {
     "data": {
      "image/png": "[encoded data removed]",
      "text/plain": [
       "<Figure size 432x288 with 1 Axes>"
      ]
     },
     "metadata": {
      "needs_background": "light"
     },
     "output_type": "display_data"
    },
    {
     "name": "stdout",
     "output_type": "stream",
     "text": [
      "Perturbation: 1; Result: True\n",
      "Max value: 255.0\n",
      "Min value: 0.0\n",
      "Max perturbation: 255.0\n"
     ]
    }
   ],
   "source": [
    "index = 38\n",
    "x = np.expand_dims(X_test.iloc[index, :], axis=0)\n",
    "y = np.zeros(len(y_labels))\n",
    "\n",
    "true_class = lg.predict(normalize(x))\n",
    "y[true_class] = 1\n",
    "\n",
    "show_adversarial_sample(x, y_labels, true_class=y, model=lg, attack_model=AttackFGSM, max_perturbation=1)"
   ]
  },
  {
   "cell_type": "markdown",
   "metadata": {},
   "source": [
    "### Untargeted I-FGSM"
   ]
  },
  {
   "cell_type": "code",
   "execution_count": 235,
   "metadata": {},
   "outputs": [
    {
     "data": {
      "image/png": "[encoded data removed]",
      "text/plain": [
       "<Figure size 1080x360 with 3 Axes>"
      ]
     },
     "metadata": {
      "needs_background": "light"
     },
     "output_type": "display_data"
    },
    {
     "data": {
      "image/png": "[encoded data removed]",
      "text/plain": [
       "<Figure size 432x288 with 1 Axes>"
      ]
     },
     "metadata": {
      "needs_background": "light"
     },
     "output_type": "display_data"
    },
    {
     "name": "stdout",
     "output_type": "stream",
     "text": [
      "Perturbation: 0.21; Result: True\n",
      "Max value: 255.0\n",
      "Min value: 0.0\n",
      "Max perturbation: 53.55000000000007\n"
     ]
    }
   ],
   "source": [
    "index = 0\n",
    "x = np.expand_dims(X_test.iloc[index, :], axis=0)\n",
    "y = np.zeros(len(y_labels))\n",
    "\n",
    "true_class = lg.predict(normalize(x))\n",
    "y[true_class] = 1\n",
    "\n",
    "show_adversarial_sample(x, y_labels, true_class=y, model=lg, attack_model=AttackIFGSM, max_perturbation=1, max_iters=100)"
   ]
  },
  {
   "cell_type": "markdown",
   "metadata": {},
   "source": [
    "### Targeted FGSM"
   ]
  },
  {
   "cell_type": "code",
   "execution_count": 240,
   "metadata": {},
   "outputs": [
    {
     "data": {
      "image/png": "[encoded data removed]",
      "text/plain": [
       "<Figure size 1080x360 with 3 Axes>"
      ]
     },
     "metadata": {
      "needs_background": "light"
     },
     "output_type": "display_data"
    },
    {
     "data": {
      "image/png": "[encoded data removed]",
      "text/plain": [
       "<Figure size 432x288 with 1 Axes>"
      ]
     },
     "metadata": {
      "needs_background": "light"
     },
     "output_type": "display_data"
    },
    {
     "name": "stdout",
     "output_type": "stream",
     "text": [
      "Perturbation: 0.245; Result: True\n",
      "Max value: 255.0\n",
      "Min value: 0.0\n",
      "Max perturbation: 62.47500000000008\n"
     ]
    }
   ],
   "source": [
    "index = 1\n",
    "x = np.expand_dims(X_test.iloc[index, :], axis=0)\n",
    "y = np.zeros(len(y_labels))\n",
    "y[9] = 1\n",
    "\n",
    "show_adversarial_sample(x, y_labels, true_class=y, model=lg, attack_model=AttackTIFGSM, max_perturbation=0.5, max_iters=100)"
   ]
  },
  {
   "cell_type": "code",
   "execution_count": 284,
   "metadata": {},
   "outputs": [
    {
     "name": "stdout",
     "output_type": "stream",
     "text": [
      "[0 1 1 ... 3 0 0]\n",
      "    y_pred  y_real\n",
      "0        0       0\n",
      "1        1       1\n",
      "2        1       1\n",
      "3        4       4\n",
      "4        0       0\n",
      "5        8       8\n",
      "6        0       0\n",
      "7        9       9\n",
      "8        8       8\n",
      "9        0       0\n",
      "10       3       3\n",
      "11       6       6\n",
      "12       3       3\n",
      "13       6       6\n",
      "14       6       6\n",
      "15       3       3\n",
      "16       6       6\n",
      "17       1       6\n",
      "18       5       5\n",
      "19       8       8\n"
     ]
    }
   ],
   "source": [
    "y_real = np.array(y_test.iloc[:, 0])\n",
    "\n",
    "comp = pd.DataFrame({\"y_pred\": y_pred, \"y_real\": y_real})\n",
    "print(comp.head(20))"
   ]
  },
  {
   "cell_type": "code",
   "execution_count": 306,
   "metadata": {},
   "outputs": [
    {
     "name": "stdout",
     "output_type": "stream",
     "text": [
      "Root mean squared error: 1.4227380952380952\n",
      "Mean squared error: 1.1927858547275345\n",
      "Mean absolute error: 0.30273809523809525\n",
      "Coefficient of determination: 0.8293950985557347\n",
      "Accuracy: 91%\n"
     ]
    }
   ],
   "source": [
    "from sklearn.metrics import mean_squared_error\n",
    "from sklearn.metrics import mean_absolute_error\n",
    "from sklearn.metrics import r2_score\n",
    "rmse = mean_squared_error(y_real, y_pred, squared=True)\n",
    "mse = mean_squared_error(y_real, y_pred, squared=False)\n",
    "mae = mean_absolute_error(y_real, y_pred)\n",
    "r2 = r2_score(y_real, y_pred)\n",
    "accuracy = int(sum(y_real == y_pred) / len(y_pred) * 100)\n",
    "\n",
    "\n",
    "#print(f'Coefficients\\n {theta}')\n",
    "print(f'Root mean squared error: {rmse}')\n",
    "print(f'Mean squared error: {mse}')\n",
    "print(f'Mean absolute error: {mae}')\n",
    "print(f'Coefficient of determination: {r2}')\n",
    "print(f\"Accuracy: {accuracy}%\")"
   ]
  },
  {
   "cell_type": "code",
   "execution_count": 243,
   "metadata": {},
   "outputs": [],
   "source": [
    "# import numpy as np\n",
    "# import matplotlib.pyplot as plt\n",
    "\n",
    "\n",
    "# # Example data\n",
    "# t = np.arange(0.0, 1.0 + 0.01, 0.01)\n",
    "# s = np.cos(4 * np.pi * t) + 2\n",
    "\n",
    "# plt.rc('text', usetex=True)\n",
    "# plt.rc('font', family='serif')\n",
    "# plt.plot(t, s)\n",
    "\n",
    "# plt.xlabel(r'\\textbf{time} (s)')\n",
    "# plt.ylabel(r'\\textit{voltage} (mV)',fontsize=16)\n",
    "# plt.title(r\"\\TeX\\ is Number \"\n",
    "#           r\"$\\displaystyle\\sum_{n=1}^\\infty\\frac{-e^{i\\pi}}{2^n}$!\",\n",
    "#           fontsize=16, color='gray')\n",
    "# # Make room for the ridiculously large title.\n",
    "# plt.subplots_adjust(top=0.8)\n",
    "\n",
    "# # plt.savefig('tex_demo')\n",
    "# # plt.show()"
   ]
  }
 ],
 "metadata": {
  "kernelspec": {
   "display_name": "Python 3.7.6 64-bit",
   "language": "python",
   "name": "python37664bit72af3e13b1864d0a85758af773701f9c"
  },
  "language_info": {
   "codemirror_mode": {
    "name": "ipython",
    "version": 3
   },
   "file_extension": ".py",
   "mimetype": "text/x-python",
   "name": "python",
   "nbconvert_exporter": "python",
   "pygments_lexer": "ipython3",
   "version": "3.7.6"
  }
 },
 "nbformat": 4,
 "nbformat_minor": 4
}
