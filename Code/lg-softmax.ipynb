{
 "cells": [
  {
   "cell_type": "code",
   "execution_count": 1,
   "metadata": {},
   "outputs": [],
   "source": [
    "import numpy as np\n",
    "import pandas as pd\n",
    "import seaborn as sns\n",
    "\n",
    "from sklearn.model_selection import train_test_split\n",
    "from sklearn.metrics import mean_squared_error, r2_score\n",
    "\n",
    "import matplotlib.pyplot as plt\n",
    "%matplotlib inline"
   ]
  },
  {
   "cell_type": "code",
   "execution_count": 2,
   "metadata": {},
   "outputs": [],
   "source": [
    "def plot_J(J_history):\n",
    "    x = np.arange(0, len(J_history))\n",
    "    plt.plot(x, J_history)\n",
    "    plt.show()"
   ]
  },
  {
   "cell_type": "code",
   "execution_count": 77,
   "metadata": {},
   "outputs": [],
   "source": [
    "from sklearn.base import BaseEstimator, ClassifierMixin\n",
    "from sklearn.utils.validation import check_X_y, check_array, check_is_fitted\n",
    "from sklearn.utils.multiclass import unique_labels\n",
    "\n",
    "class LogisticRegression():\n",
    "    def __init__(self, normalize=True):\n",
    "        self.normalize = normalize\n",
    "        self.__mean = None\n",
    "        self.__std = None\n",
    "    \n",
    "    def get_mean(self):\n",
    "        return self.__mean\n",
    "    \n",
    "    def get_std(self):\n",
    "        return self.__std\n",
    "    \n",
    "    def fit(self, X_vert, Y_vert, alpha, num_iters, epsilon):\n",
    "        # X transformations\n",
    "        if self.normalize == True:\n",
    "            self.X_ = self.__normalize(X_vert)\n",
    "        else:\n",
    "            self.X_ = X_vert\n",
    "        self.X_ = self.X_.T\n",
    " \n",
    "        # Y transformations\n",
    "        self.Y_ = Y_vert.T\n",
    "\n",
    "        self.W = np.full(( self.X_.shape[0],self.Y_.shape[0]),0.01)\n",
    "        self.b = 0.0\n",
    "        self.W, self.b, self.Js = self.__gradient_descent(self.X_, self.Y_, self.W, self.b, alpha, num_iters, epsilon)\n",
    "\n",
    "    def predict(self, X):\n",
    "        # Check is fit had been called\n",
    "        check_is_fitted(self)\n",
    "        # Input validation\n",
    "        X = check_array(X)\n",
    "\n",
    "        if self.normalize:\n",
    "            X_norm = (X - self.__mean) / self.__std\n",
    "            z = self.__stable_softmax(np.dot(self.W.T,X_norm.T)+self.b)\n",
    "        else:\n",
    "            z = self.__stable_softmax(np.dot(self.W.T,X.T)+self.b)\n",
    "    \n",
    "        y_pred = np.zeros(z.shape[1], dtype=int)\n",
    "        for i in range(z.shape[1]):\n",
    "            y_pred[i] = np.argmax(z[:, i])    \n",
    "        \n",
    "        return y_pred\n",
    "\n",
    "    def predict_by_labels(self, X, y_labels):\n",
    "        # Check is fit had been called\n",
    "        check_is_fitted(self)\n",
    "        # Input validation\n",
    "        X = check_array(X)\n",
    "        \n",
    "        if self.normalize:\n",
    "            X_norm = (X - self.__mean) / self.__std\n",
    "            z = self.__stable_softmax(np.dot(self.W.T,X_norm.T)+self.b)\n",
    "        else:\n",
    "            z = self.__stable_softmax(np.dot(self.W.T,X.T)+self.b)\n",
    "            \n",
    "        y_pred = np.full((z.shape[1]), {})\n",
    "        for i in range(z.shape[1]):\n",
    "            y_pred[i] = { y_labels[j]: z[j][i] for j in range(z.shape[0])}\n",
    "        return y_pred\n",
    "            \n",
    "    def get_cost_history(self):\n",
    "        check_is_fitted(self)\n",
    "        return self.Js\n",
    "\n",
    "    def __normalize(self, X):\n",
    "        if self.__mean is None and self.__std is None:\n",
    "            mean = np.zeros([X.shape[1]])\n",
    "            std  = np.ones([X.shape[1]])\n",
    "            \n",
    "            for i in range(X.shape[1]):\n",
    "                if (np.std(X.iloc[:, i]) != 0):\n",
    "                    mean[i] = np.mean(X.iloc[:, i])\n",
    "                    std[i] = np.std(X.iloc[:, i])\n",
    "            \n",
    "            self.__mean = mean\n",
    "            self.__std = std\n",
    "\n",
    "        X_new = (X - self.__mean) / self.__std\n",
    "        return X_new\n",
    "\n",
    "    def __cost_function(self, X, Y, A):\n",
    "        m = X.shape[0]\n",
    "        if m == 0:\n",
    "            return None\n",
    "        \n",
    "        J = (1 / m) * np.sum(-Y * np.log(A) - (1 - Y) * np.log(1 - A))\n",
    "        return J\n",
    "\n",
    "    def __cross_entropy(self, X, Y, A):\n",
    "        m = X.shape[0]\n",
    "        if m == 0:\n",
    "            return None\n",
    "        \n",
    "        J = (-1 / m) * np.sum(Y.T * np.log(A.T))\n",
    "        return J\n",
    "    \n",
    "    def __sigmoid(self, z):\n",
    "        return 1 / (1 + np.exp(-z))\n",
    "    \n",
    "    def __softmax(self, z):\n",
    "        exps = np.exp(z)\n",
    "        return exps / exps.sum(axis=0, keepdims=True)\n",
    "\n",
    "    def __stable_softmax(self, z):\n",
    "        exps = np.exp(z - np.max(z))\n",
    "        return exps / exps.sum(axis=0, keepdims=True)\n",
    "\n",
    "    def __forward_backward_propagation(self, X, Y, W, b):        \n",
    "        # forward propagation\n",
    "        m = X.shape[1]\n",
    "\n",
    "        z = np.dot(W.T,X) + b\n",
    "        A = self.__stable_softmax(z)\n",
    "        cost = self.__cross_entropy(X, Y, A)\n",
    "\n",
    "        # backward propagation\n",
    "        dz = A - Y\n",
    "        derivative_weights = (1 / m) * np.dot(X, dz.T)\n",
    "        derivative_bias = (1 / m) * np.sum(dz)\n",
    "\n",
    "        return cost, derivative_weights, derivative_bias\n",
    "\n",
    "    def __gradient_descent(self, X, Y, W, b, alpha, num_iters, epsilon):        \n",
    "        # num of samples\n",
    "        m = X.shape[0]\n",
    "        # num of features\n",
    "        n = X.shape[1]\n",
    "\n",
    "        J_history = []\n",
    "\n",
    "        for i in range(num_iters):\n",
    "            J, delta_weights, delta_bias = self.__forward_backward_propagation(X, Y, W, b)\n",
    "\n",
    "            W = W - alpha * delta_weights\n",
    "            b = b - alpha * delta_bias\n",
    "\n",
    "            if i % 100 == 0:\n",
    "                print(f\"{i} iteration: {J}\")\n",
    "\n",
    "            J_history.append(J)\n",
    "\n",
    "        return W, b, J_history"
   ]
  },
  {
   "cell_type": "code",
   "execution_count": 70,
   "metadata": {},
   "outputs": [],
   "source": [
    "from sklearn.base import BaseEstimator, ClassifierMixin\n",
    "from sklearn.utils.validation import check_X_y, check_array, check_is_fitted\n",
    "from sklearn.utils.multiclass import unique_labels\n",
    "\n",
    "class AttackFGSM():\n",
    "    # Fast Gradient Sign Method Attack\n",
    "    def __init__(self, normalize=False):\n",
    "        self.goal_assurance_history = []\n",
    "        self.__std = None\n",
    "        self.__mean = None\n",
    "\n",
    "    def fit(self, X_vert, W, b, Y_vert, alpha, max_iters, predict_func):\n",
    "        # Check that X and y have correct shape        \n",
    "        self.num_iters = 0\n",
    "        self.max_iters = max_iters\n",
    "        \n",
    "        self.W = W\n",
    "        self.b = b\n",
    "\n",
    "        self.Y_ = np.expand_dims(Y_vert.T, axis=1)\n",
    "        self.X_ = X_vert.T\n",
    "        \n",
    "        self.X_ = self.__gradient_descent(self.X_, self.Y_, self.W, self.b, alpha, predict_func)    \n",
    "            \n",
    "    # def get_adversarial_X(self):\n",
    "    #     if (not self.std is None) and (not self.mean is None):\n",
    "    #         return (self.X_ * self.std) + self.mean\n",
    "\n",
    "    def __cross_entropy(self, X, Y, A):\n",
    "        m = X.shape[0]\n",
    "        if m == 0:\n",
    "            return None\n",
    "        \n",
    "        J = (-1 / m) * np.sum(Y.T * np.log(A.T))\n",
    "        return J\n",
    "    \n",
    "    def __softmax(self, z):\n",
    "        exp_z = np.exp(z)\n",
    "        return exp_z / exp_z.sum(axis=0, keepdims=True)\n",
    "    \n",
    "    def __stable_softmax(self, z):\n",
    "        exps = np.exp(z - np.max(z))\n",
    "        return exps / exps.sum(axis=0, keepdims=True)\n",
    "    \n",
    "    def __forward_backward_propagation(self, X, Y, W, b):\n",
    "        # forward propagation\n",
    "        m = X.shape[1]\n",
    "        z = np.dot(W.T,X) + b\n",
    "        A = self.__stable_softmax(z)\n",
    "\n",
    "        # backward propagation\n",
    "        dz = A - Y\n",
    "        derivative_x = (1 / m) * np.dot(W, dz)\n",
    "        return derivative_x\n",
    "\n",
    "    def __is_tricked(self, X, Y, predict_func):\n",
    "        # goal class position\n",
    "        for i in range(Y.shape[1]):\n",
    "            goal_pos = np.argmax(Y[:, i] != 0)\n",
    "            if (predict_func(np.array(X))[i] != goal_pos):\n",
    "                return False\n",
    "        return True\n",
    "\n",
    "    def __gradient_descent(self, X, Y, W, b, alpha, predict_func):        \n",
    "        # num of samples\n",
    "        m = X.shape[0]\n",
    "        # num of features\n",
    "        n = X.shape[1]\n",
    "        \n",
    "        while (not self.__is_tricked(X.T, Y, predict_func)) and (self.num_iters < self.max_iters):\n",
    "            delta_x = self.__forward_backward_propagation(X, Y, W, b)\n",
    "            X = X - alpha * np.sign(delta_x)\n",
    "            \n",
    "            self.num_iters += 1       \n",
    "        \n",
    "        if self.__is_tricked(X.T, Y, predict_func) == True:\n",
    "            self.tricked = True\n",
    "        else:\n",
    "            self.tricked = False\n",
    "            \n",
    "        X_vert = X.T\n",
    "        return X_vert"
   ]
  },
  {
   "cell_type": "code",
   "execution_count": null,
   "metadata": {},
   "outputs": [],
   "source": []
  },
  {
   "cell_type": "code",
   "execution_count": 5,
   "metadata": {},
   "outputs": [
    {
     "name": "stdout",
     "output_type": "stream",
     "text": [
      "Dataset: X=(42000, 784), y=(42000, 1)\n"
     ]
    }
   ],
   "source": [
    "filename_test = \"./digit-recognizer/test.csv\"\n",
    "filename_train = \"./digit-recognizer/train.csv\"\n",
    "\n",
    "df_train = pd.read_csv(filename_train, delimiter=',')\n",
    "df_test = pd.read_csv(filename_test, delimiter=',')\n",
    "\n",
    "X = df_train.loc[:, df_train.columns != \"label\"]\n",
    "y = df_train.loc[:, df_train.columns == \"label\"]\n",
    "print('Dataset: X={}, y={}'.format(X.shape, y.shape))"
   ]
  },
  {
   "cell_type": "code",
   "execution_count": 6,
   "metadata": {},
   "outputs": [
    {
     "name": "stdout",
     "output_type": "stream",
     "text": [
      "Training set: X=(33600, 784), y=(33600, 1)\n",
      "Test set: X=(8400, 784), y=(8400, 1)\n"
     ]
    }
   ],
   "source": [
    "X_train, X_test, y_train, y_test = train_test_split(X, y, test_size = 0.2, shuffle = True, stratify = y)\n",
    "\n",
    "print('Training set: X={}, y={}'.format(X_train.shape, y_train.shape))\n",
    "print('Test set: X={}, y={}'.format(X_test.shape, y_test.shape))"
   ]
  },
  {
   "cell_type": "code",
   "execution_count": 7,
   "metadata": {},
   "outputs": [
    {
     "data": {
      "image/png": "[encoded data removed]",
      "text/plain": [
       "<Figure size 432x288 with 1 Axes>"
      ]
     },
     "metadata": {
      "needs_background": "light"
     },
     "output_type": "display_data"
    }
   ],
   "source": [
    "X_t =  X_train.values.reshape(-1,28,28,1)\n",
    "g = plt.imshow(X_t[0][:, :, 0], 'gray')"
   ]
  },
  {
   "cell_type": "code",
   "execution_count": 8,
   "metadata": {},
   "outputs": [],
   "source": [
    "from sklearn.preprocessing import OneHotEncoder\n",
    "encoder = OneHotEncoder()\n",
    "encoder.fit(y_train)\n",
    "\n",
    "Y_train = encoder.transform(y_train).toarray()\n",
    "y_labels = [x[3:] for x in  encoder.get_feature_names()]\n",
    "\n",
    "# encoder.fit(y_test)\n",
    "# Y_test = encoder.transform(y_test).toarray()"
   ]
  },
  {
   "cell_type": "code",
   "execution_count": 78,
   "metadata": {
    "scrolled": true
   },
   "outputs": [
    {
     "name": "stdout",
     "output_type": "stream",
     "text": [
      "0 iteration: 98.68221827117335\n",
      "100 iteration: 10.423974605160197\n",
      "200 iteration: 9.737128150101691\n",
      "300 iteration: 9.363136156002652\n",
      "400 iteration: 9.105805246791977\n",
      "500 iteration: 8.910168305157814\n",
      "600 iteration: 8.752863321444531\n",
      "700 iteration: 8.621711533612322\n",
      "800 iteration: 8.509543837053045\n",
      "900 iteration: 8.411780968192692\n"
     ]
    },
    {
     "data": {
      "image/png": "[encoded data removed]",
      "text/plain": [
       "<Figure size 432x288 with 1 Axes>"
      ]
     },
     "metadata": {
      "needs_background": "light"
     },
     "output_type": "display_data"
    },
    {
     "name": "stdout",
     "output_type": "stream",
     "text": [
      "8.326134977753387\n"
     ]
    }
   ],
   "source": [
    "lg = LogisticRegression(normalize=True)\n",
    "lg.fit(X_train, Y_train, 1, 1000, 1e-20)\n",
    "\n",
    "plot_J(lg.get_cost_history())\n",
    "print(lg.get_cost_history()[-1])"
   ]
  },
  {
   "cell_type": "code",
   "execution_count": 10,
   "metadata": {},
   "outputs": [
    {
     "data": {
      "text/plain": [
       "array([3, 3, 7, ..., 7, 4, 8])"
      ]
     },
     "execution_count": 10,
     "metadata": {},
     "output_type": "execute_result"
    }
   ],
   "source": [
    "y_pred = lg.predict(X_test)\n",
    "y_pred"
   ]
  },
  {
   "cell_type": "code",
   "execution_count": 87,
   "metadata": {},
   "outputs": [],
   "source": [
    "from matplotlib import rc\n",
    "def show_adversarial_sample(x, y_labels, num_iter, alpha, goal=[], model=lg):\n",
    "    attack = AttackFGSM()\n",
    "    attack.fit(x, lg.W, lg.b, goal, alpha, num_iter, lg.predict)\n",
    "    adv_pred = lg.predict(np.array( attack.X_))\n",
    "\n",
    "    fig, (ax1, ax2, ax3) = plt.subplots(1, 3, squeeze=True, sharex=True, sharey=True)\n",
    "    fig.set_size_inches(15,5)\n",
    "    fig.suptitle('Adversarial example')\n",
    "    \n",
    "    ax1.imshow(x.reshape(28,28), 'gray')\n",
    "    ax1.set_title(f\"Original\\n prediction: {lg.predict(x)[0]}\")\n",
    "    \n",
    "    ax2.imshow(x.reshape(28,28) - attack.X_.reshape(28,28), \"gray\")\n",
    "    ax2.set_title(f\"Difference\")\n",
    "    \n",
    "    ax3.imshow(attack.X_.reshape(28,28), 'gray')\n",
    "    ax3.set_title(f\"Adversarial\\n prediction: {adv_pred[0]}\")\n",
    "\n",
    "    plt.show()\n",
    "\n",
    "    pred_full = lg.predict_by_labels(np.array( attack.X_), y_labels)\n",
    "    plt.bar(pred_full[0].keys(), pred_full[0].values())\n",
    "    plot_J(attack.goal_assurance_history)\n",
    "    plt.show()\n",
    "    print(f\"Iterations: {attack.num_iters}; alpha: {alpha};\")"
   ]
  },
  {
   "cell_type": "code",
   "execution_count": 69,
   "metadata": {},
   "outputs": [],
   "source": [
    "def get_trick_iteration(x, y_labels, num_iter, alpha, goal=[], model=lg):\n",
    "    attack = AttackFGSM(normalize=True)\n",
    "    attack.fit(x, lg.W, lg.b, goal, alpha, num_iter, lg.predict)\n",
    "    adv_pred = lg.predict(np.array( attack.X_))\n",
    "    return attack.num_iters, attack.tricked"
   ]
  },
  {
   "cell_type": "code",
   "execution_count": 13,
   "metadata": {},
   "outputs": [],
   "source": [
    "n = len(y_labels)"
   ]
  },
  {
   "cell_type": "code",
   "execution_count": 90,
   "metadata": {},
   "outputs": [
    {
     "data": {
      "text/plain": [
       "<matplotlib.legend.Legend at 0x27344ea9648>"
      ]
     },
     "execution_count": 90,
     "metadata": {},
     "output_type": "execute_result"
    },
    {
     "data": {
      "image/png": "[encoded data removed]",
      "text/plain": [
       "<Figure size 432x288 with 1 Axes>"
      ]
     },
     "metadata": {
      "needs_background": "light"
     },
     "output_type": "display_data"
    }
   ],
   "source": [
    "X_test_norm = (X_test - lg.get_mean()) / lg.get_std()\n",
    "\n",
    "num = 0\n",
    "den = 0\n",
    "iter_res_dict = {}\n",
    "y = np.zeros(n)\n",
    "\n",
    "\n",
    "\n",
    "for i in range(100):\n",
    "    x = np.expand_dims(X_test_norm.iloc[i, :], axis=0)\n",
    "    for j in range(len(y_labels)):\n",
    "        y = np.zeros(n)\n",
    "        y[j] = 1\n",
    "        for k in range(100):\n",
    "            iters, result  = get_trick_iteration(x, y_labels, k, 0.01, goal=y, model=lg)\n",
    "            #if (iters == 10):\n",
    "            #    print(i, y)\n",
    "            if iters in iter_res_dict.keys():\n",
    "                iter_res_dict[iters][\"appearance_count\"] += 1 \n",
    "                iter_res_dict[iters][\"success_count\"] += result\n",
    "\n",
    "            else:\n",
    "                iter_res_dict.update({iters: {\"appearance_count\": 1, \"success_count\": result} })\n",
    "    \n",
    "success_rate = {}\n",
    "for key, value in iter_res_dict.items():\n",
    "    success_rate[key] = value[\"success_count\"] / value[\"appearance_count\"] * 100\n",
    "        \n",
    "#print(num / den)\n",
    "#print(iter_res_dict)\n",
    "#print(success_rate)\n",
    "\n",
    "line1, = plt.plot(list(success_rate.keys()), list(success_rate.values()), linestyle='-', linewidth=1, color='blue', label='I-FGSM')\n",
    "plt.legend(loc=\"upper right\")\n"
   ]
  },
  {
   "cell_type": "code",
   "execution_count": 15,
   "metadata": {},
   "outputs": [
    {
     "data": {
      "image/png": "[encoded data removed]",
      "text/plain": [
       "<Figure size 432x288 with 1 Axes>"
      ]
     },
     "metadata": {
      "needs_background": "light"
     },
     "output_type": "display_data"
    }
   ],
   "source": [
    "import numpy as np\n",
    "import matplotlib.pyplot as plt\n",
    "\n",
    "\n",
    "# Example data\n",
    "t = np.arange(0.0, 1.0 + 0.01, 0.01)\n",
    "s = np.cos(4 * np.pi * t) + 2\n",
    "\n",
    "plt.rc('text', usetex=True)\n",
    "plt.rc('font', family='serif')\n",
    "plt.plot(t, s)\n",
    "\n",
    "plt.xlabel(r'\\textbf{time} (s)')\n",
    "plt.ylabel(r'\\textit{voltage} (mV)',fontsize=16)\n",
    "plt.title(r\"\\TeX\\ is Number \"\n",
    "          r\"$\\displaystyle\\sum_{n=1}^\\infty\\frac{-e^{i\\pi}}{2^n}$!\",\n",
    "          fontsize=16, color='gray')\n",
    "# Make room for the ridiculously large title.\n",
    "plt.subplots_adjust(top=0.8)\n",
    "\n",
    "# plt.savefig('tex_demo')\n",
    "# plt.show()"
   ]
  },
  {
   "cell_type": "code",
   "execution_count": 61,
   "metadata": {},
   "outputs": [
    {
     "data": {
      "image/png": "[encoded data removed]",
      "text/plain": [
       "<Figure size 1080x360 with 3 Axes>"
      ]
     },
     "metadata": {
      "needs_background": "light"
     },
     "output_type": "display_data"
    },
    {
     "data": {
      "image/png": "[encoded data removed]",
      "text/plain": [
       "<Figure size 432x288 with 1 Axes>"
      ]
     },
     "metadata": {
      "needs_background": "light"
     },
     "output_type": "display_data"
    },
    {
     "name": "stdout",
     "output_type": "stream",
     "text": [
      "Iterations: 10; alpha: 1;\n"
     ]
    }
   ],
   "source": [
    "y = np.zeros(n)\n",
    "y[6] = 1\n",
    "index = 90\n",
    "x = np.expand_dims(X_test.iloc[index, :], axis=0)\n",
    "#x[0][0] = x[0][0] + 1000\n",
    "show_adversarial_sample(x, y_labels, 1000, 1, goal=y, model=lg)"
   ]
  },
  {
   "cell_type": "code",
   "execution_count": 56,
   "metadata": {},
   "outputs": [
    {
     "data": {
      "image/png": "[encoded data removed]",
      "text/plain": [
       "<Figure size 1080x360 with 3 Axes>"
      ]
     },
     "metadata": {
      "needs_background": "light"
     },
     "output_type": "display_data"
    },
    {
     "data": {
      "image/png": "[encoded data removed]",
      "text/plain": [
       "<Figure size 432x288 with 1 Axes>"
      ]
     },
     "metadata": {
      "needs_background": "light"
     },
     "output_type": "display_data"
    },
    {
     "name": "stdout",
     "output_type": "stream",
     "text": [
      "Iterations: 1; alpha: 1;\n"
     ]
    }
   ],
   "source": [
    "y = np.zeros(n)\n",
    "y[8] = 1\n",
    "index = 100\n",
    "x = np.expand_dims(X_test.iloc[index, :], axis=0)\n",
    "\n",
    "show_adversarial_sample(x, y_labels, 10, 1, goal=y, model=lg)"
   ]
  },
  {
   "cell_type": "code",
   "execution_count": 18,
   "metadata": {},
   "outputs": [
    {
     "name": "stdout",
     "output_type": "stream",
     "text": [
      "    y_pred  y_real\n",
      "0        3       3\n",
      "1        3       3\n",
      "2        7       7\n",
      "3        7       9\n",
      "4        4       4\n",
      "5        1       1\n",
      "6        0       0\n",
      "7        8       8\n",
      "8        4       4\n",
      "9        8       8\n",
      "10       5       5\n",
      "11       9       3\n",
      "12       0       0\n",
      "13       7       7\n",
      "14       7       7\n",
      "15       1       1\n",
      "16       0       0\n",
      "17       3       3\n",
      "18       8       8\n",
      "19       1       1\n"
     ]
    }
   ],
   "source": [
    "y_real = np.array(y_test.iloc[:, 0])\n",
    "\n",
    "comp = pd.DataFrame({\"y_pred\": y_pred, \"y_real\": y_real})\n",
    "print(comp.head(20))"
   ]
  },
  {
   "cell_type": "code",
   "execution_count": 19,
   "metadata": {},
   "outputs": [
    {
     "name": "stdout",
     "output_type": "stream",
     "text": [
      "Root mean squared error: 1.4325\n",
      "Mean squared error: 1.1968709203585823\n",
      "Mean absolute error: 0.30607142857142855\n",
      "Coefficient of determination: 0.8282191948443938\n",
      "Accuracy: 91%\n"
     ]
    }
   ],
   "source": [
    "from sklearn.metrics import mean_squared_error\n",
    "from sklearn.metrics import mean_absolute_error\n",
    "from sklearn.metrics import r2_score\n",
    "rmse = mean_squared_error(y_real, y_pred, squared=True)\n",
    "mse = mean_squared_error(y_real, y_pred, squared=False)\n",
    "mae = mean_absolute_error(y_real, y_pred)\n",
    "r2 = r2_score(y_real, y_pred)\n",
    "accuracy = int(sum(y_real == y_pred) / len(y_pred) * 100)\n",
    "\n",
    "\n",
    "#print(f'Coefficients\\n {theta}')\n",
    "print(f'Root mean squared error: {rmse}')\n",
    "print(f'Mean squared error: {mse}')\n",
    "print(f'Mean absolute error: {mae}')\n",
    "print(f'Coefficient of determination: {r2}')\n",
    "print(f\"Accuracy: {accuracy}%\")"
   ]
  }
 ],
 "metadata": {
  "kernelspec": {
   "display_name": "Python 3.7.6 64-bit",
   "language": "python",
   "name": "python37664bit94de08a6a54140b58f4cf3fb298ac5a9"
  },
  "language_info": {
   "codemirror_mode": {
    "name": "ipython",
    "version": 3
   },
   "file_extension": ".py",
   "mimetype": "text/x-python",
   "name": "python",
   "nbconvert_exporter": "python",
   "pygments_lexer": "ipython3",
   "version": "3.7.6"
  }
 },
 "nbformat": 4,
 "nbformat_minor": 4
}
