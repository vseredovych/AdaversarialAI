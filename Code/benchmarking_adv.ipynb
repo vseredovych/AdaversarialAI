{
 "cells": [
  {
   "cell_type": "code",
   "execution_count": 1,
   "metadata": {},
   "outputs": [],
   "source": [
    "import pandas as pd\n",
    "import seaborn as sns\n",
    "from mpmath import *\n",
    "from sympy import *\n",
    "\n",
    "import numpy as np\n",
    "from numpy import linalg as LA\n",
    "from random import randint, uniform\n",
    "from sklearn.model_selection import train_test_split\n",
    "from sklearn.metrics import accuracy_score\n",
    "\n",
    "import matplotlib.pyplot as plt\n",
    "%matplotlib inline"
   ]
  },
  {
   "cell_type": "code",
   "execution_count": 2,
   "metadata": {},
   "outputs": [],
   "source": [
    "from attacks import *\n",
    "from defenses import *"
   ]
  },
  {
   "cell_type": "code",
   "execution_count": 3,
   "metadata": {},
   "outputs": [],
   "source": [
    "from benchmark_helper import show_adversarial_sample\n",
    "from benchmark_helper import benchmark_attack_by_model\n",
    "from benchmark_helper import benchmark_defense_by_model\n",
    "from benchmark_helper import benchmark_attack_models_visual\n",
    "from benchmark_helper import benchmark_defense_models_visual\n",
    "from benchmark_helper import get_adv_by_model_norm\n",
    "from benchmark_helper import compare_model_for_two_inputs"
   ]
  },
  {
   "cell_type": "code",
   "execution_count": 4,
   "metadata": {},
   "outputs": [],
   "source": [
    "normalization = 255\n",
    "width = 28\n",
    "heigth = 28"
   ]
  },
  {
   "cell_type": "code",
   "execution_count": 5,
   "metadata": {},
   "outputs": [],
   "source": [
    "def normalize(X):\n",
    "    return X / normalization"
   ]
  },
  {
   "cell_type": "code",
   "execution_count": 6,
   "metadata": {},
   "outputs": [],
   "source": [
    "def denormalize(X):\n",
    "    return X * normalization"
   ]
  },
  {
   "cell_type": "code",
   "execution_count": 7,
   "metadata": {},
   "outputs": [],
   "source": [
    "def to_image_shape(X):\n",
    "    return np.array(X).reshape(-1, width, heigth)"
   ]
  },
  {
   "cell_type": "code",
   "execution_count": 8,
   "metadata": {},
   "outputs": [],
   "source": [
    "def to_vector_shape(X):\n",
    "    return np.array(X).reshape(-1, width * heigth)"
   ]
  },
  {
   "cell_type": "code",
   "execution_count": 9,
   "metadata": {},
   "outputs": [
    {
     "name": "stdout",
     "output_type": "stream",
     "text": [
      "Dataset: X=(42000, 784), y=(42000, 1)\n"
     ]
    }
   ],
   "source": [
    "filename_test = \"./data/digit-recognizer/test.csv\"\n",
    "filename_train = \"./data/digit-recognizer/train.csv\"\n",
    "\n",
    "df_train = pd.read_csv(filename_train, delimiter=',')\n",
    "df_test = pd.read_csv(filename_test, delimiter=',')\n",
    "\n",
    "X = df_train.loc[:, df_train.columns != \"label\"]\n",
    "y = df_train.loc[:, df_train.columns == \"label\"]\n",
    "X = X.to_numpy()\n",
    "y = y.to_numpy()\n",
    "print('Dataset: X={}, y={}'.format(X.shape, y.shape))"
   ]
  },
  {
   "cell_type": "code",
   "execution_count": 10,
   "metadata": {},
   "outputs": [
    {
     "name": "stdout",
     "output_type": "stream",
     "text": [
      "Training set: X=(33600, 784), y=(33600, 1)\n",
      "Test set: X=(8400, 784), y=(8400, 1)\n"
     ]
    }
   ],
   "source": [
    "X_train, X_test, y_train, y_test = train_test_split(X, y, test_size = 0.2, shuffle = True, stratify = y)\n",
    "\n",
    "print('Training set: X={}, y={}'.format(X_train.shape, y_train.shape))\n",
    "print('Test set: X={}, y={}'.format(X_test.shape, y_test.shape))"
   ]
  },
  {
   "cell_type": "code",
   "execution_count": 11,
   "metadata": {},
   "outputs": [],
   "source": [
    "X_test_images = to_image_shape(X_test)"
   ]
  },
  {
   "cell_type": "markdown",
   "metadata": {},
   "source": [
    "#### Show images"
   ]
  },
  {
   "cell_type": "code",
   "execution_count": 12,
   "metadata": {},
   "outputs": [],
   "source": [
    "# X_show = X_train.to_numpy().reshape(-1,28,28)\n",
    "# show_samples(X_show, nrows=8, ncols=8, rsize=10, csize=10)"
   ]
  },
  {
   "cell_type": "markdown",
   "metadata": {},
   "source": [
    "#### One Hot Encoding"
   ]
  },
  {
   "cell_type": "code",
   "execution_count": 13,
   "metadata": {},
   "outputs": [],
   "source": [
    "from sklearn.preprocessing import OneHotEncoder\n",
    "encoder = OneHotEncoder()\n",
    "encoder.fit(y_train)\n",
    "\n",
    "Y_train = encoder.transform(y_train).toarray()\n",
    "y_labels = [x[3:] for x in  encoder.get_feature_names()]\n",
    "\n",
    "encoder.fit(y_test)\n",
    "Y_test = encoder.transform(y_test).toarray()"
   ]
  },
  {
   "cell_type": "code",
   "execution_count": 14,
   "metadata": {},
   "outputs": [],
   "source": [
    "from sklearn.metrics import accuracy_score\n",
    "from sklearn.metrics import make_scorer\n",
    "\n",
    "def custom_scorer(estimator, X, Y):\n",
    "    # transform from one hot encoding to label encoding \n",
    "    y_true = np.argmax(Y, axis=1)\n",
    "    y_pred = estimator.predict(X)\n",
    "    return accuracy_score(y_true, y_pred)"
   ]
  },
  {
   "cell_type": "markdown",
   "metadata": {},
   "source": [
    "#### Hyperparameters selection"
   ]
  },
  {
   "cell_type": "code",
   "execution_count": 15,
   "metadata": {},
   "outputs": [],
   "source": [
    "# from sklearn.model_selection import GridSearchCV\n",
    "# #from LogisticRegression import CustomLogisticRegression\n",
    "\n",
    "# model_params = dict(\n",
    "#                 normalize=[False],\n",
    "#                 learning_rate=[0.1, 0.01], \n",
    "#                 num_iters=[100, 300, 500],\n",
    "#                 batch_size=[64, 128, 1024, -1],\n",
    "#                 momentum=[0, 0.5, 0.9]\n",
    "# )\n",
    "# model = CustomLogisticRegression()\n",
    "# grid = GridSearchCV(estimator=model, param_grid=model_params, scoring=custom_scorer, cv=2, n_jobs=-1)"
   ]
  },
  {
   "cell_type": "code",
   "execution_count": 16,
   "metadata": {},
   "outputs": [],
   "source": [
    "# %%time\n",
    "# grid.fit(normalize(X_train), Y_train)\n",
    "#{'learning_rate': 0.1, 'num_iters': 200, 'batch_size': 128, 'momentum': 0.5, 'normalize': False}"
   ]
  },
  {
   "cell_type": "code",
   "execution_count": 17,
   "metadata": {},
   "outputs": [],
   "source": [
    "# res = [print(f\"{key}: {val}\") for key, val in grid.best_params_.items()]"
   ]
  },
  {
   "cell_type": "markdown",
   "metadata": {},
   "source": [
    "#### Model Training"
   ]
  },
  {
   "cell_type": "code",
   "execution_count": 18,
   "metadata": {},
   "outputs": [],
   "source": [
    "from logistic_regression import CustomLogisticRegression"
   ]
  },
  {
   "cell_type": "code",
   "execution_count": 19,
   "metadata": {},
   "outputs": [
    {
     "name": "stdout",
     "output_type": "stream",
     "text": [
      "{'learning_rate': 1, 'num_iters': 200, 'batch_size': 1024, 'momentum': 0, 'normalize': False}\n",
      "0 iteration: 0.4245418862604865\n",
      "100 iteration: 0.25172132039948214\n"
     ]
    },
    {
     "data": {
      "text/plain": [
       "[<matplotlib.lines.Line2D at 0x1dd0803d6c8>]"
      ]
     },
     "execution_count": 19,
     "metadata": {},
     "output_type": "execute_result"
    },
    {
     "data": {
      "image/png": "[encoded data removed]",
      "text/plain": [
       "<Figure size 432x288 with 1 Axes>"
      ]
     },
     "metadata": {
      "needs_background": "light"
     },
     "output_type": "display_data"
    }
   ],
   "source": [
    "model_params = dict(\n",
    "                normalize=False,\n",
    "                learning_rate=1, \n",
    "                num_iters=200,\n",
    "                batch_size=1024,\n",
    "                momentum=0\n",
    ")\n",
    "\n",
    "lg = CustomLogisticRegression()\n",
    "lg.set_params(**model_params)\n",
    "lg.fit(normalize(X_train), Y_train)\n",
    "plt.plot(lg.get_cost_history())\n"
   ]
  },
  {
   "cell_type": "markdown",
   "metadata": {},
   "source": [
    "#### Prediction"
   ]
  },
  {
   "cell_type": "code",
   "execution_count": 20,
   "metadata": {},
   "outputs": [
    {
     "data": {
      "text/plain": [
       "0.9163095238095238"
      ]
     },
     "execution_count": 20,
     "metadata": {},
     "output_type": "execute_result"
    }
   ],
   "source": [
    "y_pred = lg.predict(normalize(X_test))\n",
    "accuracy_score(y_pred, y_test)"
   ]
  },
  {
   "cell_type": "markdown",
   "metadata": {},
   "source": [
    "#### Benchmark"
   ]
  },
  {
   "cell_type": "code",
   "execution_count": 21,
   "metadata": {},
   "outputs": [],
   "source": [
    "# %%time\n",
    "# defense_random = Randomization(resize_range=(-3, 3), pad_range=(0, 0))\n",
    "# X_test_randomized = to_vector_shape(defense_random.get_defended(X_test_images))\n",
    "# y_pred_randomized = lg.predict(normalize(X_test_randomized))\n",
    "# accuracy_score(y_test, y_pred_randomized)"
   ]
  },
  {
   "cell_type": "code",
   "execution_count": 74,
   "metadata": {},
   "outputs": [
    {
     "name": "stdout",
     "output_type": "stream",
     "text": [
      "7 6\n"
     ]
    }
   ],
   "source": [
    "from defenses import PixelDeflection\n",
    "\n",
    "def find_best_deflect_params(X, Y_test, y_test, model=None, max_deflections=15, max_window=15, samples=100):\n",
    "    min_result = 0\n",
    "    d_ = 0\n",
    "    w_ = 0\n",
    "    count = 0\n",
    "    \n",
    "    for d in np.array(range(1, max_deflections)):\n",
    "        for w in np.array(range(2, max_window)):\n",
    "            defense_deflection = PixelDeflection(deflections=d, window=w)\n",
    "            X_test_deflected = to_vector_shape(defense_deflection.get_defended(X_test_images[0:samples]))\n",
    "            y_pred_deflected = model.predict(normalize(X_test_deflected))\n",
    "\n",
    "            X1_res, X2_res = compare_model_for_two_inputs(\n",
    "                X_test, X_test_deflected, Y_test, y_test, model=model, attack=AttackFGSM, samples=samples, num_steps=10, visualize=False\n",
    "            )\n",
    "            if count == 0:\n",
    "                min_result = X1_res\n",
    "\n",
    "            if (X2_res < min_result):\n",
    "                d_ = d\n",
    "                w_ = w\n",
    "                min_result = X2_res\n",
    "            count += 1\n",
    "\n",
    "    print(d_, w_)\n",
    "    return d_, w_\n",
    "\n",
    "d, w = find_best_deflect_params(X, Y_test, y_test, model=lg, max_window=8, max_deflections=8, samples=100)"
   ]
  },
  {
   "cell_type": "code",
   "execution_count": 75,
   "metadata": {},
   "outputs": [
    {
     "data": {
      "text/plain": [
       "(0.146, 0.152)"
      ]
     },
     "execution_count": 75,
     "metadata": {},
     "output_type": "execute_result"
    },
    {
     "data": {
      "image/png": "[encoded data removed]",
      "text/plain": [
       "<Figure size 1200x600 with 1 Axes>"
      ]
     },
     "metadata": {},
     "output_type": "display_data"
    }
   ],
   "source": [
    "defense_deflection = PixelDeflection(deflections=d, window=w)\n",
    "X_test_deflected = to_vector_shape(defense_deflection.get_defended(X_test_images[0:100]))\n",
    "compare_model_for_two_inputs(X_test, X_test_deflected, Y_test, y_test, model=lg, attack=AttackFGSM, samples=100, num_steps=10, visualize=True)"
   ]
  },
  {
   "cell_type": "code",
   "execution_count": null,
   "metadata": {},
   "outputs": [],
   "source": [
    "# defense_deflection = PixelDeflection(deflections=100, window=40)\n",
    "# X_test_deflected = to_vector_shape(defense_deflection.get_defended(X_test_images))\n",
    "# accuracy_score(lg.predict(normalize(X_test_deflected)), y_test)"
   ]
  },
  {
   "cell_type": "code",
   "execution_count": null,
   "metadata": {},
   "outputs": [],
   "source": [
    "# %%time\n",
    "\n",
    "# best_res = 1\n",
    "# b_d = 0\n",
    "# b_w = 0\n",
    "\n",
    "# count = 0\n",
    "# for d in np.array(range(1, 3)) * 3:\n",
    "#     for w in np.array(range(1, 3)) * 3:\n",
    "#         print(count, \"/\", 30*30)\n",
    "#         count += 1\n",
    "#         defense_rand = Randomization(resize_window=d, pad_window=w)\n",
    "#         X_test_rand = to_vector_shape(defense_rand.get_defended(X_test_images[0:100]))\n",
    "#         y_pred_deflected = lg.predict(normalize(X_test_rand))\n",
    "#         #print(accuracy_score(y_test, y_pred_deflected))\n",
    "#         a, b = compare_model_for_two_inputs(X_test, X_test_deflected, Y_test, y_test, model=lg, attack=AttackFGSM, samples=100, num_steps=10, visualize=False)\n",
    "#         if (b < best_res):\n",
    "#             print(\"yep\")\n",
    "#             b_d = d\n",
    "#             d_w = w\n",
    "#             best_res = b\n"
   ]
  },
  {
   "cell_type": "code",
   "execution_count": null,
   "metadata": {},
   "outputs": [],
   "source": [
    "# defense_rand = Randomization(resize_window=3, pad_window=0)\n",
    "# X_test_rand = to_vector_shape(defense_rand.get_defended(X_test_images[0:1000]))\n",
    "# print(accuracy_score(lg.predict(normalize(X_test_rand)), y_test[0:1000]))\n",
    "# a, b = compare_model_for_two_inputs(X_test, X_test_rand, Y_test, y_test, model=lg, attack=AttackFGSM, samples=1000, num_steps=10)"
   ]
  },
  {
   "cell_type": "code",
   "execution_count": null,
   "metadata": {},
   "outputs": [],
   "source": [
    "benchmark_defense_models_visual(X_test, Y_test, y_test, model=lg, samples=100, num_steps=30)"
   ]
  },
  {
   "cell_type": "code",
   "execution_count": null,
   "metadata": {},
   "outputs": [],
   "source": [
    "def benchmark_attack_models_visual(X, y_labels, model=None, samples=100, num_steps=10):\n",
    "    x1, y1, label1 = benchmark_attack_by_model(X, y_labels, model=model, attack_model=AttackFGSM, samples=samples, num_steps=num_steps)\n",
    "    x2, y2, label2 = benchmark_attack_by_model(X, y_labels, model=model, attack_model=AttackIFGSM, samples=samples, num_steps=num_steps)\n",
    "    x3, y3, label3 = benchmark_attack_by_model(X, y_labels, model=model, attack_model=AttackMIFGSM, samples=samples, num_steps=num_steps)\n",
    "    x4, y4, label4 = benchmark_attack_by_model(\n",
    "        X, y_labels, model=model, attack_model=AttackDeepFool, samples=samples, num_steps=num_steps\n",
    "    )\n",
    "\n",
    "    fig, ax = plt.subplots(num=None, figsize=(12, 6), dpi=100, facecolor='w')\n",
    "    plt.grid(which='major', linestyle='-', color='black', alpha=0.2)\n",
    "    ax.set_title('Perturbation vs Accuracy Rate')\n",
    "    ax.set_xlabel(r\"Perturbation $\\epsilon$\")\n",
    "    ax.set_ylabel('Accuracy (%)')\n",
    "\n",
    "    plt.plot(np.array(x1), y1, linestyle='--', marker='o', markersize=2, color='#00A658', label = label1)\n",
    "    plt.plot(np.array(x2), y2, linestyle='--', marker='o', markersize=2, color='#2300A8', label = label2)\n",
    "    plt.plot(np.array(x3), y3, linestyle='--', marker='o', markersize=2, color='red', label = label3)\n",
    "    plt.plot(np.array(x4), y4, linestyle='--', marker='o', markersize=2, color='orange', label = label4)\n",
    "\n",
    "    plt.legend()\n"
   ]
  },
  {
   "cell_type": "code",
   "execution_count": null,
   "metadata": {},
   "outputs": [],
   "source": [
    "benchmark_attack_models_visual(X_test, y_labels, model=lg, samples=100, num_steps=10)"
   ]
  },
  {
   "cell_type": "code",
   "execution_count": 72,
   "metadata": {},
   "outputs": [
    {
     "data": {
      "text/plain": [
       "<matplotlib.axes._subplots.AxesSubplot at 0x1dd086e0888>"
      ]
     },
     "execution_count": 72,
     "metadata": {},
     "output_type": "execute_result"
    },
    {
     "data": {
      "image/png": "[encoded data removed]",
      "text/plain": [
       "<Figure size 432x288 with 2 Axes>"
      ]
     },
     "metadata": {
      "needs_background": "light"
     },
     "output_type": "display_data"
    }
   ],
   "source": [
    "def get_rmap(X, Y_true, y_true, model=None, attack=None, samples=100):\n",
    "    X_normalize = normalize(X[0:samples])\n",
    "    y_true = y_true[0:samples].reshape(samples)\n",
    "\n",
    "    X_adv = get_adv_by_model_norm(X_normalize, Y_true, model=model, attack=attack, norm=0.5)\n",
    "    return np.sum(X_normalize[0:samples] - X_adv, axis=0)\n",
    "\n",
    "img = get_rmap(X_test, Y_test, y_test, model=lg, attack=AttackDeepFool, samples=100)\n",
    "\n",
    "img = (img-np.min(img, axis=0))/(np.max(img, axis=0)-np.min(img, axis=0))\n",
    "plt.imshow(img.reshape(28, 28))\n",
    "sns.heatmap(img.reshape(28, 28))"
   ]
  },
  {
   "cell_type": "markdown",
   "metadata": {},
   "source": [
    "#### RMAP"
   ]
  },
  {
   "cell_type": "code",
   "execution_count": null,
   "metadata": {},
   "outputs": [],
   "source": [
    "# X_test.iloc[0, :].shape\n",
    "\n",
    "# avg = 0\n",
    "# for i in range(X_test.shape[0]):\n",
    "#     attack = AttackFGSM()\n",
    "#     x_ = normalize(np.expand_dims(X_test.iloc[i, :], axis=0))\n",
    "#     a = attack.attack(x_, lg.W, lg.b, y, lg.predict, max_norm=1)\n",
    "#     avg = avg + (x_ - a)\n",
    "    "
   ]
  },
  {
   "cell_type": "code",
   "execution_count": null,
   "metadata": {},
   "outputs": [],
   "source": [
    "# #avg = avg / X_test.shape[0]\n",
    "# #plt.imshow(avg.reshape(28, 28))\n",
    "# #avg\n",
    "# denormalize(avg) / X_test.shape[0]\n",
    "# rmap = abs((avg / X_test.shape[0]).reshape(28, 28))\n",
    "# plt.imshow(rmap, 'gray')\n",
    "# rmap[15]"
   ]
  },
  {
   "cell_type": "code",
   "execution_count": null,
   "metadata": {},
   "outputs": [],
   "source": [
    "# x_ = X_test.to_numpy().reshape(-1, 28,28)[0]\n",
    "# res = pixel_deflection_with_map(x_, avg.reshape(-28, 28), 100, 20)\n",
    "# plt.imshow(res)"
   ]
  },
  {
   "cell_type": "code",
   "execution_count": null,
   "metadata": {},
   "outputs": [],
   "source": [
    "# avg = avg / X_test.shape[0]\n",
    "# plt.imshow(avg.reshape(28, 28))"
   ]
  },
  {
   "cell_type": "markdown",
   "metadata": {},
   "source": [
    "#### Untargeted Noise Attack"
   ]
  },
  {
   "cell_type": "code",
   "execution_count": null,
   "metadata": {},
   "outputs": [],
   "source": [
    "# index = 38\n",
    "# x = np.expand_dims(X_test[index, :], axis=0)\n",
    "# y = np.zeros(len(y_labels))\n",
    "\n",
    "# true_class = lg.predict(normalize(x))\n",
    "# y[true_class] = 1\n",
    "\n",
    "# show_adversarial_sample(x, y_labels, true_class=y, model=lg, attack_model=AttackNoise, max_norm=1)"
   ]
  },
  {
   "cell_type": "markdown",
   "metadata": {},
   "source": [
    "#### Untargeted FGSM"
   ]
  },
  {
   "cell_type": "code",
   "execution_count": null,
   "metadata": {},
   "outputs": [],
   "source": [
    "# index = 0\n",
    "# x = np.expand_dims(X_test[index, :], axis=0)\n",
    "# y = np.zeros(len(y_labels))\n",
    "\n",
    "# true_class = lg.predict(normalize(x))\n",
    "# y[true_class] = 1\n",
    "\n",
    "# show_adversarial_sample(x, y_labels, true_class=y, model=lg, attack_model=AttackFGSM, max_norm=0.2)"
   ]
  },
  {
   "cell_type": "markdown",
   "metadata": {},
   "source": [
    "#### Untargeted I-FGSM"
   ]
  },
  {
   "cell_type": "code",
   "execution_count": null,
   "metadata": {},
   "outputs": [],
   "source": [
    "# index = 1\n",
    "# x = np.expand_dims(X_test[correct_pred_idx].iloc[index, :], axis=0)\n",
    "# y = np.zeros(len(y_labels))\n",
    "\n",
    "# true_class = lg.predict(normalize(x))\n",
    "# y[true_class] = 1\n",
    "\n",
    "# show_adversarial_sample(x, y_labels, true_class=y, model=lg, attack_model=AttackIFGSM, max_norm=0.04, max_iters=100)"
   ]
  },
  {
   "cell_type": "markdown",
   "metadata": {},
   "source": [
    "#### DeepFool"
   ]
  },
  {
   "cell_type": "code",
   "execution_count": null,
   "metadata": {},
   "outputs": [],
   "source": [
    "# index = 1\n",
    "# x = np.expand_dims(X_test[correct_pred_idx].iloc[index, :], axis=0)\n",
    "# y = np.zeros(len(y_labels))\n",
    "\n",
    "# true_class = lg.predict(normalize(x))\n",
    "# y[true_class] = 1\n",
    "\n",
    "# show_adversarial_sample(x, y_labels, true_class=y, model=lg, attack_model=AttackDeepFool, max_norm=0.15, max_iters=12)"
   ]
  },
  {
   "cell_type": "markdown",
   "metadata": {},
   "source": [
    "#### Targeted I-FGSM"
   ]
  },
  {
   "cell_type": "code",
   "execution_count": null,
   "metadata": {},
   "outputs": [],
   "source": [
    "# index = 1\n",
    "# x = np.expand_dims(X_test[correct_pred_idx].iloc[index, :], axis=0)\n",
    "# y = np.zeros(len(y_labels))\n",
    "# y[9] = 1\n",
    "\n",
    "# show_adversarial_sample(x, y_labels, true_class=y, model=lg, attack_model=AttackTIFGSM, max_norm=0.2, max_iters=5000)"
   ]
  },
  {
   "cell_type": "markdown",
   "metadata": {},
   "source": [
    "#### Untargeted MI-FGSM"
   ]
  },
  {
   "cell_type": "code",
   "execution_count": null,
   "metadata": {},
   "outputs": [],
   "source": [
    "# index = 123\n",
    "# x = np.expand_dims(X_test[correct_pred_idx].iloc[index, :], axis=0)\n",
    "# y = np.zeros(len(y_labels))\n",
    "\n",
    "# true_class = lg.predict(normalize(x))\n",
    "# y[true_class] = 1\n",
    "\n",
    "# show_adversarial_sample(x, y_labels, true_class=y, model=lg, attack_model=AttackMIFGSM, max_norm=1, max_iters=5000)"
   ]
  },
  {
   "cell_type": "markdown",
   "metadata": {},
   "source": [
    "#### Model evaluation"
   ]
  },
  {
   "cell_type": "code",
   "execution_count": null,
   "metadata": {},
   "outputs": [],
   "source": [
    "# y_real = np.array(y_test.iloc[:, 0])\n",
    "\n",
    "# comp = pd.DataFrame({\"y_pred\": y_pred, \"y_real\": y_real})\n",
    "# print(comp.head(20))"
   ]
  },
  {
   "cell_type": "code",
   "execution_count": null,
   "metadata": {},
   "outputs": [],
   "source": [
    "##### from sklearn.metrics import mean_squared_error\n",
    "# from sklearn.metrics import mean_absolute_error\n",
    "# from sklearn.metrics import r2_score\n",
    "# r2 = r2_score(y_real, y_pred)\n",
    "# accuracy = int(sum(y_real == y_pred) / len(y_pred) * 100)\n",
    "\n",
    "# print(f'Coefficient of determination: {r2}')\n",
    "# print(f\"Accuracy: {accuracy}%\")"
   ]
  }
 ],
 "metadata": {
  "kernelspec": {
   "display_name": "Python 3",
   "language": "python",
   "name": "python3"
  },
  "language_info": {
   "codemirror_mode": {
    "name": "ipython",
    "version": 3
   },
   "file_extension": ".py",
   "mimetype": "text/x-python",
   "name": "python",
   "nbconvert_exporter": "python",
   "pygments_lexer": "ipython3",
   "version": "3.7.6"
  }
 },
 "nbformat": 4,
 "nbformat_minor": 4
}
