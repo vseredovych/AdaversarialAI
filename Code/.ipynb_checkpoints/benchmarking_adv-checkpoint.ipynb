{
 "cells": [
  {
   "cell_type": "code",
   "execution_count": 1,
   "metadata": {},
   "outputs": [],
   "source": [
    "import numpy as np\n",
    "import pandas as pd\n",
    "import seaborn as sns\n",
    "\n",
    "from mpmath import *\n",
    "from sympy import *\n",
    "from numpy import linalg as LA\n",
    "from sklearn.model_selection import train_test_split\n",
    "\n",
    "import matplotlib.pyplot as plt\n",
    "%matplotlib inline\n",
    "\n",
    "from random import randint, uniform"
   ]
  },
  {
   "cell_type": "code",
   "execution_count": 2,
   "metadata": {},
   "outputs": [],
   "source": [
    "def get_adv_by_model_norm(X, Y_true, model=None, attack=None, norm=0.1):\n",
    "    X_adv = None\n",
    "    \n",
    "    atck = attack()\n",
    "    if type(atck).__name__ in ['AttackNoise']:\n",
    "        X_adv = [atck.attack(X[i, :].reshape(1,-1), Y_true[i], model.predict, max_norm=norm)\n",
    "                 for i in range(X.shape[0])]\n",
    "    \n",
    "    elif type(atck).__name__ in ['AttackIFGSM', 'AttackTIFGSM', 'AttackDeepFool', 'AttackFGSM']:\n",
    "        X_adv = [atck.attack(X[i, :].reshape(1,-1), model.W, model.b, Y_true[i, :], model.predict, max_norm=norm)\n",
    "                 for i in range(X.shape[0])]\n",
    "    \n",
    "    elif type(atck).__name__ in ['AttackMIFGSM']:\n",
    "        X_adv = [atck.attack(X[i, :].reshape(1,-1), model.W, model.b, Y_true[i], model.predict, max_norm=norm, momentum=0.95)\n",
    "                 for i in range(X.shape[0])]\n",
    "\n",
    "    return np.array(X_adv).reshape(X.shape[0], -1)\n",
    "\n",
    "def benchmark_defense_by_model(X, Y_true, y_true, model=None, attack=None, samples=100, num_steps=0, a=0, b=0.5):\n",
    "    norms = np.linspace(a, b, num=num_steps)\n",
    "    scores = np.zeros(norms.shape)\n",
    "\n",
    "    for idx, norm in enumerate(norms):\n",
    "        X_normalize = normalize(X[0:samples])\n",
    "        y_true = y_true[0:samples].reshape(samples)\n",
    "\n",
    "        X_adv = get_adv_by_model_norm(X_normalize, Y_true, model=lg, attack=attack, norm=norm)\n",
    "        scores[idx] = accuracy_score(model.predict(X_adv), y_true)\n",
    "    return norms, scores, attack.__name__\n",
    "\n",
    "def benchmark_defense_models_visual(X, Y_true, y_true, model=None, attack=None, samples=100, num_steps=10):\n",
    "    x1, y1, label1 = benchmark_defense_by_model(X, Y_true, y_true, model=model, attack=AttackFGSM, samples=samples, num_steps=num_steps)\n",
    "    x2, y2, label2 = benchmark_defense_by_model(X, Y_true, y_true, model=model, attack=AttackIFGSM, samples=samples, num_steps=num_steps)\n",
    "    #x3, y3, label3 = benchmark_defense_by_model(X, Y_true, y_true, model=model, attack=AttackMIFGSM, samples=samples, num_steps=num_steps)\n",
    "    x4, y4, label4 = benchmark_defense_by_model(X, Y_true, y_true, model=model, attack=AttackDeepFool, samples=samples, num_steps=num_steps)\n",
    "\n",
    "    fig, ax = plt.subplots(num=None, figsize=(12, 6), dpi=100, facecolor='w')\n",
    "    plt.grid(which='major', linestyle='-', color='black', alpha=0.2)\n",
    "    ax.set_title('Perturbation vs Accuracy Rate')\n",
    "    ax.set_xlabel(r\"Perturbation $\\epsilon$\")\n",
    "    ax.set_ylabel('Accuracy (%)')\n",
    "\n",
    "    plt.plot(np.array(x1), y1, linestyle='--', marker='o', markersize=2, color='#00A658', label = label1)\n",
    "    plt.plot(np.array(x2), y2, linestyle='--', marker='o', markersize=2, color='#2300A8', label = label2)\n",
    "    #plt.plot(np.array(x3), y3, linestyle='--', marker='o', markersize=2, color='red', label = label3)\n",
    "    plt.plot(np.array(x4), y4, linestyle='--', marker='o', markersize=2, color='orange', label = label4)\n",
    "\n",
    "    plt.legend()\n",
    "\n",
    "def compare_model_for_two_inputs(X1, X2, Y_true, y_true, model=None, attack=None, samples=100, num_steps=10, visualize=True):\n",
    "    x1, y1, label1 = benchmark_defense_by_model(X1, Y_true, y_true, model=model, attack=attack, samples=samples, num_steps=num_steps)\n",
    "    x2, y2, label2 = benchmark_defense_by_model(X2, Y_true, y_true, model=model, attack=attack, samples=samples, num_steps=num_steps)\n",
    "    \n",
    "    if visualize:\n",
    "        fig, ax = plt.subplots(num=None, figsize=(12, 6), dpi=100, facecolor='w')\n",
    "        plt.grid(which='major', linestyle='-', color='black', alpha=0.2)\n",
    "        ax.set_title('Perturbation vs Accuracy Rate')\n",
    "        ax.set_xlabel(r\"Perturbation $\\epsilon$\")\n",
    "        ax.set_ylabel('Accuracy (%)')\n",
    "\n",
    "        plt.plot(x1, y1, linestyle='--', marker='o', markersize=2, color='#00A658', label = f\"clean_{label1}\")\n",
    "        plt.plot(x2, y2, linestyle='--', marker='o', markersize=2, color='#2300A8', label = f\"defended_{label2}\")\n",
    "        plt.legend()\n",
    "    print(round(sum(y1/num_steps), 3), \" : \", round(sum(y2/num_steps), 3))        \n",
    "    a = round(sum(y1/num_steps), 4)\n",
    "    b = round(sum(y2/num_steps), 4)\n",
    "    return a,b\n"
   ]
  },
  {
   "cell_type": "code",
   "execution_count": 3,
   "metadata": {},
   "outputs": [],
   "source": [
    "from matplotlib.pyplot import figure\n",
    "from numpy.random import randint\n",
    "from sklearn.metrics import accuracy_score"
   ]
  },
  {
   "cell_type": "code",
   "execution_count": 4,
   "metadata": {},
   "outputs": [],
   "source": [
    "normalization = 255\n",
    "width = 28\n",
    "heigth = 28"
   ]
  },
  {
   "cell_type": "code",
   "execution_count": 5,
   "metadata": {},
   "outputs": [],
   "source": [
    "def plot_J(J_history):\n",
    "    x = np.arange(0, len(J_history))\n",
    "    plt.plot(x, J_history)\n",
    "    plt.show()"
   ]
  },
  {
   "cell_type": "code",
   "execution_count": 6,
   "metadata": {},
   "outputs": [],
   "source": [
    "def normalize(X):\n",
    "    return X / normalization"
   ]
  },
  {
   "cell_type": "code",
   "execution_count": 7,
   "metadata": {},
   "outputs": [],
   "source": [
    "def denormalize(X):\n",
    "    return X * normalization"
   ]
  },
  {
   "cell_type": "code",
   "execution_count": 8,
   "metadata": {},
   "outputs": [],
   "source": [
    "def to_image_shape(X):\n",
    "    return np.array(X).reshape(-1, width, heigth)"
   ]
  },
  {
   "cell_type": "code",
   "execution_count": 9,
   "metadata": {},
   "outputs": [],
   "source": [
    "def to_vector_shape(X):\n",
    "    return np.array(X).reshape(-1, width * heigth)"
   ]
  },
  {
   "cell_type": "code",
   "execution_count": 10,
   "metadata": {},
   "outputs": [],
   "source": [
    "def show_samples(X, nrows=5, ncols=5, rsize=5, csize=5):\n",
    "    fig, ax = plt.subplots(nrows=nrows, ncols=ncols, sharex='col', sharey='row', \n",
    "                           gridspec_kw={'hspace': -0.02, 'wspace': -0.02}, figsize=(rsize, csize))\n",
    "\n",
    "    counter=0\n",
    "    for row in ax:\n",
    "        for col in row:\n",
    "            col.imshow(X[counter], 'gray')\n",
    "            col.axis('off')\n",
    "            counter += 1\n",
    "    plt.show()"
   ]
  },
  {
   "cell_type": "code",
   "execution_count": 11,
   "metadata": {},
   "outputs": [],
   "source": [
    "import numpy as np\n",
    "\n",
    "class Randomization():\n",
    "    def __init__(self, resize_window=5, pad_window=5, w=28, h=28):\n",
    "        self.default_w = w\n",
    "        self.default_h = h\n",
    "        self.resize_window = resize_window\n",
    "        self.pad_window = pad_window\n",
    "    \n",
    "    def get_defended(self, X):\n",
    "        return self.__random_resize_paddding(X)\n",
    "    \n",
    "    def __random_resize_paddding(self, X):\n",
    "        X_new = np.zeros(X.shape)\n",
    "\n",
    "        for idx, x in enumerate(X):\n",
    "            default_w, default_h = (28, 28)\n",
    "\n",
    "            w, h = np.random.randint(-self.resize_window, self.resize_window, 2)\n",
    "            if self.pad_window == 0:\n",
    "                p_t, p_b, p_l, p_r = (0, 0, 0, 0)\n",
    "            else:\n",
    "                p_t, p_b, p_l, p_r = np.random.randint(0, self.pad_window, 4)\n",
    "\n",
    "            \n",
    "            x_scaled = self.__scale(x, default_w + w, default_h + h)\n",
    "            x_scaled_padded = np.pad(x_scaled, ((p_t, p_b), (p_l, p_r)), 'constant')\n",
    "            x_normal = self.__scale(x_scaled_padded, default_w, default_h)\n",
    "\n",
    "            X_new[idx] = x_normal    \n",
    "        return X_new\n",
    "\n",
    "    def __scale(self, img, n_rows, n_cols):\n",
    "        n_rows0 = img.shape[0]\n",
    "        n_cols0 = img.shape[1]\n",
    "        new_img = np.zeros((n_rows, n_cols))\n",
    "\n",
    "        r_idxs = (n_rows0 * np.arange(n_rows) / n_rows).astype(int)\n",
    "        c_idxs = (n_cols0 * np.arange(n_cols) / n_cols).astype(int)\n",
    "        for i, r_idx in enumerate(r_idxs):\n",
    "            for j, c_idx in enumerate(c_idxs):\n",
    "                new_img[i][j] = img[r_idx][c_idx]\n",
    "\n",
    "        return new_img"
   ]
  },
  {
   "cell_type": "code",
   "execution_count": 12,
   "metadata": {},
   "outputs": [],
   "source": [
    "class PixelDeflection():\n",
    "    def __init__(self, deflections=10, window=10):\n",
    "        self.deflections = deflections\n",
    "        self.window = window\n",
    "\n",
    "    def get_defended(self, X, rmap=None):\n",
    "        if rmap != None:\n",
    "            X_new = [\n",
    "                self.pixel_deflection_with_map(x, rcam_prob, self.deflections, self.window) for x in X\n",
    "            ] \n",
    "        else:\n",
    "            X_new = [\n",
    "                self.pixel_deflection_without_map(x, self.deflections, self.window) for x in X\n",
    "            ]\n",
    "            \n",
    "        return X_new\n",
    "    \n",
    "    def pixel_deflection_without_map(self, img, deflections, window):\n",
    "        np.random.seed(42)        \n",
    "        img = np.copy(img)\n",
    "        H, W = img.shape\n",
    "        while deflections > 0:\n",
    "                x,y = randint(0,H-1), randint(0,W-1)\n",
    "                while True: #this is to ensure that PD pixel lies inside the image\n",
    "                    a,b = randint(-1*window,window), randint(-1*window,window)\n",
    "                    if x+a < H and x+a > 0 and y+b < W and y+b > 0: break\n",
    "                # calling pixel deflection as pixel swap would be a misnomer,\n",
    "                # as we can see below, it is one way copy\n",
    "                img[x,y] = img[x+a,y+b] \n",
    "                deflections -= 1\n",
    "        return img\n",
    "    \n",
    "    def pixel_deflection_with_map(self, img, rcam_prob, deflections, window):\n",
    "        np.random.seed(42)        \n",
    "        img = np.copy(img)\n",
    "        H, W = img.shape\n",
    "        while deflections > 0:\n",
    "                x,y = randint(0,H-1), randint(0,W-1)\n",
    "                # if a uniformly selected value is lower than the rcam probability\n",
    "                # skip that region\n",
    "                if uniform(0,1) < rcam_prob[x,y]:\n",
    "                    continue\n",
    "\n",
    "                while True: #this is to ensure that PD pixel lies inside the image\n",
    "                    a,b = randint(-1*window,window), randint(-1*window,window)\n",
    "                    if x+a < H and x+a > 0 and y+b < W and y+b > 0: break\n",
    "\n",
    "                # calling pixel deflection as pixel swap would be a misnomer,\n",
    "                # as we can see below, it is one way copy\n",
    "                img[x,y] = img[x+a,y+b] \n",
    "                deflections -= 1\n",
    "        return img"
   ]
  },
  {
   "cell_type": "code",
   "execution_count": 13,
   "metadata": {},
   "outputs": [
    {
     "name": "stdout",
     "output_type": "stream",
     "text": [
      "Dataset: X=(42000, 784), y=(42000, 1)\n"
     ]
    }
   ],
   "source": [
    "filename_test = \"./data/digit-recognizer/test.csv\"\n",
    "filename_train = \"./data/digit-recognizer/train.csv\"\n",
    "\n",
    "df_train = pd.read_csv(filename_train, delimiter=',')\n",
    "df_test = pd.read_csv(filename_test, delimiter=',')\n",
    "\n",
    "X = df_train.loc[:, df_train.columns != \"label\"]\n",
    "y = df_train.loc[:, df_train.columns == \"label\"]\n",
    "X = X.to_numpy()\n",
    "y = y.to_numpy()\n",
    "print('Dataset: X={}, y={}'.format(X.shape, y.shape))"
   ]
  },
  {
   "cell_type": "code",
   "execution_count": 14,
   "metadata": {},
   "outputs": [
    {
     "name": "stdout",
     "output_type": "stream",
     "text": [
      "Training set: X=(33600, 784), y=(33600, 1)\n",
      "Test set: X=(8400, 784), y=(8400, 1)\n"
     ]
    }
   ],
   "source": [
    "X_train, X_test, y_train, y_test = train_test_split(X, y, test_size = 0.2, shuffle = True, stratify = y)\n",
    "\n",
    "print('Training set: X={}, y={}'.format(X_train.shape, y_train.shape))\n",
    "print('Test set: X={}, y={}'.format(X_test.shape, y_test.shape))"
   ]
  },
  {
   "cell_type": "code",
   "execution_count": 15,
   "metadata": {},
   "outputs": [],
   "source": [
    "X_test_images = to_image_shape(X_test)"
   ]
  },
  {
   "cell_type": "markdown",
   "metadata": {},
   "source": [
    "#### Show images"
   ]
  },
  {
   "cell_type": "code",
   "execution_count": 16,
   "metadata": {},
   "outputs": [],
   "source": [
    "# X_show = X_train.to_numpy().reshape(-1,28,28)\n",
    "# show_samples(X_show, nrows=8, ncols=8, rsize=10, csize=10)"
   ]
  },
  {
   "cell_type": "markdown",
   "metadata": {},
   "source": [
    "#### One Hot Encoding"
   ]
  },
  {
   "cell_type": "code",
   "execution_count": 17,
   "metadata": {},
   "outputs": [],
   "source": [
    "from sklearn.preprocessing import OneHotEncoder\n",
    "encoder = OneHotEncoder()\n",
    "encoder.fit(y_train)\n",
    "\n",
    "Y_train = encoder.transform(y_train).toarray()\n",
    "y_labels = [x[3:] for x in  encoder.get_feature_names()]\n",
    "\n",
    "encoder.fit(y_test)\n",
    "Y_test = encoder.transform(y_test).toarray()\n",
    "# encoder.fit(y_test)\n",
    "# Y_test = encoder.transform(y_test).toarray()"
   ]
  },
  {
   "cell_type": "code",
   "execution_count": 113,
   "metadata": {},
   "outputs": [],
   "source": [
    "import numpy as np\n",
    "from numpy import linalg as LA\n",
    "from sklearn.utils.validation import check_X_y, check_array, check_is_fitted\n",
    "from sklearn.utils.multiclass import unique_labels\n",
    "\n",
    "class CustomLogisticRegression():\n",
    "    def __init__(self, \n",
    "                 normalize=True, \n",
    "                 learning_rate=0.1, \n",
    "                 num_iters=200, \n",
    "                 epsilon=1e-10, \n",
    "                 batch_size=1024, \n",
    "                 momentum=0.9):\n",
    "        \n",
    "        self.normalize = normalize\n",
    "        self.__mean = None\n",
    "        self.__std = None\n",
    "        \n",
    "        self.learning_rate = learning_rate\n",
    "        self.num_iters = num_iters\n",
    "        self.epsilon = epsilon\n",
    "        self.batch_size = batch_size\n",
    "        self.momentum = momentum\n",
    "        \n",
    "\n",
    "    def get_mean(self):\n",
    "        return self.__mean\n",
    "    \n",
    "    def get_std(self):\n",
    "        return self.__std\n",
    "    \n",
    "    def fit(self, X_vert, Y_vert):\n",
    "        # X transformations\n",
    "        if self.normalize == True:\n",
    "            self.X_ = self.__normalize(X_vert)\n",
    "        else:\n",
    "            self.X_ = X_vert\n",
    "        self.X_ = self.X_.T\n",
    " \n",
    "        # Y transformations\n",
    "        self.Y_ = Y_vert.T\n",
    "\n",
    "        self.W = np.full(( self.X_.shape[0],self.Y_.shape[0]),0.01)\n",
    "        self.b = 0.0\n",
    "        self.W, self.b, self.Js = self.__gradient_descent(\n",
    "            self.X_, self.Y_, self.W, self.b, self.learning_rate, self.num_iters, self.epsilon, self.momentum, self.batch_size\n",
    "        )\n",
    "\n",
    "    def predict(self, X):\n",
    "        # Check is fit had been called\n",
    "        check_is_fitted(self)\n",
    "        # Input validation\n",
    "        X = check_array(X)\n",
    "\n",
    "        if self.normalize:\n",
    "            X_norm = (X - self.__mean) / self.__std\n",
    "            z = self.__stable_softmax(np.dot(self.W.T,X_norm.T)+self.b)\n",
    "        else:\n",
    "            z = self.__stable_softmax(np.dot(self.W.T,X.T)+self.b)\n",
    "    \n",
    "        y_pred = np.zeros(z.shape[1], dtype=int)\n",
    "        for i in range(z.shape[1]):\n",
    "            y_pred[i] = np.argmax(z[:, i])    \n",
    "        \n",
    "        return y_pred\n",
    "\n",
    "    def predict_by_labels(self, X, y_labels):\n",
    "        # Check is fit had been called\n",
    "        check_is_fitted(self)\n",
    "        # Input validation\n",
    "        X = check_array(X)\n",
    "        \n",
    "        if self.normalize:\n",
    "            X_norm = (X - self.__mean) / self.__std\n",
    "            z = self.__stable_softmax(np.dot(self.W.T,X_norm.T)+self.b)\n",
    "        else:\n",
    "            z = self.__stable_softmax(np.dot(self.W.T,X.T)+self.b)\n",
    "            \n",
    "        y_pred = np.full((z.shape[1]), {})\n",
    "        for i in range(z.shape[1]):\n",
    "            y_pred[i] = { y_labels[j]: z[j][i] for j in range(z.shape[0])}\n",
    "        return y_pred\n",
    "            \n",
    "    def get_cost_history(self):\n",
    "        check_is_fitted(self)\n",
    "        return self.Js\n",
    "\n",
    "    def __normalize(self, X):\n",
    "        if self.__mean is None and self.__std is None:\n",
    "            mean = np.zeros([X.shape[1]])\n",
    "            std  = np.ones([X.shape[1]])\n",
    "            \n",
    "            for i in range(X.shape[1]):\n",
    "                if (np.std(X.iloc[:, i]) != 0):\n",
    "                    mean[i] = np.mean(X.iloc[:, i])\n",
    "                    std[i] = np.std(X.iloc[:, i])\n",
    "            \n",
    "            self.__mean = mean\n",
    "            self.__std = std\n",
    "\n",
    "        X_new = (X - self.__mean) / self.__std\n",
    "        return X_new\n",
    "\n",
    "    def __cost_function(self, X, Y, A):\n",
    "        m = X.shape[0]\n",
    "        if m == 0:\n",
    "            return None\n",
    "        \n",
    "        J = (1 / m) * np.sum(-Y * np.log(A) - (1 - Y) * np.log(1 - A))\n",
    "        return J\n",
    "\n",
    "    def __cross_entropy(self, X, Y, A):\n",
    "        m = X.shape[0]\n",
    "        if m == 0:\n",
    "            return None\n",
    "        \n",
    "        J = (-1 / m) * np.sum(Y.T * np.log(A.T))\n",
    "        return J\n",
    "    \n",
    "    def __sigmoid(self, z):\n",
    "        return 1 / (1 + np.exp(-z))\n",
    "    \n",
    "    def __softmax(self, z):\n",
    "        exps = np.exp(z)\n",
    "        return exps / exps.sum(axis=0, keepdims=True)\n",
    "\n",
    "    def __stable_softmax(self, z):\n",
    "        exps = np.exp(z - np.max(z))\n",
    "        return exps / exps.sum(axis=0, keepdims=True)\n",
    "\n",
    "    def __forward_backward_propagation(self, X, Y, W, b):        \n",
    "        # forward propagation\n",
    "        m = X.shape[1]\n",
    "\n",
    "        z = np.dot(W.T,X) + b\n",
    "        A = self.__stable_softmax(z)\n",
    "        cost = self.__cross_entropy(X, Y, A)\n",
    "\n",
    "        # backward propagation\n",
    "        dz = A - Y\n",
    "        derivative_weights = (1 / m) * np.dot(X, dz.T)\n",
    "        derivative_bias = (1 / m) * np.sum(dz)\n",
    "\n",
    "        return cost, derivative_weights, derivative_bias\n",
    "\n",
    "    def __create_mini_batches(self, X, Y, batch_size):\n",
    "        m = X.shape[1]\n",
    "\n",
    "        if batch_size == -1:\n",
    "            batch_size = m\n",
    "                \n",
    "        permutation = list(np.random.permutation(m))\n",
    "        shuffled_X = X[:, permutation]        \n",
    "        shuffled_Y = Y[:, permutation]\n",
    "\n",
    "        mini_batches = []\n",
    "        n_minibatches = m // batch_size\n",
    "        \n",
    "        for i in range(n_minibatches): \n",
    "            X_mini = shuffled_X[:, i * batch_size:(i + 1)*batch_size] \n",
    "            Y_mini = shuffled_Y[:, i * batch_size:(i + 1)*batch_size] \n",
    "            mini_batches.append((X_mini, Y_mini))\n",
    "        if m % batch_size != 0:\n",
    "            X_mini = shuffled_X[:, (i+1) * batch_size:m] \n",
    "            Y_mini = shuffled_Y[:, (i+1) * batch_size:m] \n",
    "            mini_batches.append((X_mini, Y_mini)) \n",
    "        return mini_batches\n",
    "    \n",
    "    def __gradient_descent(self, X, Y, W, b, learning_rate, num_iters, epsilon, momentum, batch_size):        \n",
    "        # num of samples\n",
    "        print(self.get_params())\n",
    "        # num of features\n",
    "        n = X.shape[1]\n",
    "\n",
    "        J_history = []\n",
    "        VdW = 0\n",
    "        Vdb = 0\n",
    "        for i in range(num_iters):\n",
    "            mini_batches = self.__create_mini_batches(X, Y, batch_size) \n",
    "            for (X_mini, Y_mini) in mini_batches:\n",
    "                J, delta_weights, delta_bias = self.__forward_backward_propagation(X_mini, Y_mini, W, b)\n",
    "                \n",
    "                VdW = (momentum * VdW + (1 - momentum) * delta_weights / (1 - momentum ** (i + 1)))\n",
    "                Vdb = (momentum * Vdb + (1 - momentum) * delta_bias / (1 - momentum ** (i + 1)))\n",
    "                \n",
    "                W = W - learning_rate * VdW\n",
    "                b = b - learning_rate * Vdb\n",
    "\n",
    "            if i % 100 == 0:\n",
    "                print(f\"{i} iteration: {J}\")\n",
    "\n",
    "            J_history.append(J)\n",
    "\n",
    "        return W, b, J_history\n",
    "    \n",
    "    def get_params(self, deep=True):\n",
    "        return {\n",
    "                \"learning_rate\": self.learning_rate,\n",
    "                \"num_iters\": self.num_iters,\n",
    "                \"batch_size\": self.batch_size,\n",
    "                \"momentum\": self.momentum,\n",
    "                \"normalize\": self.normalize\n",
    "               }\n",
    "    \n",
    "    def set_params(self, **parameters):\n",
    "        for parameter, value in parameters.items():\n",
    "            setattr(self, parameter, value)\n",
    "        return self"
   ]
  },
  {
   "cell_type": "markdown",
   "metadata": {},
   "source": [
    "#### Model Training"
   ]
  },
  {
   "cell_type": "code",
   "execution_count": 45,
   "metadata": {},
   "outputs": [],
   "source": [
    "from sklearn.metrics import accuracy_score\n",
    "from sklearn.metrics import make_scorer\n",
    "\n",
    "def custom_scorer(estimator, X, Y):\n",
    "    # transform from one hot encoding to label encoding \n",
    "    y_true = np.argmax(Y, axis=1)\n",
    "    y_pred = estimator.predict(X)\n",
    "    return accuracy_score(y_true, y_pred)"
   ]
  },
  {
   "cell_type": "code",
   "execution_count": 117,
   "metadata": {},
   "outputs": [],
   "source": [
    "from sklearn.model_selection import GridSearchCV\n",
    "#from LogisticRegression import CustomLogisticRegression\n",
    "\n",
    "model_params = dict(\n",
    "                normalize=[False],\n",
    "                learning_rate=[0.1, 0.01], \n",
    "                num_iters=[100, 300, 500],\n",
    "                batch_size=[64, 128, 1024, -1],\n",
    "                momentum=[0, 0.5, 0.9]\n",
    ")\n",
    "model = CustomLogisticRegression()\n",
    "grid = GridSearchCV(estimator=model, param_grid=model_params, scoring=custom_scorer, cv=2, n_jobs=-1)"
   ]
  },
  {
   "cell_type": "code",
   "execution_count": 64,
   "metadata": {},
   "outputs": [
    {
     "name": "stdout",
     "output_type": "stream",
     "text": [
      "{'learning_rate': 0.1, 'num_iters': 200, 'batch_size': 128, 'momentum': 0.5, 'normalize': False}\n",
      "0 iteration: 0.029601588041888213\n",
      "Wall time: 15min 49s\n"
     ]
    },
    {
     "data": {
      "text/plain": [
       "GridSearchCV(cv=2, error_score=nan,\n",
       "             estimator=<__main__.CustomLogisticRegression object at 0x00000268486104C8>,\n",
       "             iid='deprecated', n_jobs=-1,\n",
       "             param_grid={'batch_size': [64, 128, 1024, -1],\n",
       "                         'learning_rate': [0.1, 0.01],\n",
       "                         'max_iter': [100, 300, 500], 'momentum': [0, 0.5, 0.9],\n",
       "                         'normalize': [False]},\n",
       "             pre_dispatch='2*n_jobs', refit=True, return_train_score=False,\n",
       "             scoring=<function custom_scorer at 0x00000268485ECA68>, verbose=0)"
      ]
     },
     "execution_count": 64,
     "metadata": {},
     "output_type": "execute_result"
    }
   ],
   "source": [
    "%%time\n",
    "grid.fit(normalize(X_train), Y_train)"
   ]
  },
  {
   "cell_type": "code",
   "execution_count": 66,
   "metadata": {},
   "outputs": [
    {
     "name": "stdout",
     "output_type": "stream",
     "text": [
      "batch_size: 128\n",
      "learning_rate: 0.1\n",
      "max_iter: 300\n",
      "momentum: 0.5\n",
      "normalize: False\n"
     ]
    }
   ],
   "source": [
    "res = [print(f\"{key}: {val}\") for key, val in grid.best_params_.items()]"
   ]
  },
  {
   "cell_type": "code",
   "execution_count": 67,
   "metadata": {
    "scrolled": true
   },
   "outputs": [],
   "source": [
    "# %%time\n",
    "# lg = CustomLogisticRegression(normalize=False)\n",
    "# lg.fit(normalize(X_train), Y_train, 0.01, 500, 1e-15, 128)\n",
    "# plt.plot(lg.get_cost_history())\n",
    "# print(lg.get_cost_history()[-1])\n",
    "# #1024, 500"
   ]
  },
  {
   "cell_type": "code",
   "execution_count": 204,
   "metadata": {},
   "outputs": [
    {
     "name": "stdout",
     "output_type": "stream",
     "text": [
      "{'learning_rate': 1, 'num_iters': 200, 'batch_size': 1024, 'momentum': 0, 'normalize': False}\n",
      "0 iteration: 0.47105287166766596\n",
      "100 iteration: 0.26997851449332916\n"
     ]
    },
    {
     "data": {
      "text/plain": [
       "[<matplotlib.lines.Line2D at 0x2686d814a88>]"
      ]
     },
     "execution_count": 204,
     "metadata": {},
     "output_type": "execute_result"
    },
    {
     "data": {
      "image/png": "[encoded data removed]",
      "text/plain": [
       "<Figure size 432x288 with 1 Axes>"
      ]
     },
     "metadata": {
      "needs_background": "light"
     },
     "output_type": "display_data"
    }
   ],
   "source": [
    "model_params = dict(\n",
    "                normalize=False,\n",
    "                learning_rate=1, \n",
    "                num_iters=200,\n",
    "                batch_size=1024,\n",
    "                momentum=0\n",
    ")\n",
    "\n",
    "lg = CustomLogisticRegression()\n",
    "lg.set_params(**model_params)\n",
    "lg.fit(normalize(X_train), Y_train)\n",
    "#{'learning_rate': 0.1, 'num_iters': 200, 'batch_size': 128, 'momentum': 0.5, 'normalize': False}\n",
    "plt.plot(lg.get_cost_history())\n"
   ]
  },
  {
   "cell_type": "markdown",
   "metadata": {},
   "source": [
    "#### Prediction"
   ]
  },
  {
   "cell_type": "code",
   "execution_count": 205,
   "metadata": {},
   "outputs": [
    {
     "data": {
      "text/plain": [
       "0.9214285714285714"
      ]
     },
     "execution_count": 205,
     "metadata": {},
     "output_type": "execute_result"
    }
   ],
   "source": [
    "y_pred = lg.predict(normalize(X_test))\n",
    "accuracy_score(y_pred, y_test)"
   ]
  },
  {
   "cell_type": "markdown",
   "metadata": {},
   "source": [
    "#### Import"
   ]
  },
  {
   "cell_type": "code",
   "execution_count": 74,
   "metadata": {},
   "outputs": [],
   "source": [
    "from attacks import *\n",
    "from defenses import *\n",
    "\n",
    "from benchmark import untargeted_attack_benchmark\n",
    "from benchmark import show_adversarial_sample\n",
    "from benchmark import benchmark_models\n",
    "#from benchmark import compare_benchmark_models"
   ]
  },
  {
   "cell_type": "code",
   "execution_count": 75,
   "metadata": {},
   "outputs": [],
   "source": [
    "def comapre_benchmark_models(X, y_labels, model,  x11, x22, x44, y11, y22, y44, num_steps=10):\n",
    "    x1, y1, label1 = untargeted_attack_benchmark(X, y_labels, model=model, attack_model=AttackIFGSM, samples=100, num_steps=num_steps)\n",
    "    #x2, y2, label2 = untargeted_attack_benchmark(X, y_labels, model=model, attack_model=AttackFGSM, samples=100, num_steps=num_steps)\n",
    "    #x3, y3, label3 = untargeted_attack_benchmark(X, y_labels, model=model, attack_model=AttackNoise, samples=100, num_steps=num_steps)\n",
    "    #x4, y4, label4 = untargeted_attack_benchmark(X, y_labels, model=model, attack_model=AttackDeepFool, samples=100, num_steps=num_steps)\n",
    "    # x5, y5, label5 = untargeted_attack_benchmark(X_test_correct, y_labels, model=lg, attack_model=AttackMIFGSM, samples=100)\n",
    "\n",
    "    fig, ax = plt.subplots(num=None, figsize=(12, 6), dpi=100, facecolor='w')\n",
    "    plt.grid(which='major', linestyle='-', color='black', alpha=0.2)\n",
    "    ax.set_title('Perturbation vs Success Rate')\n",
    "    ax.set_xlabel(r\"Perturbation $\\epsilon$\")\n",
    "    ax.set_ylabel('Success Rate (%)')\n",
    "\n",
    "    plt.plot(np.array(x1), y1, linestyle='--', marker='o', markersize=2, color='#00A658', label = label1)\n",
    "    plt.plot(np.array(x11), y11, linestyle='-', marker='o', markersize=2, color='#00A658', label = \"\")\n",
    "    print(np.sum(y11) / len(y11), \" : \", np.sum(y1) / len(y1))\n",
    "    plt.legend()"
   ]
  },
  {
   "cell_type": "markdown",
   "metadata": {},
   "source": [
    "### Benchmark"
   ]
  },
  {
   "cell_type": "code",
   "execution_count": 76,
   "metadata": {},
   "outputs": [],
   "source": [
    "# %%time\n",
    "# defense_random = Randomization(resize_range=(-3, 3), pad_range=(0, 0))\n",
    "# X_test_randomized = to_vector_shape(defense_random.get_defended(X_test_images))\n",
    "# y_pred_randomized = lg.predict(normalize(X_test_randomized))\n",
    "# accuracy_score(y_test, y_pred_randomized)"
   ]
  },
  {
   "cell_type": "code",
   "execution_count": 206,
   "metadata": {},
   "outputs": [
    {
     "name": "stdout",
     "output_type": "stream",
     "text": [
      "0 / 100\n",
      "0.125  :  0.124\n",
      "yep\n",
      "1 / 100\n",
      "0.125  :  0.127\n",
      "yep\n",
      "2 / 100\n",
      "0.125  :  0.126\n",
      "3 / 100\n",
      "0.125  :  0.127\n",
      "4 / 100\n",
      "0.125  :  0.124\n",
      "5 / 100\n",
      "0.125  :  0.123\n",
      "6 / 100\n",
      "0.125  :  0.124\n",
      "7 / 100\n",
      "0.125  :  0.125\n",
      "8 / 100\n",
      "0.125  :  0.125\n",
      "9 / 100\n",
      "0.125  :  0.126\n",
      "10 / 100\n",
      "0.125  :  0.126\n",
      "11 / 100\n",
      "0.125  :  0.125\n",
      "12 / 100\n",
      "0.125  :  0.124\n",
      "13 / 100\n",
      "0.125  :  0.124\n",
      "14 / 100\n",
      "0.125  :  0.127\n",
      "15 / 100\n",
      "0.125  :  0.126\n",
      "16 / 100\n",
      "0.125  :  0.127\n",
      "17 / 100\n",
      "0.125  :  0.124\n",
      "18 / 100\n",
      "0.125  :  0.124\n",
      "19 / 100\n",
      "0.125  :  0.124\n",
      "20 / 100\n",
      "0.125  :  0.124\n",
      "21 / 100\n",
      "0.125  :  0.125\n",
      "22 / 100\n",
      "0.125  :  0.127\n",
      "23 / 100\n",
      "0.125  :  0.125\n",
      "24 / 100\n",
      "0.125  :  0.123\n",
      "25 / 100\n",
      "0.125  :  0.122\n",
      "26 / 100\n",
      "0.125  :  0.124\n",
      "27 / 100\n",
      "0.125  :  0.126\n",
      "28 / 100\n",
      "0.125  :  0.126\n",
      "29 / 100\n",
      "0.125  :  0.127\n",
      "30 / 100\n",
      "0.125  :  0.124\n",
      "31 / 100\n",
      "0.125  :  0.124\n",
      "32 / 100\n",
      "0.125  :  0.124\n",
      "33 / 100\n",
      "0.125  :  0.124\n",
      "34 / 100\n",
      "0.125  :  0.123\n",
      "35 / 100\n",
      "0.125  :  0.124\n",
      "36 / 100\n",
      "0.125  :  0.124\n",
      "37 / 100\n",
      "0.125  :  0.124\n",
      "38 / 100\n",
      "0.125  :  0.123\n",
      "39 / 100\n",
      "0.125  :  0.124\n",
      "40 / 100\n",
      "0.125  :  0.126\n",
      "41 / 100\n",
      "0.125  :  0.126\n",
      "42 / 100\n",
      "0.125  :  0.127\n",
      "43 / 100\n",
      "0.125  :  0.124\n",
      "44 / 100\n",
      "0.125  :  0.123\n",
      "45 / 100\n",
      "0.125  :  0.12\n",
      "46 / 100\n",
      "0.125  :  0.124\n",
      "47 / 100\n",
      "0.125  :  0.123\n",
      "48 / 100\n",
      "0.125  :  0.124\n",
      "49 / 100\n",
      "0.125  :  0.124\n",
      "50 / 100\n",
      "0.125  :  0.125\n",
      "51 / 100\n",
      "0.125  :  0.123\n",
      "52 / 100\n",
      "0.125  :  0.124\n",
      "53 / 100\n",
      "0.125  :  0.126\n",
      "54 / 100\n",
      "0.125  :  0.126\n",
      "55 / 100\n",
      "0.125  :  0.127\n",
      "56 / 100\n",
      "0.125  :  0.124\n",
      "57 / 100\n",
      "0.125  :  0.123\n",
      "58 / 100\n",
      "0.125  :  0.12\n",
      "59 / 100\n",
      "0.125  :  0.124\n",
      "60 / 100\n",
      "0.125  :  0.123\n",
      "61 / 100\n",
      "0.125  :  0.124\n",
      "62 / 100\n",
      "0.125  :  0.126\n",
      "63 / 100\n",
      "0.125  :  0.124\n",
      "64 / 100\n",
      "0.125  :  0.124\n",
      "65 / 100\n",
      "0.125  :  0.124\n",
      "66 / 100\n",
      "0.125  :  0.126\n",
      "67 / 100\n",
      "0.125  :  0.126\n",
      "68 / 100\n",
      "0.125  :  0.127\n",
      "69 / 100\n",
      "0.125  :  0.124\n",
      "70 / 100\n",
      "0.125  :  0.123\n",
      "71 / 100\n",
      "0.125  :  0.121\n",
      "72 / 100\n",
      "0.125  :  0.124\n",
      "73 / 100\n",
      "0.125  :  0.123\n",
      "74 / 100\n",
      "0.125  :  0.124\n",
      "75 / 100\n",
      "0.125  :  0.126\n",
      "76 / 100\n",
      "0.125  :  0.123\n",
      "77 / 100\n",
      "0.125  :  0.124\n",
      "78 / 100\n",
      "0.125  :  0.124\n",
      "79 / 100\n",
      "0.125  :  0.126\n",
      "80 / 100\n",
      "0.125  :  0.127\n",
      "81 / 100\n",
      "0.125  :  0.127\n",
      "82 / 100\n",
      "0.125  :  0.123\n",
      "83 / 100\n",
      "0.125  :  0.123\n",
      "84 / 100\n",
      "0.125  :  0.121\n",
      "85 / 100\n",
      "0.125  :  0.123\n",
      "86 / 100\n",
      "0.125  :  0.121\n",
      "87 / 100\n",
      "0.125  :  0.125\n",
      "88 / 100\n",
      "0.125  :  0.123\n",
      "89 / 100\n",
      "0.125  :  0.12\n",
      "90 / 100\n",
      "0.125  :  0.122\n",
      "91 / 100\n",
      "0.125  :  0.124\n",
      "92 / 100\n",
      "0.125  :  0.126\n",
      "93 / 100\n",
      "0.125  :  0.127\n",
      "94 / 100\n",
      "0.125  :  0.127\n",
      "95 / 100\n",
      "0.125  :  0.123\n",
      "96 / 100\n",
      "0.125  :  0.122\n",
      "97 / 100\n",
      "0.125  :  0.119\n",
      "98 / 100\n",
      "0.125  :  0.123\n",
      "99 / 100\n",
      "0.125  :  0.12\n",
      "100 / 100\n",
      "0.125  :  0.123\n",
      "101 / 100\n",
      "0.125  :  0.121\n",
      "102 / 100\n",
      "0.125  :  0.118\n",
      "103 / 100\n",
      "0.125  :  0.123\n",
      "104 / 100\n",
      "0.125  :  0.125\n",
      "105 / 100\n",
      "0.125  :  0.126\n",
      "106 / 100\n",
      "0.125  :  0.129\n",
      "yep\n",
      "107 / 100\n",
      "0.125  :  0.124\n",
      "108 / 100\n",
      "0.125  :  0.122\n",
      "109 / 100\n",
      "0.125  :  0.122\n",
      "110 / 100\n",
      "0.125  :  0.119\n",
      "111 / 100\n",
      "0.125  :  0.123\n",
      "112 / 100\n",
      "0.125  :  0.12\n",
      "113 / 100\n",
      "0.125  :  0.124\n",
      "114 / 100\n",
      "0.125  :  0.12\n",
      "115 / 100\n",
      "0.125  :  0.115\n",
      "116 / 100\n",
      "0.125  :  0.121\n",
      "117 / 100\n",
      "0.125  :  0.124\n",
      "118 / 100\n",
      "0.125  :  0.126\n",
      "119 / 100\n",
      "0.125  :  0.13\n",
      "yep\n",
      "120 / 100\n",
      "0.125  :  0.123\n",
      "121 / 100\n",
      "0.125  :  0.121\n",
      "122 / 100\n",
      "0.125  :  0.122\n",
      "123 / 100\n",
      "0.125  :  0.119\n",
      "124 / 100\n",
      "0.125  :  0.127\n",
      "125 / 100\n",
      "0.125  :  0.121\n",
      "126 / 100\n",
      "0.125  :  0.124\n",
      "127 / 100\n",
      "0.125  :  0.119\n",
      "128 / 100\n",
      "0.125  :  0.115\n",
      "129 / 100\n",
      "0.125  :  0.122\n",
      "130 / 100\n",
      "0.125  :  0.123\n",
      "131 / 100\n",
      "0.125  :  0.126\n",
      "132 / 100\n",
      "0.125  :  0.128\n",
      "133 / 100\n",
      "0.125  :  0.123\n",
      "134 / 100\n",
      "0.125  :  0.12\n",
      "135 / 100\n",
      "0.125  :  0.121\n",
      "136 / 100\n",
      "0.125  :  0.119\n",
      "137 / 100\n",
      "0.125  :  0.127\n",
      "138 / 100\n",
      "0.125  :  0.12\n",
      "139 / 100\n",
      "0.125  :  0.125\n",
      "140 / 100\n",
      "0.125  :  0.117\n",
      "141 / 100\n",
      "0.125  :  0.115\n",
      "142 / 100\n",
      "0.125  :  0.12\n",
      "143 / 100\n",
      "0.125  :  0.123\n",
      "144 / 100\n",
      "0.125  :  0.125\n",
      "145 / 100\n",
      "0.125  :  0.128\n",
      "146 / 100\n",
      "0.125  :  0.12\n",
      "147 / 100\n",
      "0.125  :  0.122\n",
      "148 / 100\n",
      "0.125  :  0.12\n",
      "149 / 100\n",
      "0.125  :  0.118\n",
      "150 / 100\n",
      "0.125  :  0.126\n",
      "151 / 100\n",
      "0.125  :  0.121\n",
      "152 / 100\n",
      "0.125  :  0.125\n",
      "153 / 100\n",
      "0.125  :  0.119\n",
      "154 / 100\n",
      "0.125  :  0.119\n",
      "155 / 100\n",
      "0.125  :  0.12\n",
      "156 / 100\n",
      "0.125  :  0.123\n",
      "157 / 100\n",
      "0.125  :  0.125\n",
      "158 / 100\n",
      "0.125  :  0.128\n",
      "159 / 100\n",
      "0.125  :  0.123\n",
      "160 / 100\n",
      "0.125  :  0.122\n",
      "161 / 100\n",
      "0.125  :  0.119\n",
      "162 / 100\n",
      "0.125  :  0.118\n",
      "163 / 100\n",
      "0.125  :  0.126\n",
      "164 / 100\n",
      "0.125  :  0.123\n",
      "165 / 100\n",
      "0.125  :  0.123\n",
      "166 / 100\n",
      "0.125  :  0.118\n",
      "167 / 100\n",
      "0.125  :  0.119\n",
      "168 / 100\n",
      "0.125  :  0.12\n",
      "169 / 100\n",
      "0.125  :  0.122\n",
      "170 / 100\n",
      "0.125  :  0.125\n",
      "171 / 100\n",
      "0.125  :  0.128\n",
      "172 / 100\n",
      "0.125  :  0.122\n",
      "173 / 100\n",
      "0.125  :  0.122\n",
      "174 / 100\n",
      "0.125  :  0.122\n",
      "175 / 100\n",
      "0.125  :  0.118\n",
      "176 / 100\n",
      "0.125  :  0.124\n",
      "177 / 100\n",
      "0.125  :  0.121\n",
      "178 / 100\n",
      "0.125  :  0.123\n",
      "179 / 100\n",
      "0.125  :  0.117\n",
      "180 / 100\n",
      "0.125  :  0.119\n",
      "181 / 100\n",
      "0.125  :  0.122\n",
      "Wall time: 53.6 s\n"
     ]
    }
   ],
   "source": [
    "%%time\n",
    "\n",
    "best_res = 0\n",
    "b_d = 0\n",
    "b_w = 0\n",
    "\n",
    "count = 0\n",
    "for d in np.array(range(1, 15)) * 1:\n",
    "    for w in np.array(range(2, 15)) * 1:\n",
    "        print(count, \"/\", 100)\n",
    "        count += 1\n",
    "        defense_deflection = PixelDeflection(deflections=d, window=w)\n",
    "        X_test_deflected = to_vector_shape(defense_deflection.get_defended(X_test_images[0:100]))\n",
    "        y_pred_deflected = lg.predict(normalize(X_test_deflected))\n",
    "        #print(accuracy_score(y_test, y_pred_deflected))\n",
    "        a, b = compare_model_for_two_inputs(X_test, X_test_deflected, Y_test, y_test, model=lg, attack=AttackFGSM, samples=100, num_steps=10, visualize=False)\n",
    "        if (b > best_res):\n",
    "            print(\"yep\")\n",
    "            b_d = d\n",
    "            b_w = w\n",
    "            best_res = b\n"
   ]
  },
  {
   "cell_type": "code",
   "execution_count": 207,
   "metadata": {},
   "outputs": [
    {
     "name": "stdout",
     "output_type": "stream",
     "text": [
      "10 4\n"
     ]
    }
   ],
   "source": [
    "print(b_d, b_w)"
   ]
  },
  {
   "cell_type": "code",
   "execution_count": null,
   "metadata": {},
   "outputs": [],
   "source": [
    "#6 24"
   ]
  },
  {
   "cell_type": "code",
   "execution_count": 209,
   "metadata": {},
   "outputs": [
    {
     "name": "stdout",
     "output_type": "stream",
     "text": [
      "-\n",
      "0.125  :  0.13\n"
     ]
    },
    {
     "data": {
      "text/plain": [
       "(0.125, 0.13)"
      ]
     },
     "execution_count": 209,
     "metadata": {},
     "output_type": "execute_result"
    },
    {
     "data": {
      "image/png": "[encoded data removed]",
      "text/plain": [
       "<Figure size 1200x600 with 1 Axes>"
      ]
     },
     "metadata": {},
     "output_type": "display_data"
    }
   ],
   "source": [
    "defense_deflection = PixelDeflection(deflections=10, window=4)\n",
    "X_test_deflected = to_vector_shape(defense_deflection.get_defended(X_test_images[0:100]))\n",
    "print(\"-\")\n",
    "compare_model_for_two_inputs(X_test, X_test_deflected, Y_test, y_test, model=lg, attack=AttackFGSM, samples=100, num_steps=10, visualize=True)"
   ]
  },
  {
   "cell_type": "code",
   "execution_count": 25,
   "metadata": {},
   "outputs": [
    {
     "ename": "KeyboardInterrupt",
     "evalue": "",
     "output_type": "error",
     "traceback": [
      "\u001b[1;31m---------------------------------------------------------------------------\u001b[0m",
      "\u001b[1;31mKeyboardInterrupt\u001b[0m                         Traceback (most recent call last)",
      "\u001b[1;32m<ipython-input-25-a8a954b72a31>\u001b[0m in \u001b[0;36m<module>\u001b[1;34m\u001b[0m\n\u001b[0;32m      1\u001b[0m \u001b[0mdefense_deflection\u001b[0m \u001b[1;33m=\u001b[0m \u001b[0mPixelDeflection\u001b[0m\u001b[1;33m(\u001b[0m\u001b[0mdeflections\u001b[0m\u001b[1;33m=\u001b[0m\u001b[1;36m100\u001b[0m\u001b[1;33m,\u001b[0m \u001b[0mwindow\u001b[0m\u001b[1;33m=\u001b[0m\u001b[1;36m40\u001b[0m\u001b[1;33m)\u001b[0m\u001b[1;33m\u001b[0m\u001b[1;33m\u001b[0m\u001b[0m\n\u001b[1;32m----> 2\u001b[1;33m \u001b[0mX_test_deflected\u001b[0m \u001b[1;33m=\u001b[0m \u001b[0mto_vector_shape\u001b[0m\u001b[1;33m(\u001b[0m\u001b[0mdefense_deflection\u001b[0m\u001b[1;33m.\u001b[0m\u001b[0mget_defended\u001b[0m\u001b[1;33m(\u001b[0m\u001b[0mX_test_images\u001b[0m\u001b[1;33m)\u001b[0m\u001b[1;33m)\u001b[0m\u001b[1;33m\u001b[0m\u001b[1;33m\u001b[0m\u001b[0m\n\u001b[0m\u001b[0;32m      3\u001b[0m \u001b[0maccuracy_score\u001b[0m\u001b[1;33m(\u001b[0m\u001b[0mlg\u001b[0m\u001b[1;33m.\u001b[0m\u001b[0mpredict\u001b[0m\u001b[1;33m(\u001b[0m\u001b[0mnormalize\u001b[0m\u001b[1;33m(\u001b[0m\u001b[0mX_test_deflected\u001b[0m\u001b[1;33m)\u001b[0m\u001b[1;33m)\u001b[0m\u001b[1;33m,\u001b[0m \u001b[0my_test\u001b[0m\u001b[1;33m)\u001b[0m\u001b[1;33m\u001b[0m\u001b[1;33m\u001b[0m\u001b[0m\n",
      "\u001b[1;32m<ipython-input-12-b37a18c86981>\u001b[0m in \u001b[0;36mget_defended\u001b[1;34m(self, X, rmap)\u001b[0m\n\u001b[0;32m     11\u001b[0m         \u001b[1;32melse\u001b[0m\u001b[1;33m:\u001b[0m\u001b[1;33m\u001b[0m\u001b[1;33m\u001b[0m\u001b[0m\n\u001b[0;32m     12\u001b[0m             X_new = [\n\u001b[1;32m---> 13\u001b[1;33m                 \u001b[0mself\u001b[0m\u001b[1;33m.\u001b[0m\u001b[0mpixel_deflection_without_map\u001b[0m\u001b[1;33m(\u001b[0m\u001b[0mx\u001b[0m\u001b[1;33m,\u001b[0m \u001b[0mself\u001b[0m\u001b[1;33m.\u001b[0m\u001b[0mdeflections\u001b[0m\u001b[1;33m,\u001b[0m \u001b[0mself\u001b[0m\u001b[1;33m.\u001b[0m\u001b[0mwindow\u001b[0m\u001b[1;33m)\u001b[0m \u001b[1;32mfor\u001b[0m \u001b[0mx\u001b[0m \u001b[1;32min\u001b[0m \u001b[0mX\u001b[0m\u001b[1;33m\u001b[0m\u001b[1;33m\u001b[0m\u001b[0m\n\u001b[0m\u001b[0;32m     14\u001b[0m             ]\n\u001b[0;32m     15\u001b[0m \u001b[1;33m\u001b[0m\u001b[0m\n",
      "\u001b[1;32m<ipython-input-12-b37a18c86981>\u001b[0m in \u001b[0;36m<listcomp>\u001b[1;34m(.0)\u001b[0m\n\u001b[0;32m     11\u001b[0m         \u001b[1;32melse\u001b[0m\u001b[1;33m:\u001b[0m\u001b[1;33m\u001b[0m\u001b[1;33m\u001b[0m\u001b[0m\n\u001b[0;32m     12\u001b[0m             X_new = [\n\u001b[1;32m---> 13\u001b[1;33m                 \u001b[0mself\u001b[0m\u001b[1;33m.\u001b[0m\u001b[0mpixel_deflection_without_map\u001b[0m\u001b[1;33m(\u001b[0m\u001b[0mx\u001b[0m\u001b[1;33m,\u001b[0m \u001b[0mself\u001b[0m\u001b[1;33m.\u001b[0m\u001b[0mdeflections\u001b[0m\u001b[1;33m,\u001b[0m \u001b[0mself\u001b[0m\u001b[1;33m.\u001b[0m\u001b[0mwindow\u001b[0m\u001b[1;33m)\u001b[0m \u001b[1;32mfor\u001b[0m \u001b[0mx\u001b[0m \u001b[1;32min\u001b[0m \u001b[0mX\u001b[0m\u001b[1;33m\u001b[0m\u001b[1;33m\u001b[0m\u001b[0m\n\u001b[0m\u001b[0;32m     14\u001b[0m             ]\n\u001b[0;32m     15\u001b[0m \u001b[1;33m\u001b[0m\u001b[0m\n",
      "\u001b[1;32m<ipython-input-12-b37a18c86981>\u001b[0m in \u001b[0;36mpixel_deflection_without_map\u001b[1;34m(self, img, deflections, window)\u001b[0m\n\u001b[0;32m     23\u001b[0m                 \u001b[0mx\u001b[0m\u001b[1;33m,\u001b[0m\u001b[0my\u001b[0m \u001b[1;33m=\u001b[0m \u001b[0mrandint\u001b[0m\u001b[1;33m(\u001b[0m\u001b[1;36m0\u001b[0m\u001b[1;33m,\u001b[0m\u001b[0mH\u001b[0m\u001b[1;33m-\u001b[0m\u001b[1;36m1\u001b[0m\u001b[1;33m)\u001b[0m\u001b[1;33m,\u001b[0m \u001b[0mrandint\u001b[0m\u001b[1;33m(\u001b[0m\u001b[1;36m0\u001b[0m\u001b[1;33m,\u001b[0m\u001b[0mW\u001b[0m\u001b[1;33m-\u001b[0m\u001b[1;36m1\u001b[0m\u001b[1;33m)\u001b[0m\u001b[1;33m\u001b[0m\u001b[1;33m\u001b[0m\u001b[0m\n\u001b[0;32m     24\u001b[0m                 \u001b[1;32mwhile\u001b[0m \u001b[1;32mTrue\u001b[0m\u001b[1;33m:\u001b[0m \u001b[1;31m#this is to ensure that PD pixel lies inside the image\u001b[0m\u001b[1;33m\u001b[0m\u001b[1;33m\u001b[0m\u001b[0m\n\u001b[1;32m---> 25\u001b[1;33m                     \u001b[0ma\u001b[0m\u001b[1;33m,\u001b[0m\u001b[0mb\u001b[0m \u001b[1;33m=\u001b[0m \u001b[0mrandint\u001b[0m\u001b[1;33m(\u001b[0m\u001b[1;33m-\u001b[0m\u001b[1;36m1\u001b[0m\u001b[1;33m*\u001b[0m\u001b[0mwindow\u001b[0m\u001b[1;33m,\u001b[0m\u001b[0mwindow\u001b[0m\u001b[1;33m)\u001b[0m\u001b[1;33m,\u001b[0m \u001b[0mrandint\u001b[0m\u001b[1;33m(\u001b[0m\u001b[1;33m-\u001b[0m\u001b[1;36m1\u001b[0m\u001b[1;33m*\u001b[0m\u001b[0mwindow\u001b[0m\u001b[1;33m,\u001b[0m\u001b[0mwindow\u001b[0m\u001b[1;33m)\u001b[0m\u001b[1;33m\u001b[0m\u001b[1;33m\u001b[0m\u001b[0m\n\u001b[0m\u001b[0;32m     26\u001b[0m                     \u001b[1;32mif\u001b[0m \u001b[0mx\u001b[0m\u001b[1;33m+\u001b[0m\u001b[0ma\u001b[0m \u001b[1;33m<\u001b[0m \u001b[0mH\u001b[0m \u001b[1;32mand\u001b[0m \u001b[0mx\u001b[0m\u001b[1;33m+\u001b[0m\u001b[0ma\u001b[0m \u001b[1;33m>\u001b[0m \u001b[1;36m0\u001b[0m \u001b[1;32mand\u001b[0m \u001b[0my\u001b[0m\u001b[1;33m+\u001b[0m\u001b[0mb\u001b[0m \u001b[1;33m<\u001b[0m \u001b[0mW\u001b[0m \u001b[1;32mand\u001b[0m \u001b[0my\u001b[0m\u001b[1;33m+\u001b[0m\u001b[0mb\u001b[0m \u001b[1;33m>\u001b[0m \u001b[1;36m0\u001b[0m\u001b[1;33m:\u001b[0m \u001b[1;32mbreak\u001b[0m\u001b[1;33m\u001b[0m\u001b[1;33m\u001b[0m\u001b[0m\n\u001b[0;32m     27\u001b[0m                 \u001b[1;31m# calling pixel deflection as pixel swap would be a misnomer,\u001b[0m\u001b[1;33m\u001b[0m\u001b[1;33m\u001b[0m\u001b[1;33m\u001b[0m\u001b[0m\n",
      "\u001b[1;31mKeyboardInterrupt\u001b[0m: "
     ]
    }
   ],
   "source": [
    "defense_deflection = PixelDeflection(deflections=100, window=40)\n",
    "X_test_deflected = to_vector_shape(defense_deflection.get_defended(X_test_images))\n",
    "accuracy_score(lg.predict(normalize(X_test_deflected)), y_test)"
   ]
  },
  {
   "cell_type": "code",
   "execution_count": 232,
   "metadata": {},
   "outputs": [
    {
     "name": "stdout",
     "output_type": "stream",
     "text": [
      "0 / 900\n",
      "0.188  :  0.184\n",
      "yep\n",
      "1 / 900\n",
      "0.188  :  0.184\n",
      "2 / 900\n",
      "0.188  :  0.184\n",
      "3 / 900\n",
      "0.188  :  0.184\n",
      "Wall time: 1.73 s\n"
     ]
    }
   ],
   "source": [
    "%%time\n",
    "\n",
    "best_res = 1\n",
    "b_d = 0\n",
    "b_w = 0\n",
    "\n",
    "count = 0\n",
    "for d in np.array(range(1, 3)) * 3:\n",
    "    for w in np.array(range(1, 3)) * 3:\n",
    "        print(count, \"/\", 30*30)\n",
    "        count += 1\n",
    "        defense_rand = Randomization(resize_window=d, pad_window=w)\n",
    "        X_test_rand = to_vector_shape(defense_rand.get_defended(X_test_images[0:100]))\n",
    "        y_pred_deflected = lg.predict(normalize(X_test_rand))\n",
    "        #print(accuracy_score(y_test, y_pred_deflected))\n",
    "        a, b = compare_model_for_two_inputs(X_test, X_test_deflected, Y_test, y_test, model=lg, attack=AttackFGSM, samples=100, num_steps=10, visualize=False)\n",
    "        if (b < best_res):\n",
    "            print(\"yep\")\n",
    "            b_d = d\n",
    "            d_w = w\n",
    "            best_res = b\n"
   ]
  },
  {
   "cell_type": "code",
   "execution_count": 135,
   "metadata": {},
   "outputs": [
    {
     "name": "stdout",
     "output_type": "stream",
     "text": [
      "0.776\n",
      "0.177  :  0.139\n"
     ]
    },
    {
     "data": {
      "image/png": "[encoded data removed]",
      "text/plain": [
       "<Figure size 1200x600 with 1 Axes>"
      ]
     },
     "metadata": {},
     "output_type": "display_data"
    }
   ],
   "source": [
    "defense_rand = Randomization(resize_window=3, pad_window=0)\n",
    "X_test_rand = to_vector_shape(defense_rand.get_defended(X_test_images[0:1000]))\n",
    "print(accuracy_score(lg.predict(normalize(X_test_rand)), y_test[0:1000]))\n",
    "a, b = compare_model_for_two_inputs(X_test, X_test_rand, Y_test, y_test, model=lg, attack=AttackFGSM, samples=1000, num_steps=10)"
   ]
  },
  {
   "cell_type": "code",
   "execution_count": 120,
   "metadata": {},
   "outputs": [
    {
     "data": {
      "image/png": "[encoded data removed]",
      "text/plain": [
       "<Figure size 1200x600 with 1 Axes>"
      ]
     },
     "metadata": {},
     "output_type": "display_data"
    }
   ],
   "source": [
    "benchmark_defense_models_visual(X_test, Y_test, y_test, model=lg, samples=100, num_steps=15)"
   ]
  },
  {
   "cell_type": "code",
   "execution_count": null,
   "metadata": {},
   "outputs": [],
   "source": []
  },
  {
   "cell_type": "code",
   "execution_count": 31,
   "metadata": {},
   "outputs": [
    {
     "name": "stdout",
     "output_type": "stream",
     "text": [
      "0.8909523809523809\n"
     ]
    },
    {
     "ename": "NameError",
     "evalue": "name 'x11' is not defined",
     "output_type": "error",
     "traceback": [
      "\u001b[1;31m---------------------------------------------------------------------------\u001b[0m",
      "\u001b[1;31mNameError\u001b[0m                                 Traceback (most recent call last)",
      "\u001b[1;32m<timed exec>\u001b[0m in \u001b[0;36m<module>\u001b[1;34m\u001b[0m\n",
      "\u001b[1;31mNameError\u001b[0m: name 'x11' is not defined"
     ]
    }
   ],
   "source": [
    "%%time\n",
    "# 100\n",
    "#10, 4\n",
    "#30, 4\n",
    "# 10, 50\n",
    "# best - 10, 30\n",
    "# best - 10, 28\n",
    "\n",
    "#76.4 - # 10, 4\n",
    "#76.5 - 30, 2\n",
    "#75.8 - 35, 2\n",
    "defense_deflection = PixelDeflection(deflections=31, window=2)\n",
    "X_test_deflected = to_vector_shape(defense_deflection.get_defended(X_test_images))\n",
    "y_pred_deflected = lg.predict(normalize(X_test_deflected))\n",
    "print(accuracy_score(y_test, y_pred_deflected))\n",
    "\n",
    "correct_pred_idx = y_test[:, 0] == y_pred_deflected\n",
    "comapre_benchmark_models(X_test_deflected[correct_pred_idx], y_labels, lg, x11, x22, x44, y11, y22, y44, num_steps=10)"
   ]
  },
  {
   "cell_type": "markdown",
   "metadata": {},
   "source": [
    "#### RMAP"
   ]
  },
  {
   "cell_type": "code",
   "execution_count": 32,
   "metadata": {},
   "outputs": [],
   "source": [
    "# X_test.iloc[0, :].shape\n",
    "\n",
    "# avg = 0\n",
    "# for i in range(X_test.shape[0]):\n",
    "#     attack = AttackFGSM()\n",
    "#     x_ = normalize(np.expand_dims(X_test.iloc[i, :], axis=0))\n",
    "#     a = attack.attack(x_, lg.W, lg.b, y, lg.predict, max_norm=1)\n",
    "#     avg = avg + (x_ - a)\n",
    "    "
   ]
  },
  {
   "cell_type": "code",
   "execution_count": 33,
   "metadata": {},
   "outputs": [],
   "source": [
    "# #avg = avg / X_test.shape[0]\n",
    "# #plt.imshow(avg.reshape(28, 28))\n",
    "# #avg\n",
    "# denormalize(avg) / X_test.shape[0]\n",
    "# rmap = abs((avg / X_test.shape[0]).reshape(28, 28))\n",
    "# plt.imshow(rmap, 'gray')\n",
    "# rmap[15]"
   ]
  },
  {
   "cell_type": "code",
   "execution_count": 34,
   "metadata": {},
   "outputs": [],
   "source": [
    "# x_ = X_test.to_numpy().reshape(-1, 28,28)[0]\n",
    "# res = pixel_deflection_with_map(x_, avg.reshape(-28, 28), 100, 20)\n",
    "# plt.imshow(res)"
   ]
  },
  {
   "cell_type": "code",
   "execution_count": 35,
   "metadata": {},
   "outputs": [],
   "source": [
    "# avg = avg / X_test.shape[0]\n",
    "# plt.imshow(avg.reshape(28, 28))"
   ]
  },
  {
   "cell_type": "markdown",
   "metadata": {},
   "source": [
    "### Untargeted Noise Attack"
   ]
  },
  {
   "cell_type": "code",
   "execution_count": 36,
   "metadata": {},
   "outputs": [],
   "source": [
    "# index = 38\n",
    "# x = np.expand_dims(X_test[index, :], axis=0)\n",
    "# y = np.zeros(len(y_labels))\n",
    "\n",
    "# true_class = lg.predict(normalize(x))\n",
    "# y[true_class] = 1\n",
    "\n",
    "# show_adversarial_sample(x, y_labels, true_class=y, model=lg, attack_model=AttackNoise, max_norm=1)"
   ]
  },
  {
   "cell_type": "markdown",
   "metadata": {},
   "source": [
    "### Untargeted FGSM"
   ]
  },
  {
   "cell_type": "code",
   "execution_count": 37,
   "metadata": {},
   "outputs": [
    {
     "data": {
      "image/png": "[encoded data removed]",
      "text/plain": [
       "<Figure size 1080x360 with 3 Axes>"
      ]
     },
     "metadata": {
      "needs_background": "light"
     },
     "output_type": "display_data"
    },
    {
     "data": {
      "image/png": "[encoded data removed]",
      "text/plain": [
       "<Figure size 432x288 with 1 Axes>"
      ]
     },
     "metadata": {
      "needs_background": "light"
     },
     "output_type": "display_data"
    },
    {
     "ename": "NameError",
     "evalue": "name 'LA' is not defined",
     "output_type": "error",
     "traceback": [
      "\u001b[1;31m---------------------------------------------------------------------------\u001b[0m",
      "\u001b[1;31mNameError\u001b[0m                                 Traceback (most recent call last)",
      "\u001b[1;32m<ipython-input-37-27f22e6d9e1a>\u001b[0m in \u001b[0;36m<module>\u001b[1;34m\u001b[0m\n\u001b[0;32m      6\u001b[0m \u001b[0my\u001b[0m\u001b[1;33m[\u001b[0m\u001b[0mtrue_class\u001b[0m\u001b[1;33m]\u001b[0m \u001b[1;33m=\u001b[0m \u001b[1;36m1\u001b[0m\u001b[1;33m\u001b[0m\u001b[1;33m\u001b[0m\u001b[0m\n\u001b[0;32m      7\u001b[0m \u001b[1;33m\u001b[0m\u001b[0m\n\u001b[1;32m----> 8\u001b[1;33m \u001b[0mshow_adversarial_sample\u001b[0m\u001b[1;33m(\u001b[0m\u001b[0mx\u001b[0m\u001b[1;33m,\u001b[0m \u001b[0my_labels\u001b[0m\u001b[1;33m,\u001b[0m \u001b[0mtrue_class\u001b[0m\u001b[1;33m=\u001b[0m\u001b[0my\u001b[0m\u001b[1;33m,\u001b[0m \u001b[0mmodel\u001b[0m\u001b[1;33m=\u001b[0m\u001b[0mlg\u001b[0m\u001b[1;33m,\u001b[0m \u001b[0mattack_model\u001b[0m\u001b[1;33m=\u001b[0m\u001b[0mAttackFGSM\u001b[0m\u001b[1;33m,\u001b[0m \u001b[0mmax_norm\u001b[0m\u001b[1;33m=\u001b[0m\u001b[1;36m0.2\u001b[0m\u001b[1;33m)\u001b[0m\u001b[1;33m\u001b[0m\u001b[1;33m\u001b[0m\u001b[0m\n\u001b[0m",
      "\u001b[1;32m~\\Desktop\\files\\AdversarialAI\\Code\\benchmark.py\u001b[0m in \u001b[0;36mshow_adversarial_sample\u001b[1;34m(x, y_labels, true_class, model, attack_model, max_norm, max_iters)\u001b[0m\n\u001b[0;32m     89\u001b[0m     \u001b[0mplt\u001b[0m\u001b[1;33m.\u001b[0m\u001b[0mshow\u001b[0m\u001b[1;33m(\u001b[0m\u001b[1;33m)\u001b[0m\u001b[1;33m\u001b[0m\u001b[1;33m\u001b[0m\u001b[0m\n\u001b[0;32m     90\u001b[0m \u001b[1;33m\u001b[0m\u001b[0m\n\u001b[1;32m---> 91\u001b[1;33m     \u001b[0mprint\u001b[0m\u001b[1;33m(\u001b[0m\u001b[1;34mf\"Norm_inf: {LA.norm(abs(x_normalized - x_adv_normalized), np.inf)}; Result: {attack.tricked}\"\u001b[0m\u001b[1;33m)\u001b[0m\u001b[1;33m\u001b[0m\u001b[1;33m\u001b[0m\u001b[0m\n\u001b[0m\u001b[0;32m     92\u001b[0m     \u001b[0mprint\u001b[0m\u001b[1;33m(\u001b[0m\u001b[1;34mf\"Max value: {max(max(x_adv))}\"\u001b[0m\u001b[1;33m)\u001b[0m\u001b[1;33m\u001b[0m\u001b[1;33m\u001b[0m\u001b[0m\n\u001b[0;32m     93\u001b[0m     \u001b[0mprint\u001b[0m\u001b[1;33m(\u001b[0m\u001b[1;34mf\"Min value: {min(min(x_adv))}\"\u001b[0m\u001b[1;33m)\u001b[0m\u001b[1;33m\u001b[0m\u001b[1;33m\u001b[0m\u001b[0m\n",
      "\u001b[1;31mNameError\u001b[0m: name 'LA' is not defined"
     ]
    }
   ],
   "source": [
    "index = 0\n",
    "x = np.expand_dims(X_test[index, :], axis=0)\n",
    "y = np.zeros(len(y_labels))\n",
    "\n",
    "true_class = lg.predict(normalize(x))\n",
    "y[true_class] = 1\n",
    "\n",
    "show_adversarial_sample(x, y_labels, true_class=y, model=lg, attack_model=AttackFGSM, max_norm=0.2)"
   ]
  },
  {
   "cell_type": "markdown",
   "metadata": {},
   "source": [
    "### Untargeted I-FGSM"
   ]
  },
  {
   "cell_type": "code",
   "execution_count": null,
   "metadata": {},
   "outputs": [],
   "source": [
    "# index = 1\n",
    "# x = np.expand_dims(X_test[correct_pred_idx].iloc[index, :], axis=0)\n",
    "# y = np.zeros(len(y_labels))\n",
    "\n",
    "# true_class = lg.predict(normalize(x))\n",
    "# y[true_class] = 1\n",
    "\n",
    "# show_adversarial_sample(x, y_labels, true_class=y, model=lg, attack_model=AttackIFGSM, max_norm=0.04, max_iters=100)"
   ]
  },
  {
   "cell_type": "markdown",
   "metadata": {},
   "source": [
    "### DeepFool"
   ]
  },
  {
   "cell_type": "code",
   "execution_count": null,
   "metadata": {},
   "outputs": [],
   "source": [
    "# index = 1\n",
    "# x = np.expand_dims(X_test[correct_pred_idx].iloc[index, :], axis=0)\n",
    "# y = np.zeros(len(y_labels))\n",
    "\n",
    "# true_class = lg.predict(normalize(x))\n",
    "# y[true_class] = 1\n",
    "\n",
    "# show_adversarial_sample(x, y_labels, true_class=y, model=lg, attack_model=AttackDeepFool, max_norm=0.15, max_iters=12)"
   ]
  },
  {
   "cell_type": "markdown",
   "metadata": {},
   "source": [
    "### Targeted I-FGSM"
   ]
  },
  {
   "cell_type": "code",
   "execution_count": null,
   "metadata": {},
   "outputs": [],
   "source": [
    "# index = 1\n",
    "# x = np.expand_dims(X_test[correct_pred_idx].iloc[index, :], axis=0)\n",
    "# y = np.zeros(len(y_labels))\n",
    "# y[9] = 1\n",
    "\n",
    "# show_adversarial_sample(x, y_labels, true_class=y, model=lg, attack_model=AttackTIFGSM, max_norm=0.2, max_iters=5000)"
   ]
  },
  {
   "cell_type": "markdown",
   "metadata": {},
   "source": [
    "### Untargeted MI-FGSM"
   ]
  },
  {
   "cell_type": "code",
   "execution_count": null,
   "metadata": {},
   "outputs": [],
   "source": [
    "# index = 123\n",
    "# x = np.expand_dims(X_test[correct_pred_idx].iloc[index, :], axis=0)\n",
    "# y = np.zeros(len(y_labels))\n",
    "\n",
    "# true_class = lg.predict(normalize(x))\n",
    "# y[true_class] = 1\n",
    "\n",
    "# show_adversarial_sample(x, y_labels, true_class=y, model=lg, attack_model=AttackMIFGSM, max_norm=1, max_iters=5000)"
   ]
  },
  {
   "cell_type": "markdown",
   "metadata": {},
   "source": [
    "#### Model evaluation"
   ]
  },
  {
   "cell_type": "code",
   "execution_count": null,
   "metadata": {},
   "outputs": [],
   "source": [
    "# y_real = np.array(y_test.iloc[:, 0])\n",
    "\n",
    "# comp = pd.DataFrame({\"y_pred\": y_pred, \"y_real\": y_real})\n",
    "# print(comp.head(20))"
   ]
  },
  {
   "cell_type": "code",
   "execution_count": null,
   "metadata": {},
   "outputs": [],
   "source": [
    "##### from sklearn.metrics import mean_squared_error\n",
    "# from sklearn.metrics import mean_absolute_error\n",
    "# from sklearn.metrics import r2_score\n",
    "# r2 = r2_score(y_real, y_pred)\n",
    "# accuracy = int(sum(y_real == y_pred) / len(y_pred) * 100)\n",
    "\n",
    "# print(f'Coefficient of determination: {r2}')\n",
    "# print(f\"Accuracy: {accuracy}%\")"
   ]
  }
 ],
 "metadata": {
  "kernelspec": {
   "display_name": "Python 3",
   "language": "python",
   "name": "python3"
  },
  "language_info": {
   "codemirror_mode": {
    "name": "ipython",
    "version": 3
   },
   "file_extension": ".py",
   "mimetype": "text/x-python",
   "name": "python",
   "nbconvert_exporter": "python",
   "pygments_lexer": "ipython3",
   "version": "3.7.6"
  }
 },
 "nbformat": 4,
 "nbformat_minor": 4
}
