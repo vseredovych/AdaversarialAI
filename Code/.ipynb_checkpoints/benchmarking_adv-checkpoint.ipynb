{
 "cells": [
  {
   "cell_type": "code",
   "execution_count": 1,
   "metadata": {},
   "outputs": [],
   "source": [
    "import numpy as np\n",
    "import pandas as pd\n",
    "import seaborn as sns\n",
    "\n",
    "from mpmath import *\n",
    "from sympy import *\n",
    "from numpy import linalg as LA\n",
    "from sklearn.model_selection import train_test_split\n",
    "\n",
    "import matplotlib.pyplot as plt\n",
    "%matplotlib inline"
   ]
  },
  {
   "cell_type": "code",
   "execution_count": 2,
   "metadata": {},
   "outputs": [],
   "source": [
    "normalization = 255"
   ]
  },
  {
   "cell_type": "code",
   "execution_count": 3,
   "metadata": {},
   "outputs": [],
   "source": [
    "def plot_J(J_history):\n",
    "    x = np.arange(0, len(J_history))\n",
    "    plt.plot(x, J_history)\n",
    "    plt.show()"
   ]
  },
  {
   "cell_type": "code",
   "execution_count": 4,
   "metadata": {},
   "outputs": [],
   "source": [
    "def normalize(X):\n",
    "    return X / normalization"
   ]
  },
  {
   "cell_type": "code",
   "execution_count": 5,
   "metadata": {},
   "outputs": [],
   "source": [
    "def denormalize(X):\n",
    "    return X * normalization"
   ]
  },
  {
   "cell_type": "code",
   "execution_count": 6,
   "metadata": {},
   "outputs": [],
   "source": [
    "def show_samples(X, nrows=5, ncols=5, rsize=5, csize=5):\n",
    "    fig, ax = plt.subplots(nrows=nrows, ncols=ncols, sharex='col', sharey='row', \n",
    "                           gridspec_kw={'hspace': -0.02, 'wspace': -0.02}, figsize=(rsize, csize))\n",
    "\n",
    "    counter=0\n",
    "    for row in ax:\n",
    "        for col in row:\n",
    "            col.imshow(X[counter], 'gray')\n",
    "            col.axis('off')\n",
    "            counter += 1\n",
    "    plt.show()"
   ]
  },
  {
   "cell_type": "code",
   "execution_count": 228,
   "metadata": {},
   "outputs": [],
   "source": [
    "def get_images_path(img_dir):\n",
    "    \"\"\"\n",
    "    returns array with images path\n",
    "    \"\"\"\n",
    "    image_full_names = []    \n",
    "    image_names = listdir(img_dir)\n",
    "    for image_name in image_names:\n",
    "        image_full_names.append(img_dir + image_name)\n",
    "    return image_full_names"
   ]
  },
  {
   "cell_type": "code",
   "execution_count": 229,
   "metadata": {},
   "outputs": [],
   "source": [
    "def resize_images(images_path, width):\n",
    "    \"\"\"\n",
    "    resize all images in the dataset for processing in format:\n",
    "    N x M x 3  \n",
    "    Width x Length x RGB\n",
    "    \"\"\"\n",
    "    imported_images = []\n",
    "    for image_path in images_path:\n",
    "        foo = cv2.imread(image_path)\n",
    "        foo = cv2.resize(foo, (image_width, width))\n",
    "        imported_images.append(foo)\n",
    "    return imported_images"
   ]
  },
  {
   "cell_type": "code",
   "execution_count": 230,
   "metadata": {},
   "outputs": [],
   "source": [
    "def process_image(image, width):\n",
    "    \"\"\"\n",
    "    returns image as an array of features\n",
    "    \"\"\"\n",
    "    out = []\n",
    "    for x in range(width):\n",
    "        for y in range(width):\n",
    "            for z in range(3): #account for RGB\n",
    "                out.append(image[x][y][z])\n",
    "    return np.asarray(out)"
   ]
  },
  {
   "cell_type": "code",
   "execution_count": 233,
   "metadata": {},
   "outputs": [],
   "source": [
    "def precess_images(images, width):\n",
    "    \"\"\"\n",
    "    returns numpy array of processed images\n",
    "    \"\"\"\n",
    "    return np.array([process_image(image, width = width) for image in images])"
   ]
  },
  {
   "cell_type": "code",
   "execution_count": 235,
   "metadata": {},
   "outputs": [],
   "source": [
    "# #https://www.kaggle.com/alexattia/the-simpsons-characters-dataset\n",
    "# base_dir = \"./the-simpsons-characters-dataset/simpsons_dataset/\"\n",
    "# bart_dir = f\"{base_dir}bart_simpson/\"\n",
    "# homer_dir = f\"{base_dir}simpsons_dataset/homer_simpson/\"\n",
    "# image_width = 115\n",
    "# imgs_path_bart = get_images_path(bart_dir)\n",
    "# imgs_path_homer = get_images_path(homer_dir)"
   ]
  },
  {
   "cell_type": "code",
   "execution_count": 568,
   "metadata": {},
   "outputs": [
    {
     "ename": "SyntaxError",
     "evalue": "invalid syntax (<ipython-input-568-7fe4a68f0ea5>, line 14)",
     "output_type": "error",
     "traceback": [
      "\u001b[1;36m  File \u001b[1;32m\"<ipython-input-568-7fe4a68f0ea5>\"\u001b[1;36m, line \u001b[1;32m14\u001b[0m\n\u001b[1;33m    for i, r_idx enumerate(r_idxs):\u001b[0m\n\u001b[1;37m                         ^\u001b[0m\n\u001b[1;31mSyntaxError\u001b[0m\u001b[1;31m:\u001b[0m invalid syntax\n"
     ]
    }
   ],
   "source": [
    "def scale(img, n_rows, n_cols):\n",
    "    n_rows0 = img.shape[0] # source number of rows \n",
    "    n_cols0 = img.shape[1] # source number of columns\n",
    "    \n",
    "    new_img = np.zeros((n_rows, n_cols))\n",
    "    print(new_img.shape)\n",
    "    #for r in range(n_rows):\n",
    "    #    for c in range(n_cols):\n",
    "    #        new_img[r, c] = img[int(n_rows0 * r / n_rows)][int(n_cols0 * c / n_cols)]\n",
    "    \n",
    "    r_idxs = (n_rows0 * np.arange(n_rows) / n_rows).astype(int)\n",
    "    c_idxs = (n_cols0 * np.arange(n_cols) / n_cols).astype(int)\n",
    "    \n",
    "    for i, r_idx enumerate(r_idxs):\n",
    "        for j, c_idx enumerate(c_idxs):\n",
    "            new_img[i][j] = img[r_idx][c_idx]\n",
    "    return new_img\n",
    "\n",
    "x_ = scale(x_, default_w+10, default_h+10)"
   ]
  },
  {
   "cell_type": "code",
   "execution_count": 541,
   "metadata": {},
   "outputs": [
    {
     "name": "stdout",
     "output_type": "stream",
     "text": [
      "(29, 27)\n",
      "(28, 28)\n"
     ]
    },
    {
     "data": {
      "text/plain": [
       "<matplotlib.image.AxesImage at 0x28358f4d888>"
      ]
     },
     "execution_count": 541,
     "metadata": {},
     "output_type": "execute_result"
    },
    {
     "data": {
      "image/png": "[encoded data removed]",
      "text/plain": [
       "<Figure size 432x288 with 1 Axes>"
      ]
     },
     "metadata": {
      "needs_background": "light"
     },
     "output_type": "display_data"
    }
   ],
   "source": [
    "default_w, default_h = (28, 28)\n",
    "\n",
    "w, h = np.random.choice([-1, 1], 2)\n",
    "p_t, p_b, p_l, p_r = np.random.choice([1, 2], 4)\n",
    "\n",
    "x_scaled = scale(x_, default_w + w, default_h + h)\n",
    "x_scaled_padded = np.pad(new, ((p_t, p_b), (p_l, p_r)), 'constant')\n",
    "x_ = scale(x_scaled_padded, default_w, default_h)\n",
    "plt.imshow(x_)\n"
   ]
  },
  {
   "cell_type": "code",
   "execution_count": 333,
   "metadata": {},
   "outputs": [
    {
     "data": {
      "text/plain": [
       "<matplotlib.image.AxesImage at 0x28356e3f3c8>"
      ]
     },
     "execution_count": 333,
     "metadata": {},
     "output_type": "execute_result"
    },
    {
     "data": {
      "image/png": "[encoded data removed]",
      "text/plain": [
       "<Figure size 432x288 with 1 Axes>"
      ]
     },
     "metadata": {
      "needs_background": "light"
     },
     "output_type": "display_data"
    }
   ],
   "source": [
    "x_ = X_train.to_numpy()[0].reshape(28,28)\n",
    "new = scale(x_, 29, 27)\n",
    "plt.imshow(new)"
   ]
  },
  {
   "cell_type": "code",
   "execution_count": 396,
   "metadata": {},
   "outputs": [
    {
     "data": {
      "text/plain": [
       "<matplotlib.image.AxesImage at 0x28357b39848>"
      ]
     },
     "execution_count": 396,
     "metadata": {},
     "output_type": "execute_result"
    },
    {
     "data": {
      "image/png": "[encoded data removed]",
      "text/plain": [
       "<Figure size 432x288 with 1 Axes>"
      ]
     },
     "metadata": {
      "needs_background": "light"
     },
     "output_type": "display_data"
    }
   ],
   "source": [
    "# (top/bot) (left,right) \n",
    "x__ = np.pad(new, ((2, 2), (4, 20)), 'constant')\n",
    "plt.imshow(x__)"
   ]
  },
  {
   "cell_type": "code",
   "execution_count": 397,
   "metadata": {},
   "outputs": [
    {
     "name": "stdout",
     "output_type": "stream",
     "text": [
      "(28, 28)\n"
     ]
    },
    {
     "data": {
      "text/plain": [
       "<matplotlib.image.AxesImage at 0x28357b94c88>"
      ]
     },
     "execution_count": 397,
     "metadata": {},
     "output_type": "execute_result"
    },
    {
     "data": {
      "image/png": "[encoded data removed]",
      "text/plain": [
       "<Figure size 432x288 with 1 Axes>"
      ]
     },
     "metadata": {
      "needs_background": "light"
     },
     "output_type": "display_data"
    }
   ],
   "source": [
    "x___ = scale(x__, 28, 28)\n",
    "plt.imshow(x___)"
   ]
  },
  {
   "cell_type": "code",
   "execution_count": 398,
   "metadata": {},
   "outputs": [
    {
     "data": {
      "text/plain": [
       "array([8])"
      ]
     },
     "execution_count": 398,
     "metadata": {},
     "output_type": "execute_result"
    }
   ],
   "source": [
    "lg.predict(normalize(x___.reshape(-1, 784)))"
   ]
  },
  {
   "cell_type": "code",
   "execution_count": 7,
   "metadata": {},
   "outputs": [
    {
     "name": "stdout",
     "output_type": "stream",
     "text": [
      "Dataset: X=(42000, 784), y=(42000, 1)\n"
     ]
    }
   ],
   "source": [
    "filename_test = \"./data/digit-recognizer/test.csv\"\n",
    "filename_train = \"./data/digit-recognizer/train.csv\"\n",
    "\n",
    "df_train = pd.read_csv(filename_train, delimiter=',')\n",
    "df_test = pd.read_csv(filename_test, delimiter=',')\n",
    "\n",
    "X = df_train.loc[:, df_train.columns != \"label\"]\n",
    "y = df_train.loc[:, df_train.columns == \"label\"]\n",
    "print('Dataset: X={}, y={}'.format(X.shape, y.shape))"
   ]
  },
  {
   "cell_type": "code",
   "execution_count": 8,
   "metadata": {},
   "outputs": [
    {
     "name": "stdout",
     "output_type": "stream",
     "text": [
      "Training set: X=(33600, 784), y=(33600, 1)\n",
      "Test set: X=(8400, 784), y=(8400, 1)\n"
     ]
    }
   ],
   "source": [
    "X_train, X_test, y_train, y_test = train_test_split(X, y, test_size = 0.2, shuffle = True, stratify = y)\n",
    "\n",
    "print('Training set: X={}, y={}'.format(X_train.shape, y_train.shape))\n",
    "print('Test set: X={}, y={}'.format(X_test.shape, y_test.shape))"
   ]
  },
  {
   "cell_type": "code",
   "execution_count": 9,
   "metadata": {},
   "outputs": [
    {
     "data": {
      "image/png": "[encoded data removed]",
      "text/plain": [
       "<Figure size 720x720 with 64 Axes>"
      ]
     },
     "metadata": {
      "needs_background": "light"
     },
     "output_type": "display_data"
    }
   ],
   "source": [
    "X_show = X_train.to_numpy().reshape(-1,28,28)\n",
    "show_samples(X_show, nrows=8, ncols=8, rsize=10, csize=10)"
   ]
  },
  {
   "cell_type": "code",
   "execution_count": 10,
   "metadata": {},
   "outputs": [],
   "source": [
    "from sklearn.preprocessing import OneHotEncoder\n",
    "encoder = OneHotEncoder()\n",
    "encoder.fit(y_train)\n",
    "\n",
    "Y_train = encoder.transform(y_train).toarray()\n",
    "y_labels = [x[3:] for x in  encoder.get_feature_names()]\n",
    "\n",
    "# encoder.fit(y_test)\n",
    "# Y_test = encoder.transform(y_test).toarray()"
   ]
  },
  {
   "cell_type": "code",
   "execution_count": 11,
   "metadata": {
    "scrolled": true
   },
   "outputs": [
    {
     "name": "stdout",
     "output_type": "stream",
     "text": [
      "0 iteration: 98.68221827117338\n"
     ]
    },
    {
     "data": {
      "image/png": "[encoded data removed]",
      "text/plain": [
       "<Figure size 432x288 with 1 Axes>"
      ]
     },
     "metadata": {
      "needs_background": "light"
     },
     "output_type": "display_data"
    },
    {
     "name": "stdout",
     "output_type": "stream",
     "text": [
      "16.712634245537416\n",
      "Wall time: 7.07 s\n"
     ]
    }
   ],
   "source": [
    "%%time\n",
    "from LogisticRegression import CustomLogisticRegression\n",
    "lg = CustomLogisticRegression(normalize=False)\n",
    "lg.fit(normalize(X_train), Y_train, 0.5, 100, 1e-15)\n",
    "\n",
    "plot_J(lg.get_cost_history())\n",
    "print(lg.get_cost_history()[-1])"
   ]
  },
  {
   "cell_type": "code",
   "execution_count": 12,
   "metadata": {},
   "outputs": [
    {
     "data": {
      "text/plain": [
       "array([3, 9, 7, ..., 7, 3, 3])"
      ]
     },
     "execution_count": 12,
     "metadata": {},
     "output_type": "execute_result"
    }
   ],
   "source": [
    "y_pred = lg.predict(normalize(X_test))\n",
    "y_pred"
   ]
  },
  {
   "cell_type": "code",
   "execution_count": 378,
   "metadata": {},
   "outputs": [
    {
     "data": {
      "text/plain": [
       "array([7])"
      ]
     },
     "execution_count": 378,
     "metadata": {},
     "output_type": "execute_result"
    }
   ],
   "source": []
  },
  {
   "cell_type": "code",
   "execution_count": 13,
   "metadata": {},
   "outputs": [],
   "source": [
    "from matplotlib import rc\n",
    "def show_adversarial_sample(x, y_labels, true_class=[], model=None, attack_model=None, max_norm=10, max_iters=10):\n",
    "\n",
    "    x_normalized = normalize(x)\n",
    "    attack = attack_model()\n",
    "\n",
    "    if type(attack).__name__ in ['AttackNoise']:\n",
    "        x_adv_normalized = attack.attack(x_normalized, true_class, model.predict, max_norm=max_norm)\n",
    "    \n",
    "    elif type(attack).__name__ in ['AttackIFGSM', 'AttackTIFGSM', 'AttackFGSM', 'AttackDeepFool', 'AttackMIFGSM']:\n",
    "        x_adv_normalized = attack.attack(x_normalized, model.W, model.b, true_class, model.predict, max_norm=max_norm)\n",
    "    \n",
    "    elif type(attack).__name__ in ['AttackMIFGSM']:\n",
    "        x_adv_normalized = attack.attack(x_normalized, model.W, model.b, true_class, model.predict, max_norm=max_norm, momentum=0.1)\n",
    "        \n",
    "    x_adv = denormalize(x_adv_normalized)\n",
    "    x_adv_pred = model.predict(np.array(x_adv_normalized))\n",
    "    \n",
    "    fig, (ax1, ax2, ax3) = plt.subplots(1, 3, squeeze=True, sharex=True, sharey=True)\n",
    "    fig.set_size_inches(15,5)\n",
    "    fig.suptitle('Adversarial example')\n",
    "    \n",
    "    ax1.imshow(x.reshape(28,28), 'gray')\n",
    "    ax1.set_title(f\"Original\\n prediction: {model.predict(x_normalized)[0]}\")\n",
    "    \n",
    "    ax2.imshow(x.reshape(28,28) - x_adv.reshape(28,28), \"gray\")\n",
    "    ax2.set_title(f\"Difference\")\n",
    "    \n",
    "    ax3.imshow(x_adv.reshape(28,28), 'gray')\n",
    "    ax3.set_title(f\"Adversarial\\n prediction: {x_adv_pred[0]}\")\n",
    "    plt.show()\n",
    "\n",
    "    pred_with_labels = model.predict_by_labels(np.array(x_adv_normalized), y_labels)\n",
    "    plt.bar(pred_with_labels[0].keys(), pred_with_labels[0].values())\n",
    "    plt.show()\n",
    "    \n",
    "    print(f\"Norm_inf: {LA.norm(abs(x_normalized - x_adv_normalized), np.inf)}; Result: {attack.tricked}\")\n",
    "    print(f\"Max value: {max(max(x_adv))}\")\n",
    "    print(f\"Min value: {min(min(x_adv))}\")"
   ]
  },
  {
   "cell_type": "code",
   "execution_count": 14,
   "metadata": {},
   "outputs": [],
   "source": [
    "def untargeted_attack_benchmark(X, y_labels, model=None, attack_model=None, samples=100):\n",
    "    X_norm = normalize(X)\n",
    "    iter_res_dict = {}\n",
    "\n",
    "    norms_range = np.linspace(0, 0.5, num=100)\n",
    "    #print(f\"Perturbations list: {norms_range}\")\n",
    "\n",
    "    for i in range(samples):\n",
    "        x_normalized = np.expand_dims(X_norm.iloc[i, :], axis=0)\n",
    "        y = np.zeros(len(y_labels))\n",
    "        true_class_pos = model.predict(x_normalized)\n",
    "        y[true_class_pos] = 1\n",
    "    \n",
    "        for norm in norms_range:\n",
    "            attack = attack_model()\n",
    "            if type(attack).__name__ in ['AttackNoise']:\n",
    "                a = attack.attack(x_normalized, y, model.predict, max_norm=norm)\n",
    "            elif type(attack).__name__ in ['AttackIFGSM', 'AttackTIFGSM', 'AttackDeepFool', 'AttackFGSM']:\n",
    "                a = attack.attack(x_normalized, model.W, model.b, y, model.predict, max_norm=norm)\n",
    "            \n",
    "            elif type(attack).__name__ in ['AttackMIFGSM']:\n",
    "                x_adv_normalized = attack.attack(x_normalized, model.W, model.b, y, model.predict, max_norm=norm, momentum=0.95)\n",
    "        \n",
    "            success = attack.tricked\n",
    "            \n",
    "            if norm in iter_res_dict.keys():\n",
    "                iter_res_dict[norm][\"appearance_count\"] += 1\n",
    "                iter_res_dict[norm][\"success_count\"] += success\n",
    "            else:\n",
    "                iter_res_dict.update({norm: {\"appearance_count\": 1, \"success_count\": success} })\n",
    "\n",
    "    success_rate = {}\n",
    "    for key, value in iter_res_dict.items():\n",
    "        success_rate[key] = value[\"success_count\"] / value[\"appearance_count\"] * 100\n",
    "\n",
    "    perturbations_list = [x[0] for x in sorted(success_rate.items(), key=lambda x: x[0]) ]\n",
    "    successrate_list = [x[1] for x in sorted(success_rate.items(), key=lambda x: x[0]) ]\n",
    "\n",
    "    plt.plot(perturbations_list, successrate_list)    \n",
    "    return perturbations_list, successrate_list, type(attack).__name__"
   ]
  },
  {
   "cell_type": "code",
   "execution_count": 15,
   "metadata": {},
   "outputs": [],
   "source": [
    "correct_pred_idx = np.array(y_test.iloc[:, 0]) == y_pred"
   ]
  },
  {
   "cell_type": "code",
   "execution_count": 16,
   "metadata": {},
   "outputs": [],
   "source": [
    "from attacks import AttackFGSM\n",
    "from attacks import AttackIFGSM\n",
    "from attacks import AttackMIFGSM\n",
    "from attacks import AttackTIFGSM\n",
    "from attacks import AttackDeepFool\n",
    "from attacks import AttackNoise"
   ]
  },
  {
   "cell_type": "markdown",
   "metadata": {},
   "source": [
    "### Targeted FGSM Benchmark"
   ]
  },
  {
   "cell_type": "code",
   "execution_count": 17,
   "metadata": {},
   "outputs": [
    {
     "ename": "KeyboardInterrupt",
     "evalue": "",
     "output_type": "error",
     "traceback": [
      "\u001b[1;31m---------------------------------------------------------------------------\u001b[0m",
      "\u001b[1;31mKeyboardInterrupt\u001b[0m                         Traceback (most recent call last)",
      "\u001b[1;32m<ipython-input-17-99758d9e1959>\u001b[0m in \u001b[0;36m<module>\u001b[1;34m\u001b[0m\n\u001b[1;32m----> 1\u001b[1;33m \u001b[0mx1\u001b[0m\u001b[1;33m,\u001b[0m \u001b[0my1\u001b[0m\u001b[1;33m,\u001b[0m \u001b[0mlabel1\u001b[0m \u001b[1;33m=\u001b[0m \u001b[0muntargeted_attack_benchmark\u001b[0m\u001b[1;33m(\u001b[0m\u001b[0mX_test\u001b[0m\u001b[1;33m[\u001b[0m\u001b[0mcorrect_pred_idx\u001b[0m\u001b[1;33m]\u001b[0m\u001b[1;33m,\u001b[0m \u001b[0my_labels\u001b[0m\u001b[1;33m,\u001b[0m \u001b[0mmodel\u001b[0m\u001b[1;33m=\u001b[0m\u001b[0mlg\u001b[0m\u001b[1;33m,\u001b[0m \u001b[0mattack_model\u001b[0m\u001b[1;33m=\u001b[0m\u001b[0mAttackIFGSM\u001b[0m\u001b[1;33m,\u001b[0m \u001b[0msamples\u001b[0m\u001b[1;33m=\u001b[0m\u001b[1;36m100\u001b[0m\u001b[1;33m)\u001b[0m\u001b[1;33m\u001b[0m\u001b[1;33m\u001b[0m\u001b[0m\n\u001b[0m",
      "\u001b[1;32m<ipython-input-14-2ca4b0ac336a>\u001b[0m in \u001b[0;36muntargeted_attack_benchmark\u001b[1;34m(X, y_labels, model, attack_model, samples)\u001b[0m\n\u001b[0;32m     17\u001b[0m                 \u001b[0ma\u001b[0m \u001b[1;33m=\u001b[0m \u001b[0mattack\u001b[0m\u001b[1;33m.\u001b[0m\u001b[0mattack\u001b[0m\u001b[1;33m(\u001b[0m\u001b[0mx_normalized\u001b[0m\u001b[1;33m,\u001b[0m \u001b[0my\u001b[0m\u001b[1;33m,\u001b[0m \u001b[0mmodel\u001b[0m\u001b[1;33m.\u001b[0m\u001b[0mpredict\u001b[0m\u001b[1;33m,\u001b[0m \u001b[0mmax_norm\u001b[0m\u001b[1;33m=\u001b[0m\u001b[0mnorm\u001b[0m\u001b[1;33m)\u001b[0m\u001b[1;33m\u001b[0m\u001b[1;33m\u001b[0m\u001b[0m\n\u001b[0;32m     18\u001b[0m             \u001b[1;32melif\u001b[0m \u001b[0mtype\u001b[0m\u001b[1;33m(\u001b[0m\u001b[0mattack\u001b[0m\u001b[1;33m)\u001b[0m\u001b[1;33m.\u001b[0m\u001b[0m__name__\u001b[0m \u001b[1;32min\u001b[0m \u001b[1;33m[\u001b[0m\u001b[1;34m'AttackIFGSM'\u001b[0m\u001b[1;33m,\u001b[0m \u001b[1;34m'AttackTIFGSM'\u001b[0m\u001b[1;33m,\u001b[0m \u001b[1;34m'AttackDeepFool'\u001b[0m\u001b[1;33m,\u001b[0m \u001b[1;34m'AttackFGSM'\u001b[0m\u001b[1;33m]\u001b[0m\u001b[1;33m:\u001b[0m\u001b[1;33m\u001b[0m\u001b[1;33m\u001b[0m\u001b[0m\n\u001b[1;32m---> 19\u001b[1;33m                 \u001b[0ma\u001b[0m \u001b[1;33m=\u001b[0m \u001b[0mattack\u001b[0m\u001b[1;33m.\u001b[0m\u001b[0mattack\u001b[0m\u001b[1;33m(\u001b[0m\u001b[0mx_normalized\u001b[0m\u001b[1;33m,\u001b[0m \u001b[0mmodel\u001b[0m\u001b[1;33m.\u001b[0m\u001b[0mW\u001b[0m\u001b[1;33m,\u001b[0m \u001b[0mmodel\u001b[0m\u001b[1;33m.\u001b[0m\u001b[0mb\u001b[0m\u001b[1;33m,\u001b[0m \u001b[0my\u001b[0m\u001b[1;33m,\u001b[0m \u001b[0mmodel\u001b[0m\u001b[1;33m.\u001b[0m\u001b[0mpredict\u001b[0m\u001b[1;33m,\u001b[0m \u001b[0mmax_norm\u001b[0m\u001b[1;33m=\u001b[0m\u001b[0mnorm\u001b[0m\u001b[1;33m)\u001b[0m\u001b[1;33m\u001b[0m\u001b[1;33m\u001b[0m\u001b[0m\n\u001b[0m\u001b[0;32m     20\u001b[0m \u001b[1;33m\u001b[0m\u001b[0m\n\u001b[0;32m     21\u001b[0m             \u001b[1;32melif\u001b[0m \u001b[0mtype\u001b[0m\u001b[1;33m(\u001b[0m\u001b[0mattack\u001b[0m\u001b[1;33m)\u001b[0m\u001b[1;33m.\u001b[0m\u001b[0m__name__\u001b[0m \u001b[1;32min\u001b[0m \u001b[1;33m[\u001b[0m\u001b[1;34m'AttackMIFGSM'\u001b[0m\u001b[1;33m]\u001b[0m\u001b[1;33m:\u001b[0m\u001b[1;33m\u001b[0m\u001b[1;33m\u001b[0m\u001b[0m\n",
      "\u001b[1;32mD:\\files\\Studying\\University\\3_Junior_year\\Term2\\CourseWork\\AdversarialAI\\Code\\attacks\\attack_fgsm_i.py\u001b[0m in \u001b[0;36mattack\u001b[1;34m(self, X_vert, W, b, Y_vert_true, predict_func, max_norm, alpha, max_iters)\u001b[0m\n\u001b[0;32m     16\u001b[0m         \u001b[0mself\u001b[0m\u001b[1;33m.\u001b[0m\u001b[0mX_\u001b[0m \u001b[1;33m=\u001b[0m \u001b[0mX_vert\u001b[0m\u001b[1;33m.\u001b[0m\u001b[0mT\u001b[0m\u001b[1;33m\u001b[0m\u001b[1;33m\u001b[0m\u001b[0m\n\u001b[0;32m     17\u001b[0m \u001b[1;33m\u001b[0m\u001b[0m\n\u001b[1;32m---> 18\u001b[1;33m         \u001b[0mself\u001b[0m\u001b[1;33m.\u001b[0m\u001b[0mX_\u001b[0m \u001b[1;33m=\u001b[0m \u001b[0mself\u001b[0m\u001b[1;33m.\u001b[0m\u001b[0m__gradient_descent\u001b[0m\u001b[1;33m(\u001b[0m\u001b[0mself\u001b[0m\u001b[1;33m.\u001b[0m\u001b[0mX_\u001b[0m\u001b[1;33m,\u001b[0m \u001b[0mself\u001b[0m\u001b[1;33m.\u001b[0m\u001b[0mY_\u001b[0m\u001b[1;33m,\u001b[0m \u001b[0mself\u001b[0m\u001b[1;33m.\u001b[0m\u001b[0mW\u001b[0m\u001b[1;33m,\u001b[0m \u001b[0mself\u001b[0m\u001b[1;33m.\u001b[0m\u001b[0mb\u001b[0m\u001b[1;33m,\u001b[0m \u001b[0mpredict_func\u001b[0m\u001b[1;33m)\u001b[0m\u001b[1;33m\u001b[0m\u001b[1;33m\u001b[0m\u001b[0m\n\u001b[0m\u001b[0;32m     19\u001b[0m         \u001b[1;32mreturn\u001b[0m \u001b[0mself\u001b[0m\u001b[1;33m.\u001b[0m\u001b[0mX_\u001b[0m\u001b[1;33m\u001b[0m\u001b[1;33m\u001b[0m\u001b[0m\n\u001b[0;32m     20\u001b[0m \u001b[1;33m\u001b[0m\u001b[0m\n",
      "\u001b[1;32mD:\\files\\Studying\\University\\3_Junior_year\\Term2\\CourseWork\\AdversarialAI\\Code\\attacks\\attack_fgsm_i.py\u001b[0m in \u001b[0;36m__gradient_descent\u001b[1;34m(self, X, Y, W, b, predict_func)\u001b[0m\n\u001b[0;32m     60\u001b[0m             \u001b[0mdelta_x\u001b[0m \u001b[1;33m=\u001b[0m \u001b[0mself\u001b[0m\u001b[1;33m.\u001b[0m\u001b[0m__forward_backward_propagation\u001b[0m\u001b[1;33m(\u001b[0m\u001b[0mX\u001b[0m\u001b[1;33m,\u001b[0m \u001b[0mY\u001b[0m\u001b[1;33m,\u001b[0m \u001b[0mW\u001b[0m\u001b[1;33m,\u001b[0m \u001b[0mb\u001b[0m\u001b[1;33m)\u001b[0m\u001b[1;33m\u001b[0m\u001b[1;33m\u001b[0m\u001b[0m\n\u001b[0;32m     61\u001b[0m             \u001b[0mX_adv\u001b[0m \u001b[1;33m=\u001b[0m \u001b[0mX\u001b[0m \u001b[1;33m+\u001b[0m \u001b[0mself\u001b[0m\u001b[1;33m.\u001b[0m\u001b[0malpha\u001b[0m \u001b[1;33m*\u001b[0m \u001b[0mnp\u001b[0m\u001b[1;33m.\u001b[0m\u001b[0msign\u001b[0m\u001b[1;33m(\u001b[0m\u001b[0mdelta_x\u001b[0m\u001b[1;33m)\u001b[0m\u001b[1;33m\u001b[0m\u001b[1;33m\u001b[0m\u001b[0m\n\u001b[1;32m---> 62\u001b[1;33m             \u001b[0mX\u001b[0m \u001b[1;33m=\u001b[0m \u001b[0mself\u001b[0m\u001b[1;33m.\u001b[0m\u001b[0m__clip\u001b[0m\u001b[1;33m(\u001b[0m\u001b[0mX_origin\u001b[0m\u001b[1;33m,\u001b[0m \u001b[0mX_adv\u001b[0m\u001b[1;33m,\u001b[0m \u001b[0mself\u001b[0m\u001b[1;33m.\u001b[0m\u001b[0mmax_norm\u001b[0m\u001b[1;33m)\u001b[0m\u001b[1;33m\u001b[0m\u001b[1;33m\u001b[0m\u001b[0m\n\u001b[0m\u001b[0;32m     63\u001b[0m \u001b[1;33m\u001b[0m\u001b[0m\n\u001b[0;32m     64\u001b[0m             \u001b[0mself\u001b[0m\u001b[1;33m.\u001b[0m\u001b[0mnum_iters\u001b[0m \u001b[1;33m+=\u001b[0m \u001b[1;36m1\u001b[0m\u001b[1;33m\u001b[0m\u001b[1;33m\u001b[0m\u001b[0m\n",
      "\u001b[1;32mD:\\files\\Studying\\University\\3_Junior_year\\Term2\\CourseWork\\AdversarialAI\\Code\\attacks\\attack_fgsm_i.py\u001b[0m in \u001b[0;36m__clip\u001b[1;34m(self, X, X_adv, max_norm)\u001b[0m\n\u001b[0;32m     20\u001b[0m \u001b[1;33m\u001b[0m\u001b[0m\n\u001b[0;32m     21\u001b[0m     \u001b[1;32mdef\u001b[0m \u001b[0m__clip\u001b[0m\u001b[1;33m(\u001b[0m\u001b[0mself\u001b[0m\u001b[1;33m,\u001b[0m \u001b[0mX\u001b[0m\u001b[1;33m,\u001b[0m \u001b[0mX_adv\u001b[0m\u001b[1;33m,\u001b[0m \u001b[0mmax_norm\u001b[0m\u001b[1;33m)\u001b[0m\u001b[1;33m:\u001b[0m\u001b[1;33m\u001b[0m\u001b[1;33m\u001b[0m\u001b[0m\n\u001b[1;32m---> 22\u001b[1;33m         \u001b[0mmax_res\u001b[0m \u001b[1;33m=\u001b[0m \u001b[0mnp\u001b[0m\u001b[1;33m.\u001b[0m\u001b[0mmaximum\u001b[0m\u001b[1;33m.\u001b[0m\u001b[0mreduce\u001b[0m\u001b[1;33m(\u001b[0m\u001b[1;33m[\u001b[0m\u001b[0mnp\u001b[0m\u001b[1;33m.\u001b[0m\u001b[0mzeros\u001b[0m\u001b[1;33m(\u001b[0m\u001b[0mX\u001b[0m\u001b[1;33m.\u001b[0m\u001b[0mshape\u001b[0m\u001b[1;33m)\u001b[0m\u001b[1;33m,\u001b[0m \u001b[0mX\u001b[0m \u001b[1;33m-\u001b[0m \u001b[0mmax_norm\u001b[0m\u001b[1;33m,\u001b[0m \u001b[0mX_adv\u001b[0m\u001b[1;33m]\u001b[0m\u001b[1;33m)\u001b[0m\u001b[1;33m\u001b[0m\u001b[1;33m\u001b[0m\u001b[0m\n\u001b[0m\u001b[0;32m     23\u001b[0m         \u001b[0mmin_res\u001b[0m \u001b[1;33m=\u001b[0m \u001b[0mnp\u001b[0m\u001b[1;33m.\u001b[0m\u001b[0mminimum\u001b[0m\u001b[1;33m.\u001b[0m\u001b[0mreduce\u001b[0m\u001b[1;33m(\u001b[0m\u001b[1;33m[\u001b[0m\u001b[0mnp\u001b[0m\u001b[1;33m.\u001b[0m\u001b[0mones\u001b[0m\u001b[1;33m(\u001b[0m\u001b[0mX\u001b[0m\u001b[1;33m.\u001b[0m\u001b[0mshape\u001b[0m\u001b[1;33m)\u001b[0m\u001b[1;33m,\u001b[0m \u001b[0mX\u001b[0m \u001b[1;33m+\u001b[0m \u001b[0mmax_norm\u001b[0m\u001b[1;33m,\u001b[0m \u001b[0mmax_res\u001b[0m\u001b[1;33m]\u001b[0m\u001b[1;33m)\u001b[0m\u001b[1;33m\u001b[0m\u001b[1;33m\u001b[0m\u001b[0m\n\u001b[0;32m     24\u001b[0m         \u001b[1;32mreturn\u001b[0m \u001b[0mmin_res\u001b[0m\u001b[1;33m\u001b[0m\u001b[1;33m\u001b[0m\u001b[0m\n",
      "\u001b[1;31mKeyboardInterrupt\u001b[0m: "
     ]
    }
   ],
   "source": [
    "x1, y1, label1 = untargeted_attack_benchmark(X_test[correct_pred_idx], y_labels, model=lg, attack_model=AttackIFGSM, samples=100)"
   ]
  },
  {
   "cell_type": "code",
   "execution_count": null,
   "metadata": {
    "scrolled": true
   },
   "outputs": [],
   "source": [
    "x2, y2, label2 = untargeted_attack_benchmark(X_test[correct_pred_idx], y_labels, model=lg, attack_model=AttackFGSM, samples=100)\n"
   ]
  },
  {
   "cell_type": "code",
   "execution_count": null,
   "metadata": {
    "scrolled": true
   },
   "outputs": [],
   "source": [
    "x3, y3, label3 = untargeted_attack_benchmark(X_test[correct_pred_idx], y_labels, model=lg, attack_model=AttackNoise, samples=100)"
   ]
  },
  {
   "cell_type": "code",
   "execution_count": null,
   "metadata": {
    "scrolled": true
   },
   "outputs": [],
   "source": [
    "x4, y4, label4 = untargeted_attack_benchmark(X_test[correct_pred_idx], y_labels, model=lg, attack_model=AttackDeepFool, samples=100)"
   ]
  },
  {
   "cell_type": "code",
   "execution_count": null,
   "metadata": {
    "scrolled": true
   },
   "outputs": [],
   "source": [
    "x5, y5, label5 = untargeted_attack_benchmark(X_test[correct_pred_idx], y_labels, model=lg, attack_model=AttackMIFGSM, samples=100)"
   ]
  },
  {
   "cell_type": "code",
   "execution_count": null,
   "metadata": {},
   "outputs": [],
   "source": []
  },
  {
   "cell_type": "code",
   "execution_count": null,
   "metadata": {},
   "outputs": [],
   "source": [
    "from matplotlib.pyplot import figure\n",
    "\n",
    "fig, ax = plt.subplots(num=None, figsize=(12, 6), dpi=100, facecolor='w')\n",
    "plt.grid(which='major', linestyle='-', color='black', alpha=0.2)\n",
    "ax.set_title('Perturbation vs Success Rate')\n",
    "ax.set_xlabel(r\"Perturbation $\\epsilon$\")\n",
    "ax.set_ylabel('Success Rate (%)')\n",
    "\n",
    "plt.plot(np.array(x1), y1, linestyle='--', marker='o', markersize=2, color='#00A658', label = label1)\n",
    "plt.plot(np.array(x2), y2, linestyle='--', marker='o', markersize=2, color='#2300A8', label = label2)\n",
    "plt.plot(np.array(x3), y3, linestyle='--', marker='o', markersize=2, color='grey', label = label3)\n",
    "plt.plot(np.array(x4), y4, linestyle='--', marker='o', markersize=2, color='red', label = label4)\n",
    "plt.plot(np.array(x5), y5, linestyle='--', marker='o', markersize=2, color='orange', label = label5)\n",
    "plt.legend()"
   ]
  },
  {
   "cell_type": "markdown",
   "metadata": {},
   "source": [
    "### Untargeted Noise Attack"
   ]
  },
  {
   "cell_type": "code",
   "execution_count": null,
   "metadata": {},
   "outputs": [],
   "source": [
    "index = 38\n",
    "x = np.expand_dims(X_test[correct_pred_idx].iloc[index, :], axis=0)\n",
    "y = np.zeros(len(y_labels))\n",
    "\n",
    "true_class = lg.predict(normalize(x))\n",
    "y[true_class] = 1\n",
    "\n",
    "show_adversarial_sample(x, y_labels, true_class=y, model=lg, attack_model=AttackNoise, max_norm=1)"
   ]
  },
  {
   "cell_type": "markdown",
   "metadata": {},
   "source": [
    "### Untargeted FGSM"
   ]
  },
  {
   "cell_type": "code",
   "execution_count": null,
   "metadata": {},
   "outputs": [],
   "source": [
    "index = 0\n",
    "x = np.expand_dims(X_test[correct_pred_idx].iloc[index, :], axis=0)\n",
    "y = np.zeros(len(y_labels))\n",
    "\n",
    "true_class = lg.predict(normalize(x))\n",
    "y[true_class] = 1\n",
    "\n",
    "show_adversarial_sample(x, y_labels, true_class=y, model=lg, attack_model=AttackFGSM, max_norm=0.07)"
   ]
  },
  {
   "cell_type": "markdown",
   "metadata": {},
   "source": [
    "### Untargeted I-FGSM"
   ]
  },
  {
   "cell_type": "code",
   "execution_count": null,
   "metadata": {},
   "outputs": [],
   "source": [
    "index = 1\n",
    "x = np.expand_dims(X_test[correct_pred_idx].iloc[index, :], axis=0)\n",
    "y = np.zeros(len(y_labels))\n",
    "\n",
    "true_class = lg.predict(normalize(x))\n",
    "y[true_class] = 1\n",
    "\n",
    "show_adversarial_sample(x, y_labels, true_class=y, model=lg, attack_model=AttackIFGSM, max_norm=0.04, max_iters=100)"
   ]
  },
  {
   "cell_type": "markdown",
   "metadata": {},
   "source": [
    "### DeepFool"
   ]
  },
  {
   "cell_type": "code",
   "execution_count": null,
   "metadata": {},
   "outputs": [],
   "source": [
    "index = 1\n",
    "x = np.expand_dims(X_test[correct_pred_idx].iloc[index, :], axis=0)\n",
    "y = np.zeros(len(y_labels))\n",
    "\n",
    "true_class = lg.predict(normalize(x))\n",
    "y[true_class] = 1\n",
    "\n",
    "show_adversarial_sample(x, y_labels, true_class=y, model=lg, attack_model=AttackDeepFool, max_norm=0.15, max_iters=12)"
   ]
  },
  {
   "cell_type": "markdown",
   "metadata": {},
   "source": [
    "### Targeted I-FGSM"
   ]
  },
  {
   "cell_type": "code",
   "execution_count": null,
   "metadata": {},
   "outputs": [],
   "source": [
    "index = 1\n",
    "x = np.expand_dims(X_test[correct_pred_idx].iloc[index, :], axis=0)\n",
    "y = np.zeros(len(y_labels))\n",
    "y[9] = 1\n",
    "\n",
    "show_adversarial_sample(x, y_labels, true_class=y, model=lg, attack_model=AttackTIFGSM, max_norm=0.2, max_iters=5000)"
   ]
  },
  {
   "cell_type": "markdown",
   "metadata": {},
   "source": [
    "### Untargeted MI-FGSM"
   ]
  },
  {
   "cell_type": "code",
   "execution_count": null,
   "metadata": {},
   "outputs": [],
   "source": [
    "index = 123\n",
    "x = np.expand_dims(X_test[correct_pred_idx].iloc[index, :], axis=0)\n",
    "y = np.zeros(len(y_labels))\n",
    "\n",
    "true_class = lg.predict(normalize(x))\n",
    "y[true_class] = 1\n",
    "\n",
    "show_adversarial_sample(x, y_labels, true_class=y, model=lg, attack_model=AttackMIFGSM, max_norm=1, max_iters=5000)"
   ]
  },
  {
   "cell_type": "code",
   "execution_count": null,
   "metadata": {},
   "outputs": [],
   "source": [
    "y_real = np.array(y_test.iloc[:, 0])\n",
    "\n",
    "comp = pd.DataFrame({\"y_pred\": y_pred, \"y_real\": y_real})\n",
    "print(comp.head(20))"
   ]
  },
  {
   "cell_type": "code",
   "execution_count": null,
   "metadata": {},
   "outputs": [],
   "source": [
    "from sklearn.metrics import mean_squared_error\n",
    "from sklearn.metrics import mean_absolute_error\n",
    "from sklearn.metrics import r2_score\n",
    "r2 = r2_score(y_real, y_pred)\n",
    "accuracy = int(sum(y_real == y_pred) / len(y_pred) * 100)\n",
    "\n",
    "print(f'Coefficient of determination: {r2}')\n",
    "print(f\"Accuracy: {accuracy}%\")"
   ]
  },
  {
   "cell_type": "code",
   "execution_count": null,
   "metadata": {},
   "outputs": [],
   "source": [
    "# import numpy as np\n",
    "# import matplotlib.pyplot as plt\n",
    "\n",
    "\n",
    "# # Example data\n",
    "# t = np.arange(0.0, 1.0 + 0.01, 0.01)\n",
    "# s = np.cos(4 * np.pi * t) + 2\n",
    "\n",
    "# plt.rc('text', usetex=True)\n",
    "# plt.rc('font', family='serif')\n",
    "# plt.plot(t, s)\n",
    "\n",
    "# plt.xlabel(r'\\textbf{time} (s)')\n",
    "# plt.ylabel(r'\\textit{voltage} (mV)',fontsize=16)\n",
    "# plt.title(r\"\\TeX\\ is Number \"\n",
    "#           r\"$\\displaystyle\\sum_{n=1}^\\infty\\frac{-e^{i\\pi}}{2^n}$!\",\n",
    "#           fontsize=16, color='gray')\n",
    "# # Make room for the ridiculously large title.\n",
    "# plt.subplots_adjust(top=0.8)\n",
    "\n",
    "# # plt.savefig('tex_demo')\n",
    "# # plt.show()"
   ]
  }
 ],
 "metadata": {
  "kernelspec": {
   "display_name": "Python 3",
   "language": "python",
   "name": "python3"
  },
  "language_info": {
   "codemirror_mode": {
    "name": "ipython",
    "version": 3
   },
   "file_extension": ".py",
   "mimetype": "text/x-python",
   "name": "python",
   "nbconvert_exporter": "python",
   "pygments_lexer": "ipython3",
   "version": "3.7.6"
  }
 },
 "nbformat": 4,
 "nbformat_minor": 4
}
