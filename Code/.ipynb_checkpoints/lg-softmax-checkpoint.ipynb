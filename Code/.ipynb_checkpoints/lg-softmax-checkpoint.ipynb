{
 "cells": [
  {
   "cell_type": "code",
   "execution_count": 234,
   "metadata": {},
   "outputs": [],
   "source": [
    "import numpy as np\n",
    "import pandas as pd\n",
    "import seaborn as sns\n",
    "\n",
    "from sklearn.model_selection import train_test_split\n",
    "from sklearn.metrics import mean_squared_error, r2_score\n",
    "\n",
    "from numpy import linalg as LA\n",
    "\n",
    "import matplotlib.pyplot as plt\n",
    "%matplotlib inline"
   ]
  },
  {
   "cell_type": "code",
   "execution_count": 2,
   "metadata": {},
   "outputs": [],
   "source": [
    "normalization = 255"
   ]
  },
  {
   "cell_type": "code",
   "execution_count": 3,
   "metadata": {},
   "outputs": [],
   "source": [
    "def plot_J(J_history):\n",
    "    x = np.arange(0, len(J_history))\n",
    "    plt.plot(x, J_history)\n",
    "    plt.show()"
   ]
  },
  {
   "cell_type": "code",
   "execution_count": 4,
   "metadata": {},
   "outputs": [],
   "source": [
    "def normalize(X):\n",
    "    return X / normalization"
   ]
  },
  {
   "cell_type": "code",
   "execution_count": 5,
   "metadata": {},
   "outputs": [],
   "source": [
    "def denormalize(X):\n",
    "    return X * normalization"
   ]
  },
  {
   "cell_type": "code",
   "execution_count": 6,
   "metadata": {},
   "outputs": [],
   "source": [
    "from sklearn.base import BaseEstimator, ClassifierMixin\n",
    "from sklearn.utils.validation import check_X_y, check_array, check_is_fitted\n",
    "from sklearn.utils.multiclass import unique_labels\n",
    "from mpmath import *\n",
    "from sympy import *"
   ]
  },
  {
   "cell_type": "code",
   "execution_count": 7,
   "metadata": {},
   "outputs": [],
   "source": [
    "class LogisticRegression():\n",
    "    def __init__(self, normalize=True):\n",
    "        self.normalize = normalize\n",
    "        self.__mean = None\n",
    "        self.__std = None\n",
    "    \n",
    "    def get_mean(self):\n",
    "        return self.__mean\n",
    "    \n",
    "    def get_std(self):\n",
    "        return self.__std\n",
    "    \n",
    "    def fit(self, X_vert, Y_vert, alpha, num_iters, epsilon):\n",
    "        # X transformations\n",
    "        if self.normalize == True:\n",
    "            self.X_ = self.__normalize(X_vert)\n",
    "        else:\n",
    "            self.X_ = X_vert\n",
    "        self.X_ = self.X_.T\n",
    " \n",
    "        # Y transformations\n",
    "        self.Y_ = Y_vert.T\n",
    "\n",
    "        self.W = np.full(( self.X_.shape[0],self.Y_.shape[0]),0.01)\n",
    "        self.b = 0.0\n",
    "        self.W, self.b, self.Js = self.__gradient_descent(self.X_, self.Y_, self.W, self.b, alpha, num_iters, epsilon)\n",
    "\n",
    "    def predict(self, X):\n",
    "        # Check is fit had been called\n",
    "        check_is_fitted(self)\n",
    "        # Input validation\n",
    "        X = check_array(X)\n",
    "\n",
    "        if self.normalize:\n",
    "            X_norm = (X - self.__mean) / self.__std\n",
    "            z = self.__stable_softmax(np.dot(self.W.T,X_norm.T)+self.b)\n",
    "        else:\n",
    "            z = self.__stable_softmax(np.dot(self.W.T,X.T)+self.b)\n",
    "    \n",
    "        y_pred = np.zeros(z.shape[1], dtype=int)\n",
    "        for i in range(z.shape[1]):\n",
    "            y_pred[i] = np.argmax(z[:, i])    \n",
    "        \n",
    "        return y_pred\n",
    "\n",
    "    def predict_by_labels(self, X, y_labels):\n",
    "        # Check is fit had been called\n",
    "        check_is_fitted(self)\n",
    "        # Input validation\n",
    "        X = check_array(X)\n",
    "        \n",
    "        if self.normalize:\n",
    "            X_norm = (X - self.__mean) / self.__std\n",
    "            z = self.__stable_softmax(np.dot(self.W.T,X_norm.T)+self.b)\n",
    "        else:\n",
    "            z = self.__stable_softmax(np.dot(self.W.T,X.T)+self.b)\n",
    "            \n",
    "        y_pred = np.full((z.shape[1]), {})\n",
    "        for i in range(z.shape[1]):\n",
    "            y_pred[i] = { y_labels[j]: z[j][i] for j in range(z.shape[0])}\n",
    "        return y_pred\n",
    "            \n",
    "    def get_cost_history(self):\n",
    "        check_is_fitted(self)\n",
    "        return self.Js\n",
    "\n",
    "    def __normalize(self, X):\n",
    "        if self.__mean is None and self.__std is None:\n",
    "            mean = np.zeros([X.shape[1]])\n",
    "            std  = np.ones([X.shape[1]])\n",
    "            \n",
    "            for i in range(X.shape[1]):\n",
    "                if (np.std(X.iloc[:, i]) != 0):\n",
    "                    mean[i] = np.mean(X.iloc[:, i])\n",
    "                    std[i] = np.std(X.iloc[:, i])\n",
    "            \n",
    "            self.__mean = mean\n",
    "            self.__std = std\n",
    "\n",
    "        X_new = (X - self.__mean) / self.__std\n",
    "        return X_new\n",
    "\n",
    "    def __cost_function(self, X, Y, A):\n",
    "        m = X.shape[0]\n",
    "        if m == 0:\n",
    "            return None\n",
    "        \n",
    "        J = (1 / m) * np.sum(-Y * np.log(A) - (1 - Y) * np.log(1 - A))\n",
    "        return J\n",
    "\n",
    "    def __cross_entropy(self, X, Y, A):\n",
    "        m = X.shape[0]\n",
    "        if m == 0:\n",
    "            return None\n",
    "        \n",
    "        J = (-1 / m) * np.sum(Y.T * np.log(A.T))\n",
    "        return J\n",
    "    \n",
    "    def __sigmoid(self, z):\n",
    "        return 1 / (1 + np.exp(-z))\n",
    "    \n",
    "    def __softmax(self, z):\n",
    "        exps = np.exp(z)\n",
    "        return exps / exps.sum(axis=0, keepdims=True)\n",
    "\n",
    "    def __stable_softmax(self, z):\n",
    "        exps = np.exp(z - np.max(z))\n",
    "        return exps / exps.sum(axis=0, keepdims=True)\n",
    "\n",
    "    def __forward_backward_propagation(self, X, Y, W, b):        \n",
    "        # forward propagation\n",
    "        m = X.shape[1]\n",
    "\n",
    "        z = np.dot(W.T,X) + b\n",
    "        A = self.__stable_softmax(z)\n",
    "        cost = self.__cross_entropy(X, Y, A)\n",
    "\n",
    "        # backward propagation\n",
    "        dz = A - Y\n",
    "        derivative_weights = (1 / m) * np.dot(X, dz.T)\n",
    "        derivative_bias = (1 / m) * np.sum(dz)\n",
    "\n",
    "        return cost, derivative_weights, derivative_bias\n",
    "\n",
    "    def __gradient_descent(self, X, Y, W, b, alpha, num_iters, epsilon):        \n",
    "        # num of samples\n",
    "        m = X.shape[0]\n",
    "        # num of features\n",
    "        n = X.shape[1]\n",
    "\n",
    "        J_history = []\n",
    "\n",
    "        for i in range(num_iters):\n",
    "            J, delta_weights, delta_bias = self.__forward_backward_propagation(X, Y, W, b)\n",
    "\n",
    "            W = W - alpha * delta_weights\n",
    "            b = b - alpha * delta_bias\n",
    "\n",
    "            if i % 100 == 0:\n",
    "                print(f\"{i} iteration: {J}\")\n",
    "\n",
    "            J_history.append(J)\n",
    "\n",
    "        return W, b, J_history"
   ]
  },
  {
   "cell_type": "code",
   "execution_count": 84,
   "metadata": {},
   "outputs": [],
   "source": [
    "class AttackNoise():\n",
    "    # Targeted Fast Gradient Sign Method Attack\n",
    "    def attack(self, X_vert, Y_vert_true, predict_func, max_norm=1):\n",
    "        self.max_norm = max_norm\n",
    "\n",
    "        self.X_ = X_vert.T\n",
    "        self.Y_ = np.expand_dims(Y_vert_true, axis=1)\n",
    "        \n",
    "        self.X_ = self.__add_noise(self.X_, self.Y_, predict_func)                \n",
    "        return self.X_\n",
    "   \n",
    "    def __generate_noise(self, m, n):\n",
    "        return np.random.uniform(low=-1, high=1, size=(m, n)) * self.max_norm\n",
    "\n",
    "    def __is_tricked(self, X, Y, predict_func):\n",
    "        # true class position\n",
    "        true_class = np.argmax(Y[:, 0] != 0)\n",
    "\n",
    "        if (predict_func(np.array(X))[0] == true_class):\n",
    "            return False\n",
    "        return True\n",
    "    \n",
    "    def __add_noise(self, X, Y, predict_func):\n",
    "        # num of features\n",
    "        m = X.shape[0]\n",
    "        # num of samples\n",
    "        n = X.shape[1]\n",
    "\n",
    "        noise = self.__generate_noise(m, n);\n",
    "        \n",
    "        X = X + noise\n",
    "\n",
    "        X[X > 1] = 1\n",
    "        X[X < 0] = 0\n",
    "                        \n",
    "        if self.__is_tricked(X.T, Y, predict_func) == True:\n",
    "            self.tricked = True\n",
    "        else:\n",
    "            self.tricked = False\n",
    "        \n",
    "        X_vert = X.T\n",
    "        return X_vert"
   ]
  },
  {
   "cell_type": "code",
   "execution_count": 209,
   "metadata": {},
   "outputs": [],
   "source": [
    "class AttackTIFGSM():\n",
    "    # Targeted Iterative Fast Gradient Sign Method Attack\n",
    "    def attack(self, X_vert, W, b, Y_vert_goal, predict_func, max_norm=1, max_iters=100):\n",
    "        self.num_iters = 0\n",
    "        self.max_iters = max_iters\n",
    "        self.max_norm = max_norm\n",
    "        \n",
    "        self.W = W\n",
    "        self.b = b\n",
    "\n",
    "        self.Y_ = np.expand_dims(Y_vert_goal, axis=1)\n",
    "        self.X_ = X_vert.T\n",
    "        \n",
    "        self.X_ = self.__gradient_descent(self.X_, self.Y_, self.W, self.b, predict_func)                \n",
    "        return self.X_\n",
    "            \n",
    "    def __softmax(self, z):\n",
    "        exps = np.exp(z)\n",
    "        return exps / exps.sum(axis=0, keepdims=True)\n",
    "        \n",
    "    def __forward_backward_propagation(self, X, Y, W, b):\n",
    "        m = X.shape[1]\n",
    "        z = np.dot(W.T,X) + b\n",
    "        A = self.__softmax(z)\n",
    "\n",
    "        dz = A - Y\n",
    "        derivative_x = np.dot(W, dz)\n",
    "        return derivative_x\n",
    "\n",
    "    def __is_tricked(self, X, Y, predict_func):\n",
    "        goal_class = np.argmax(Y[:, 0] != 0)\n",
    "        if (predict_func(np.array(X))[0] != goal_class):\n",
    "            return False\n",
    "        return True\n",
    "    \n",
    "    def __gradient_descent(self, X, Y, W, b, predict_func):        \n",
    "        # num of features\n",
    "        m = X.shape[0]\n",
    "        # num of samples\n",
    "        n = X.shape[1]\n",
    "        \n",
    "        alpha = self.max_norm / self.max_iters\n",
    "        \n",
    "        for i in range(self.max_iters):\n",
    "            delta_x = self.__forward_backward_propagation(X, Y, W, b)\n",
    "            X = X - alpha * np.sign(delta_x)\n",
    "            X[X > 1] = 1\n",
    "            X[X < 0] = 0\n",
    "\n",
    "            self.num_iters += 1\n",
    "                \n",
    "            if self.__is_tricked(X.T, Y, predict_func) == True:\n",
    "                self.tricked = True\n",
    "                break\n",
    "            else:\n",
    "                self.tricked = False\n",
    "        \n",
    "        X_vert = X.T\n",
    "        return X_vert"
   ]
  },
  {
   "cell_type": "code",
   "execution_count": 78,
   "metadata": {},
   "outputs": [],
   "source": [
    "class AttackIFGSM():\n",
    "    # Iterative Fast Gradient Sign Method Attack\n",
    "    def attack(self, X_vert, W, b, Y_vert_true, predict_func, max_norm=1, max_iters=100):\n",
    "        self.num_iters = 0\n",
    "        self.max_iters = max_iters\n",
    "        self.max_norm = max_norm\n",
    "        \n",
    "        self.W = W\n",
    "        self.b = b\n",
    "\n",
    "        self.Y_ = np.expand_dims(Y_vert_true, axis=1)\n",
    "        self.X_ = X_vert.T\n",
    "        \n",
    "        self.X_ = self.__gradient_descent(self.X_, self.Y_, self.W, self.b, predict_func)                \n",
    "        return self.X_\n",
    "    \n",
    "    def __softmax(self, z):\n",
    "        exps = np.exp(z)\n",
    "        return exps / exps.sum(axis=0, keepdims=True)\n",
    "   \n",
    "    def __softmax_bigfloat(self, z):\n",
    "        z = np.array(z, dtype=Float)\n",
    "        exps = Float(np.e) ** z\n",
    "        return exps / exps.sum(axis=0, keepdims=True)\n",
    "    \n",
    "    def __forward_backward_propagation(self, X, Y, W, b):\n",
    "        m = X.shape[1]\n",
    "        z = np.dot(W.T,X) + b\n",
    "        A = self.__softmax(z)\n",
    "        \n",
    "        dz = A - Y\n",
    "        derivative_x = np.dot(W, dz)\n",
    "        return np.array(derivative_x, dtype=float)\n",
    "\n",
    "    def __is_tricked(self, X, Y, predict_func):\n",
    "        true_class = np.argmax(Y[:, 0] != 0)\n",
    "        if (predict_func(np.array(X))[0] == true_class):\n",
    "            return False\n",
    "        return True\n",
    "\n",
    "    def __gradient_descent(self, X, Y, W, b, predict_func):        \n",
    "        # num of features\n",
    "        m = X.shape[0]\n",
    "        # num of samples\n",
    "        n = X.shape[1]\n",
    "        \n",
    "        alpha = self.max_norm / self.max_iters\n",
    "        \n",
    "        for i in range(self.max_iters):\n",
    "            delta_x = self.__forward_backward_propagation(X, Y, W, b)\n",
    "            X = X + alpha * np.sign(delta_x)\n",
    "            X[X > 1] = 1\n",
    "            X[X < 0] = 0\n",
    "            \n",
    "            self.num_iters += 1\n",
    "                \n",
    "            if self.__is_tricked(X.T, Y, predict_func) == True:\n",
    "                self.tricked = True\n",
    "                break\n",
    "            else:\n",
    "                self.tricked = False\n",
    "                \n",
    "        X_vert = X.T\n",
    "        return X_vert"
   ]
  },
  {
   "cell_type": "code",
   "execution_count": 239,
   "metadata": {},
   "outputs": [],
   "source": [
    "class AttackMIFGSM():\n",
    "    # Iterative Fast Gradient Sign Method Attack\n",
    "    def attack(self, X_vert, W, b, Y_vert_true, predict_func, max_norm=1, max_iters=100):\n",
    "        self.num_iters = 0\n",
    "        self.max_iters = max_iters\n",
    "        self.max_norm = max_norm\n",
    "        \n",
    "        self.W = W\n",
    "        self.b = b\n",
    "\n",
    "        self.Y_ = np.expand_dims(Y_vert_true, axis=1)\n",
    "        self.X_ = X_vert.T\n",
    "        \n",
    "        self.X_ = self.__gradient_descent(self.X_, self.Y_, self.W, self.b, predict_func)                \n",
    "        return self.X_\n",
    "    \n",
    "    def __softmax(self, z):\n",
    "        exps = np.exp(z)\n",
    "        return exps / exps.sum(axis=0, keepdims=True)\n",
    "   \n",
    "    def __softmax_bigfloat(self, z):\n",
    "        z = np.array(z, dtype=Float)\n",
    "        exps = Float(np.e) ** z\n",
    "        return exps / exps.sum(axis=0, keepdims=True)\n",
    "    \n",
    "    def __forward_backward_propagation(self, X, Y, W, b):\n",
    "        m = X.shape[1]\n",
    "        z = np.dot(W.T,X) + b\n",
    "        A = self.__softmax(z)\n",
    "        \n",
    "        dz = A - Y\n",
    "        derivative_x = np.dot(W, dz)\n",
    "        return np.array(derivative_x, dtype=float)\n",
    "\n",
    "    def __is_tricked(self, X, Y, predict_func):\n",
    "        true_class = np.argmax(Y[:, 0] != 0)\n",
    "        if (predict_func(np.array(X))[0] == true_class):\n",
    "            return False\n",
    "        return True\n",
    "\n",
    "    def __gradient_descent(self, X, Y, W, b, predict_func):        \n",
    "        # num of features\n",
    "        m = X.shape[0]\n",
    "        # num of samples\n",
    "        n = X.shape[1]\n",
    "        \n",
    "        alpha = self.max_norm / self.max_iters\n",
    "        g0 = 0\n",
    "        u = 0.5\n",
    "        \n",
    "        for i in range(self.max_iters):\n",
    "            delta_x = self.__forward_backward_propagation(X, Y, W, b)\n",
    "            g1 = u * g0 + delta_x / LA.norm(delta_x, 1)          \n",
    "            X = X + alpha * np.sign(g1)\n",
    "            g0 = g1\n",
    "\n",
    "            X[X > 1] = 1\n",
    "            X[X < 0] = 0\n",
    "            \n",
    "            self.num_iters += 1\n",
    "                \n",
    "            if self.__is_tricked(X.T, Y, predict_func) == True:\n",
    "                self.tricked = True\n",
    "                break\n",
    "            else:\n",
    "                self.tricked = False\n",
    "                \n",
    "        X_vert = X.T\n",
    "        return X_vert"
   ]
  },
  {
   "cell_type": "code",
   "execution_count": 79,
   "metadata": {},
   "outputs": [],
   "source": [
    "class AttackFGSM():\n",
    "    # Iterative Fast Gradient Sign Method Attack\n",
    "    def attack(self, X_vert, W, b, Y_vert_true, predict_func, max_norm=1):\n",
    "        self.max_norm = max_norm\n",
    "        \n",
    "        self.W = W\n",
    "        self.b = b\n",
    "\n",
    "        self.Y_ = np.expand_dims(Y_vert_true, axis=1)\n",
    "        self.X_ = X_vert.T\n",
    "        \n",
    "        self.X_ = self.__gradient_descent(self.X_, self.Y_, self.W, self.b, predict_func)                \n",
    "        return self.X_\n",
    "    \n",
    "    def __softmax(self, z):\n",
    "        exps = np.exp(z)\n",
    "        return exps / exps.sum(axis=0, keepdims=True)\n",
    "    \n",
    "    def __stable_softmax(self, z):\n",
    "        exps = np.exp(z - np.max(z))\n",
    "        return exps / exps.sum(axis=0, keepdims=True)\n",
    "        \n",
    "    def __forward_backward_propagation(self, X, Y, W, b):\n",
    "        # forward propagation\n",
    "        m = X.shape[1]\n",
    "        z = np.dot(W.T,X) + b\n",
    "        A = self.__softmax(z)\n",
    "        \n",
    "        # backward propagation\n",
    "        dz = A - Y\n",
    "        derivative_x = np.dot(W, dz)\n",
    "        return np.array(derivative_x, dtype=float)\n",
    "\n",
    "    def __is_tricked(self, X, Y, predict_func):\n",
    "        # goal class position\n",
    "        true_class = np.argmax(Y[:, 0] != 0)\n",
    "        if (predict_func(np.array(X))[0] == true_class):\n",
    "            return False\n",
    "        return True\n",
    "\n",
    "    def __gradient_descent(self, X, Y, W, b, predict_func):     \n",
    "        m = X.shape[0]\n",
    "        n = X.shape[1]\n",
    "        \n",
    "        delta_x = self.__forward_backward_propagation(X, Y, W, b)\n",
    "        X = X + self.max_norm * np.sign(delta_x)\n",
    "            \n",
    "        X[X > 1] = 1\n",
    "        X[X < 0] = 0\n",
    "\n",
    "        if self.__is_tricked(X.T, Y, predict_func) == True:\n",
    "            self.tricked = True\n",
    "        else:\n",
    "            self.tricked = False\n",
    "        \n",
    "        X_vert = X.T\n",
    "        return X_vert"
   ]
  },
  {
   "cell_type": "code",
   "execution_count": 193,
   "metadata": {},
   "outputs": [
    {
     "data": {
      "image/png": "[encoded data removed]",
      "text/plain": [
       "<Figure size 1080x360 with 3 Axes>"
      ]
     },
     "metadata": {
      "needs_background": "light"
     },
     "output_type": "display_data"
    },
    {
     "data": {
      "image/png": "[encoded data removed]",
      "text/plain": [
       "<Figure size 432x288 with 1 Axes>"
      ]
     },
     "metadata": {
      "needs_background": "light"
     },
     "output_type": "display_data"
    },
    {
     "name": "stdout",
     "output_type": "stream",
     "text": [
      "Perturbation: 12.583484850548912; Result: True\n",
      "Max value: 255.0\n",
      "Min value: 0.0\n",
      "Max perturbation: 19.93078616404803\n"
     ]
    }
   ],
   "source": [
    "class AttackDeepFool():\n",
    "    # Deep Fool Attack\n",
    "    def attack(self, X_vert, W, b, Y_vert_true, predict_func, max_norm=1, max_iters=100):\n",
    "        self.num_iters = 0\n",
    "        self.max_iters = max_iters\n",
    "        self.max_norm = max_norm\n",
    "        \n",
    "        self.W = W\n",
    "        self.b = b\n",
    "\n",
    "        self.Y_ = np.expand_dims(Y_vert_true, axis=1)\n",
    "        self.X_ = X_vert.T\n",
    "        \n",
    "        self.X_ = self.__deep_fool(self.X_, self.Y_, self.W, self.b, predict_func)                \n",
    "        return self.X_\n",
    "    \n",
    "    def __stable_softmax(self, z):\n",
    "        exps = np.exp(z - np.max(z))\n",
    "        return exps / exps.sum(axis=0, keepdims=True)\n",
    "        \n",
    "    def __softmax(self, z):\n",
    "        exps = np.exp(z)\n",
    "        return exps / exps.sum(axis=0, keepdims=True)\n",
    "\n",
    "    def __is_tricked(self, X, Y, predict_func):\n",
    "        true_class = np.argmax(Y[:, 0] != 0)\n",
    "        if (predict_func(np.array(X))[0] == true_class):\n",
    "            return False\n",
    "        return True\n",
    "\n",
    "    def __classificator(self, W, b, X):\n",
    "        return self.__softmax(np.dot(W.T,X)+ b)[:, 0]\n",
    "    \n",
    "    def __classificator_gradient(self, W, b, X, Y, k):\n",
    "        a = self.__classificator(W, b, X)\n",
    "        return a[k] * (1 - a[k]) * W.T[k]\n",
    "    \n",
    "    def __deep_fool(self, X, Y, W, b, predict_func):        \n",
    "        # num of features\n",
    "        m = X.shape[0]\n",
    "        # num of samples\n",
    "        n = X.shape[1]\n",
    "        \n",
    "        X_origin = X\n",
    "        alpha = self.max_norm / self.max_iters\n",
    "        idxs = [x[0] for x in np.argwhere(Y[:, 0] == 0)]\n",
    "        true_class = np.argwhere(Y[:, 0] != 0)[0]\n",
    "\n",
    "        while (LA.norm(X_origin - X, np.inf) < self.max_norm and\n",
    "               self.__is_tricked(X.T, Y, predict_func) == False and\n",
    "               self.num_iters < self.max_iters):\n",
    "            \n",
    "            w_gradients = []\n",
    "            f_predictions = []\n",
    "            #print(self.num_iters < self.max_iters)\n",
    "            grad_origin = self.__classificator_gradient(W, b, X, Y, true_class)\n",
    "            pred_origin = self.__classificator(W, b, X)[true_class]\n",
    "\n",
    "            for k in idxs:\n",
    "                grad_k = self.__classificator_gradient(W, b, X, Y, k)\n",
    "                pred_k = self.__classificator(W, b, X)[k]\n",
    "                \n",
    "                w_k = grad_origin - grad_k\n",
    "                f_k = pred_origin - pred_k\n",
    "            \n",
    "                w_gradients.append(grad_k)\n",
    "                f_predictions.append(f_k)\n",
    "            \n",
    "            w_gradients_norm = [LA.norm(w, 2) for w in w_gradients]\n",
    "            l = np.argmin( np.abs(np.array(f_k)) / w_gradients_norm )\n",
    "            \n",
    "            perturbation = (f_predictions[l] * w_gradients[l]) / w_gradients_norm[l] ** 2\n",
    "            X = X + (1 / (self.max_iters - self.num_iters)) * np.expand_dims(perturbation, axis=1)\n",
    "            X[X > 1] = 1\n",
    "            X[X < 0] = 0\n",
    "            \n",
    "            self.num_iters += 1\n",
    "            #print(LA.norm(X_origin - X, np.inf))\n",
    "\n",
    "        if self.__is_tricked(X.T, Y, predict_func) == True:\n",
    "            self.tricked = True\n",
    "        else:\n",
    "            self.tricked = False\n",
    "        #print(self.tricked)\n",
    "        X_vert = X.T\n",
    "        return X_vert\n"
   ]
  },
  {
   "cell_type": "code",
   "execution_count": 15,
   "metadata": {},
   "outputs": [
    {
     "name": "stdout",
     "output_type": "stream",
     "text": [
      "Dataset: X=(42000, 784), y=(42000, 1)\n"
     ]
    }
   ],
   "source": [
    "filename_test = \"./digit-recognizer/test.csv\"\n",
    "filename_train = \"./digit-recognizer/train.csv\"\n",
    "\n",
    "df_train = pd.read_csv(filename_train, delimiter=',')\n",
    "df_test = pd.read_csv(filename_test, delimiter=',')\n",
    "\n",
    "X = df_train.loc[:, df_train.columns != \"label\"]\n",
    "y = df_train.loc[:, df_train.columns == \"label\"]\n",
    "print('Dataset: X={}, y={}'.format(X.shape, y.shape))"
   ]
  },
  {
   "cell_type": "code",
   "execution_count": 16,
   "metadata": {},
   "outputs": [
    {
     "name": "stdout",
     "output_type": "stream",
     "text": [
      "Training set: X=(33600, 784), y=(33600, 1)\n",
      "Test set: X=(8400, 784), y=(8400, 1)\n"
     ]
    }
   ],
   "source": [
    "X_train, X_test, y_train, y_test = train_test_split(X, y, test_size = 0.2, shuffle = True, stratify = y)\n",
    "\n",
    "print('Training set: X={}, y={}'.format(X_train.shape, y_train.shape))\n",
    "print('Test set: X={}, y={}'.format(X_test.shape, y_test.shape))"
   ]
  },
  {
   "cell_type": "code",
   "execution_count": 17,
   "metadata": {},
   "outputs": [
    {
     "data": {
      "image/png": "[encoded data removed]",
      "text/plain": [
       "<Figure size 432x288 with 1 Axes>"
      ]
     },
     "metadata": {
      "needs_background": "light"
     },
     "output_type": "display_data"
    }
   ],
   "source": [
    "X_t =  X_train.values.reshape(-1,28,28,1)\n",
    "g = plt.imshow(X_t[0][:, :, 0], 'gray')"
   ]
  },
  {
   "cell_type": "code",
   "execution_count": 18,
   "metadata": {},
   "outputs": [],
   "source": [
    "from sklearn.preprocessing import OneHotEncoder\n",
    "encoder = OneHotEncoder()\n",
    "encoder.fit(y_train)\n",
    "\n",
    "Y_train = encoder.transform(y_train).toarray()\n",
    "y_labels = [x[3:] for x in  encoder.get_feature_names()]\n",
    "\n",
    "# encoder.fit(y_test)\n",
    "# Y_test = encoder.transform(y_test).toarray()"
   ]
  },
  {
   "cell_type": "code",
   "execution_count": 19,
   "metadata": {
    "scrolled": true
   },
   "outputs": [
    {
     "name": "stdout",
     "output_type": "stream",
     "text": [
      "0 iteration: 98.68221827117341\n",
      "100 iteration: 16.755615068625797\n",
      "200 iteration: 14.816102445063004\n",
      "300 iteration: 13.949435247165573\n",
      "400 iteration: 13.422699913385511\n"
     ]
    },
    {
     "data": {
      "image/png": "[encoded data removed]",
      "text/plain": [
       "<Figure size 432x288 with 1 Axes>"
      ]
     },
     "metadata": {
      "needs_background": "light"
     },
     "output_type": "display_data"
    },
    {
     "name": "stdout",
     "output_type": "stream",
     "text": [
      "13.058806647935304\n",
      "Wall time: 48.3 s\n"
     ]
    }
   ],
   "source": [
    "%%time\n",
    "lg = LogisticRegression(normalize=False)\n",
    "lg.fit(normalize(X_train), Y_train, 0.5, 500, 1e-15)\n",
    "\n",
    "plot_J(lg.get_cost_history())\n",
    "print(lg.get_cost_history()[-1])"
   ]
  },
  {
   "cell_type": "code",
   "execution_count": 20,
   "metadata": {},
   "outputs": [
    {
     "data": {
      "text/plain": [
       "array([4, 0, 4, ..., 5, 0, 4])"
      ]
     },
     "execution_count": 20,
     "metadata": {},
     "output_type": "execute_result"
    }
   ],
   "source": [
    "y_pred = lg.predict(normalize(X_test))\n",
    "y_pred"
   ]
  },
  {
   "cell_type": "code",
   "execution_count": null,
   "metadata": {},
   "outputs": [],
   "source": []
  },
  {
   "cell_type": "code",
   "execution_count": 21,
   "metadata": {},
   "outputs": [],
   "source": [
    "# n = len(y_labels)"
   ]
  },
  {
   "cell_type": "code",
   "execution_count": 22,
   "metadata": {},
   "outputs": [],
   "source": [
    "# X_test_norm = (X_test - lg.get_mean()) / lg.get_std()\n",
    "\n",
    "# num = 0\n",
    "# den = 0\n",
    "# iter_res_dict = {}\n",
    "# y = np.zeros(n)\n",
    "\n",
    "\n",
    "\n",
    "# for i in range(10):\n",
    "#     x = np.expand_dims(X_test_norm.iloc[i, :], axis=0)\n",
    "#     for j in range(len(y_labels)):\n",
    "#         y = np.zeros(n)\n",
    "#         y[j] = 1\n",
    "#         for k in range(100):\n",
    "#             iters, result  = get_trick_iteration(x, y_labels, k, 0.01, goal=y, model=lg)\n",
    "#             #if (iters == 10):\n",
    "#             #    print(i, y)\n",
    "#             if iters in iter_res_dict.keys():\n",
    "#                 iter_res_dict[iters][\"appearance_count\"] += 1 \n",
    "#                 iter_res_dict[iters][\"success_count\"] += result\n",
    "\n",
    "#             else:\n",
    "#                 iter_res_dict.update({iters: {\"appearance_count\": 1, \"success_count\": result} })\n",
    "    \n",
    "# success_rate = {}\n",
    "# for key, value in iter_res_dict.items():\n",
    "#     success_rate[key] = value[\"success_count\"] / value[\"appearance_count\"] * 100\n",
    "        \n",
    "# #print(num / den)\n",
    "# #print(iter_res_dict)\n",
    "# #print(success_rate)\n",
    "\n",
    "# line1, = plt.plot(list(success_rate.keys()), list(success_rate.values()), linestyle='-', linewidth=1, color='blue', label='I-FGSM')\n",
    "# plt.legend(loc=\"upper right\")\n"
   ]
  },
  {
   "cell_type": "code",
   "execution_count": 219,
   "metadata": {},
   "outputs": [],
   "source": [
    "from matplotlib import rc\n",
    "def show_adversarial_sample(x, y_labels, true_class=[], model=None, attack_model=None, max_norm=10, max_iters=10):\n",
    "\n",
    "    x_normalized = normalize(x)\n",
    "    attack = attack_model()\n",
    "\n",
    "    if type(attack).__name__ in ['AttackNoise']:\n",
    "        x_adv_normalized = attack.attack(x_normalized, true_class, model.predict, max_norm=max_norm)\n",
    "    \n",
    "    elif type(attack).__name__ in ['AttackIFGSM', 'AttackTIFGSM', 'AttackFGSM', 'AttackDeepFool', 'AttackMIFGSM']:\n",
    "        x_adv_normalized = attack.attack(x_normalized, model.W, model.b, true_class, model.predict, max_norm=max_norm)\n",
    "        \n",
    "    x_adv = denormalize(x_adv_normalized)\n",
    "    x_adv_pred = model.predict(np.array(x_adv_normalized))\n",
    "    \n",
    "    fig, (ax1, ax2, ax3) = plt.subplots(1, 3, squeeze=True, sharex=True, sharey=True)\n",
    "    fig.set_size_inches(15,5)\n",
    "    fig.suptitle('Adversarial example')\n",
    "    \n",
    "    ax1.imshow(x.reshape(28,28), 'gray')\n",
    "    ax1.set_title(f\"Original\\n prediction: {model.predict(x_normalized)[0]}\")\n",
    "    \n",
    "    ax2.imshow(x.reshape(28,28) - x_adv.reshape(28,28), \"gray\")\n",
    "    ax2.set_title(f\"Difference\")\n",
    "    \n",
    "    ax3.imshow(x_adv.reshape(28,28), 'gray')\n",
    "    ax3.set_title(f\"Adversarial\\n prediction: {x_adv_pred[0]}\")\n",
    "    plt.show()\n",
    "\n",
    "    pred_with_labels = model.predict_by_labels(np.array(x_adv_normalized), y_labels)\n",
    "    plt.bar(pred_with_labels[0].keys(), pred_with_labels[0].values())\n",
    "    plt.show()\n",
    "    \n",
    "    print(f\"Norm_inf: {LA.norm(abs(x_normalized - x_adv_normalized), np.inf)}; Result: {attack.tricked}\")\n",
    "    print(f\"Max value: {max(max(x_adv))}\")\n",
    "    print(f\"Min value: {min(min(x_adv))}\")"
   ]
  },
  {
   "cell_type": "code",
   "execution_count": 246,
   "metadata": {},
   "outputs": [],
   "source": [
    "def untargeted_attack_benchmark(X, y_labels, model=None, attack_model=None, samples=100):\n",
    "    X_norm = normalize(X)\n",
    "    iter_res_dict = {}\n",
    "\n",
    "    norms_range = np.linspace(0, 0.5, num=50)\n",
    "    print(f\"Perturbations list: {norms_range}\")\n",
    "\n",
    "    for i in range(samples):\n",
    "        x_normalized = np.expand_dims(X_norm.iloc[i, :], axis=0)\n",
    "        y = np.zeros(len(y_labels))\n",
    "        true_class_pos = model.predict(x_normalized)\n",
    "        y[true_class_pos] = 1\n",
    "    \n",
    "        for norm in norms_range:\n",
    "            attack = attack_model()\n",
    "            if type(attack).__name__ in ['AttackNoise']:\n",
    "                a = attack.attack(x_normalized, y, model.predict, max_norm=norm)\n",
    "            elif type(attack).__name__ in ['AttackIFGSM', 'AttackTIFGSM', 'AttackDeepFool', 'AttackFGSM', 'AttackMIFGSM']:\n",
    "                a = attack.attack(x_normalized, model.W, model.b, y, model.predict, max_norm=norm)\n",
    "                \n",
    "            success = attack.tricked\n",
    "            #perturbation = LA.norm(abs(a - x_normalized), np.inf)\n",
    "            \n",
    "            if norm in iter_res_dict.keys():\n",
    "                iter_res_dict[norm][\"appearance_count\"] += 1\n",
    "                iter_res_dict[norm][\"success_count\"] += success\n",
    "            else:\n",
    "                iter_res_dict.update({norm: {\"appearance_count\": 1, \"success_count\": success} })\n",
    "\n",
    "    success_rate = {}\n",
    "    for key, value in iter_res_dict.items():\n",
    "        success_rate[key] = value[\"success_count\"] / value[\"appearance_count\"] * 100\n",
    "\n",
    "    perturbations_list = [x[0] for x in sorted(success_rate.items(), key=lambda x: x[0]) ]\n",
    "    successrate_list = [x[1] for x in sorted(success_rate.items(), key=lambda x: x[0]) ]\n",
    "\n",
    "    plt.plot(perturbations_list, successrate_list)    \n",
    "    return perturbations_list, successrate_list"
   ]
  },
  {
   "cell_type": "code",
   "execution_count": 25,
   "metadata": {},
   "outputs": [],
   "source": [
    "correct_pred_idx = np.array(y_test.iloc[:, 0]) == y_pred"
   ]
  },
  {
   "cell_type": "markdown",
   "metadata": {},
   "source": [
    "### Targeted FGSM Benchmark"
   ]
  },
  {
   "cell_type": "code",
   "execution_count": 247,
   "metadata": {},
   "outputs": [
    {
     "name": "stdout",
     "output_type": "stream",
     "text": [
      "Perturbations list: [0.         0.01020408 0.02040816 0.03061224 0.04081633 0.05102041\n",
      " 0.06122449 0.07142857 0.08163265 0.09183673 0.10204082 0.1122449\n",
      " 0.12244898 0.13265306 0.14285714 0.15306122 0.16326531 0.17346939\n",
      " 0.18367347 0.19387755 0.20408163 0.21428571 0.2244898  0.23469388\n",
      " 0.24489796 0.25510204 0.26530612 0.2755102  0.28571429 0.29591837\n",
      " 0.30612245 0.31632653 0.32653061 0.33673469 0.34693878 0.35714286\n",
      " 0.36734694 0.37755102 0.3877551  0.39795918 0.40816327 0.41836735\n",
      " 0.42857143 0.43877551 0.44897959 0.45918367 0.46938776 0.47959184\n",
      " 0.48979592 0.5       ]\n"
     ]
    },
    {
     "data": {
      "image/png": "[encoded data removed]",
      "text/plain": [
       "<Figure size 432x288 with 1 Axes>"
      ]
     },
     "metadata": {
      "needs_background": "light"
     },
     "output_type": "display_data"
    }
   ],
   "source": [
    "x1, y1 = untargeted_attack_benchmark(X_test[correct_pred_idx], y_labels, model=lg, attack_model=AttackIFGSM, samples=10)"
   ]
  },
  {
   "cell_type": "code",
   "execution_count": 133,
   "metadata": {
    "scrolled": true
   },
   "outputs": [
    {
     "name": "stdout",
     "output_type": "stream",
     "text": [
      "Perturbations list: [0.         0.01020408 0.02040816 0.03061224 0.04081633 0.05102041\n",
      " 0.06122449 0.07142857 0.08163265 0.09183673 0.10204082 0.1122449\n",
      " 0.12244898 0.13265306 0.14285714 0.15306122 0.16326531 0.17346939\n",
      " 0.18367347 0.19387755 0.20408163 0.21428571 0.2244898  0.23469388\n",
      " 0.24489796 0.25510204 0.26530612 0.2755102  0.28571429 0.29591837\n",
      " 0.30612245 0.31632653 0.32653061 0.33673469 0.34693878 0.35714286\n",
      " 0.36734694 0.37755102 0.3877551  0.39795918 0.40816327 0.41836735\n",
      " 0.42857143 0.43877551 0.44897959 0.45918367 0.46938776 0.47959184\n",
      " 0.48979592 0.5       ]\n",
      "[0.0, 0.01020408163265306, 0.02040816326530612, 0.030612244897959183, 0.04081632653061224, 0.0510204081632653, 0.061224489795918366, 0.07142857142857142, 0.08163265306122448, 0.09183673469387754, 0.1020408163265306, 0.11224489795918366, 0.12244897959183673, 0.13265306122448978, 0.14285714285714285, 0.1530612244897959, 0.16326530612244897, 0.17346938775510204, 0.18367346938775508, 0.19387755102040816, 0.2040816326530612, 0.21428571428571427, 0.22448979591836732, 0.2346938775510204, 0.24489795918367346, 0.25510204081632654, 0.26530612244897955, 0.2755102040816326, 0.2857142857142857, 0.29591836734693877, 0.3061224489795918, 0.31632653061224486, 0.32653061224489793, 0.336734693877551, 0.3469387755102041, 0.3571428571428571, 0.36734693877551017, 0.37755102040816324, 0.3877551020408163, 0.39795918367346933, 0.4081632653061224, 0.4183673469387755, 0.42857142857142855, 0.4387755102040816, 0.44897959183673464, 0.4591836734693877, 0.4693877551020408, 0.47959183673469385, 0.4897959183673469, 0.5]\n",
      "[0.0, 2.1, 4.7, 9.3, 13.600000000000001, 19.2, 25.8, 34.699999999999996, 42.4, 51.9, 61.5, 69.3, 75.6, 81.89999999999999, 87.0, 89.5, 91.9, 93.60000000000001, 96.5, 97.8, 98.2, 98.5, 98.8, 99.0, 99.5, 99.5, 99.7, 99.8, 99.9, 100.0, 100.0, 100.0, 100.0, 100.0, 100.0, 100.0, 100.0, 100.0, 100.0, 100.0, 100.0, 100.0, 100.0, 100.0, 100.0, 100.0, 100.0, 100.0, 100.0, 100.0]\n"
     ]
    },
    {
     "data": {
      "image/png": "[encoded data removed]",
      "text/plain": [
       "<Figure size 432x288 with 1 Axes>"
      ]
     },
     "metadata": {
      "needs_background": "light"
     },
     "output_type": "display_data"
    }
   ],
   "source": [
    "x2, y2 = untargeted_attack_benchmark(X_test[correct_pred_idx], y_labels, model=lg, attack_model=AttackFGSM, samples=1000)\n"
   ]
  },
  {
   "cell_type": "code",
   "execution_count": 134,
   "metadata": {
    "scrolled": true
   },
   "outputs": [
    {
     "name": "stdout",
     "output_type": "stream",
     "text": [
      "Perturbations list: [0.         0.01020408 0.02040816 0.03061224 0.04081633 0.05102041\n",
      " 0.06122449 0.07142857 0.08163265 0.09183673 0.10204082 0.1122449\n",
      " 0.12244898 0.13265306 0.14285714 0.15306122 0.16326531 0.17346939\n",
      " 0.18367347 0.19387755 0.20408163 0.21428571 0.2244898  0.23469388\n",
      " 0.24489796 0.25510204 0.26530612 0.2755102  0.28571429 0.29591837\n",
      " 0.30612245 0.31632653 0.32653061 0.33673469 0.34693878 0.35714286\n",
      " 0.36734694 0.37755102 0.3877551  0.39795918 0.40816327 0.41836735\n",
      " 0.42857143 0.43877551 0.44897959 0.45918367 0.46938776 0.47959184\n",
      " 0.48979592 0.5       ]\n",
      "[0.0, 0.01020408163265306, 0.02040816326530612, 0.030612244897959183, 0.04081632653061224, 0.0510204081632653, 0.061224489795918366, 0.07142857142857142, 0.08163265306122448, 0.09183673469387754, 0.1020408163265306, 0.11224489795918366, 0.12244897959183673, 0.13265306122448978, 0.14285714285714285, 0.1530612244897959, 0.16326530612244897, 0.17346938775510204, 0.18367346938775508, 0.19387755102040816, 0.2040816326530612, 0.21428571428571427, 0.22448979591836732, 0.2346938775510204, 0.24489795918367346, 0.25510204081632654, 0.26530612244897955, 0.2755102040816326, 0.2857142857142857, 0.29591836734693877, 0.3061224489795918, 0.31632653061224486, 0.32653061224489793, 0.336734693877551, 0.3469387755102041, 0.3571428571428571, 0.36734693877551017, 0.37755102040816324, 0.3877551020408163, 0.39795918367346933, 0.4081632653061224, 0.4183673469387755, 0.42857142857142855, 0.4387755102040816, 0.44897959183673464, 0.4591836734693877, 0.4693877551020408, 0.47959183673469385, 0.4897959183673469, 0.5]\n",
      "[0.0, 0.0, 0.1, 0.1, 0.1, 0.4, 0.3, 0.5, 0.6, 0.3, 0.3, 0.7000000000000001, 0.7000000000000001, 0.7000000000000001, 0.7000000000000001, 0.6, 1.0, 0.5, 0.8, 1.4000000000000001, 1.0999999999999999, 1.0999999999999999, 1.0, 1.3, 1.5, 1.7000000000000002, 1.6, 1.5, 2.5, 3.2, 3.5000000000000004, 2.8000000000000003, 3.5999999999999996, 4.3, 4.1000000000000005, 4.2, 4.7, 5.7, 6.1, 5.4, 7.000000000000001, 6.7, 8.200000000000001, 8.0, 8.4, 10.0, 9.8, 10.4, 11.700000000000001, 12.7]\n"
     ]
    },
    {
     "data": {
      "image/png": "[encoded data removed]",
      "text/plain": [
       "<Figure size 432x288 with 1 Axes>"
      ]
     },
     "metadata": {
      "needs_background": "light"
     },
     "output_type": "display_data"
    }
   ],
   "source": [
    "x3, y3 = untargeted_attack_benchmark(X_test[correct_pred_idx], y_labels, model=lg, attack_model=AttackNoise, samples=1000)"
   ]
  },
  {
   "cell_type": "code",
   "execution_count": 194,
   "metadata": {
    "scrolled": true
   },
   "outputs": [
    {
     "name": "stdout",
     "output_type": "stream",
     "text": [
      "Perturbations list: [0.         0.01020408 0.02040816 0.03061224 0.04081633 0.05102041\n",
      " 0.06122449 0.07142857 0.08163265 0.09183673 0.10204082 0.1122449\n",
      " 0.12244898 0.13265306 0.14285714 0.15306122 0.16326531 0.17346939\n",
      " 0.18367347 0.19387755 0.20408163 0.21428571 0.2244898  0.23469388\n",
      " 0.24489796 0.25510204 0.26530612 0.2755102  0.28571429 0.29591837\n",
      " 0.30612245 0.31632653 0.32653061 0.33673469 0.34693878 0.35714286\n",
      " 0.36734694 0.37755102 0.3877551  0.39795918 0.40816327 0.41836735\n",
      " 0.42857143 0.43877551 0.44897959 0.45918367 0.46938776 0.47959184\n",
      " 0.48979592 0.5       ]\n",
      "[0.0, 0.01020408163265306, 0.02040816326530612, 0.030612244897959183, 0.04081632653061224, 0.0510204081632653, 0.061224489795918366, 0.07142857142857142, 0.08163265306122448, 0.09183673469387754, 0.1020408163265306, 0.11224489795918366, 0.12244897959183673, 0.13265306122448978, 0.14285714285714285, 0.1530612244897959, 0.16326530612244897, 0.17346938775510204, 0.18367346938775508, 0.19387755102040816, 0.2040816326530612, 0.21428571428571427, 0.22448979591836732, 0.2346938775510204, 0.24489795918367346, 0.25510204081632654, 0.26530612244897955, 0.2755102040816326, 0.2857142857142857, 0.29591836734693877, 0.3061224489795918, 0.31632653061224486, 0.32653061224489793, 0.336734693877551, 0.3469387755102041, 0.3571428571428571, 0.36734693877551017, 0.37755102040816324, 0.3877551020408163, 0.39795918367346933, 0.4081632653061224, 0.4183673469387755, 0.42857142857142855, 0.4387755102040816, 0.44897959183673464, 0.4591836734693877, 0.4693877551020408, 0.47959183673469385, 0.4897959183673469, 0.5]\n",
      "[0.0, 11.0, 11.0, 12.0, 12.0, 13.0, 13.0, 15.0, 16.0, 18.0, 18.0, 19.0, 22.0, 25.0, 26.0, 26.0, 26.0, 28.000000000000004, 28.000000000000004, 28.000000000000004, 28.999999999999996, 30.0, 31.0, 32.0, 34.0, 36.0, 38.0, 40.0, 43.0, 48.0, 50.0, 53.0, 56.99999999999999, 60.0, 62.0, 67.0, 68.0, 69.0, 69.0, 69.0, 69.0, 69.0, 69.0, 71.0, 71.0, 72.0, 73.0, 76.0, 76.0, 76.0]\n"
     ]
    },
    {
     "data": {
      "image/png": "[encoded data removed]",
      "text/plain": [
       "<Figure size 432x288 with 1 Axes>"
      ]
     },
     "metadata": {
      "needs_background": "light"
     },
     "output_type": "display_data"
    }
   ],
   "source": [
    "x4, y4 = untargeted_attack_benchmark(X_test[correct_pred_idx], y_labels, model=lg, attack_model=AttackDeepFool, samples=100)"
   ]
  },
  {
   "cell_type": "code",
   "execution_count": 240,
   "metadata": {},
   "outputs": [
    {
     "name": "stdout",
     "output_type": "stream",
     "text": [
      "Perturbations list: [0.         0.01020408 0.02040816 0.03061224 0.04081633 0.05102041\n",
      " 0.06122449 0.07142857 0.08163265 0.09183673 0.10204082 0.1122449\n",
      " 0.12244898 0.13265306 0.14285714 0.15306122 0.16326531 0.17346939\n",
      " 0.18367347 0.19387755 0.20408163 0.21428571 0.2244898  0.23469388\n",
      " 0.24489796 0.25510204 0.26530612 0.2755102  0.28571429 0.29591837\n",
      " 0.30612245 0.31632653 0.32653061 0.33673469 0.34693878 0.35714286\n",
      " 0.36734694 0.37755102 0.3877551  0.39795918 0.40816327 0.41836735\n",
      " 0.42857143 0.43877551 0.44897959 0.45918367 0.46938776 0.47959184\n",
      " 0.48979592 0.5       ]\n",
      "[0.0, 0.01020408163265306, 0.02040816326530612, 0.030612244897959183, 0.04081632653061224, 0.0510204081632653, 0.061224489795918366, 0.07142857142857142, 0.08163265306122448, 0.09183673469387754, 0.1020408163265306, 0.11224489795918366, 0.12244897959183673, 0.13265306122448978, 0.14285714285714285, 0.1530612244897959, 0.16326530612244897, 0.17346938775510204, 0.18367346938775508, 0.19387755102040816, 0.2040816326530612, 0.21428571428571427, 0.22448979591836732, 0.2346938775510204, 0.24489795918367346, 0.25510204081632654, 0.26530612244897955, 0.2755102040816326, 0.2857142857142857, 0.29591836734693877, 0.3061224489795918, 0.31632653061224486, 0.32653061224489793, 0.336734693877551, 0.3469387755102041, 0.3571428571428571, 0.36734693877551017, 0.37755102040816324, 0.3877551020408163, 0.39795918367346933, 0.4081632653061224, 0.4183673469387755, 0.42857142857142855, 0.4387755102040816, 0.44897959183673464, 0.4591836734693877, 0.4693877551020408, 0.47959183673469385, 0.4897959183673469, 0.5]\n",
      "[0.0, 0.0, 0.0, 20.0, 30.0, 30.0, 40.0, 40.0, 40.0, 70.0, 90.0, 90.0, 90.0, 90.0, 90.0, 100.0, 100.0, 100.0, 100.0, 100.0, 100.0, 100.0, 100.0, 100.0, 100.0, 100.0, 100.0, 100.0, 100.0, 100.0, 100.0, 100.0, 100.0, 100.0, 100.0, 100.0, 100.0, 100.0, 100.0, 100.0, 100.0, 100.0, 100.0, 100.0, 100.0, 100.0, 100.0, 100.0, 100.0, 100.0]\n"
     ]
    },
    {
     "data": {
      "image/png": "[encoded data removed]",
      "text/plain": [
       "<Figure size 432x288 with 1 Axes>"
      ]
     },
     "metadata": {
      "needs_background": "light"
     },
     "output_type": "display_data"
    }
   ],
   "source": [
    "x5, y5 = untargeted_attack_benchmark(X_test[correct_pred_idx], y_labels, model=lg, attack_model=AttackMIFGSM, samples=10)"
   ]
  },
  {
   "cell_type": "code",
   "execution_count": 245,
   "metadata": {},
   "outputs": [
    {
     "data": {
      "text/plain": [
       "[<matplotlib.lines.Line2D at 0x243b6ae7a88>,\n",
       " <matplotlib.lines.Line2D at 0x243d9a2f048>]"
      ]
     },
     "execution_count": 245,
     "metadata": {},
     "output_type": "execute_result"
    },
    {
     "data": {
      "image/png": "[encoded data removed]",
      "text/plain": [
       "<Figure size 432x288 with 1 Axes>"
      ]
     },
     "metadata": {
      "needs_background": "light"
     },
     "output_type": "display_data"
    }
   ],
   "source": [
    "plt.plot(np.array(x1), y1, 'b')\n",
    "plt.plot(np.array(x2), y2, 'g')\n",
    "plt.plot(np.array(x3), y3, 'orange')\n",
    "plt.plot(np.array(x4), y4, '')\n",
    "plt.plot(np.array(x5), y5, '--', 'yellow')"
   ]
  },
  {
   "cell_type": "markdown",
   "metadata": {},
   "source": [
    "### Untargeted Noise Attack"
   ]
  },
  {
   "cell_type": "code",
   "execution_count": 202,
   "metadata": {},
   "outputs": [
    {
     "data": {
      "image/png": "[encoded data removed]",
      "text/plain": [
       "<Figure size 1080x360 with 3 Axes>"
      ]
     },
     "metadata": {
      "needs_background": "light"
     },
     "output_type": "display_data"
    },
    {
     "data": {
      "image/png": "[encoded data removed]",
      "text/plain": [
       "<Figure size 432x288 with 1 Axes>"
      ]
     },
     "metadata": {
      "needs_background": "light"
     },
     "output_type": "display_data"
    },
    {
     "name": "stdout",
     "output_type": "stream",
     "text": [
      "Perturbation: 190.83959179208824; Result: True\n",
      "Max value: 255.0\n",
      "Min value: 0.0\n",
      "Max perturbation: 254.0\n"
     ]
    }
   ],
   "source": [
    "index = 38\n",
    "x = np.expand_dims(X_test.iloc[index, :], axis=0)\n",
    "y = np.zeros(len(y_labels))\n",
    "\n",
    "true_class = lg.predict(normalize(x))\n",
    "y[true_class] = 1\n",
    "\n",
    "show_adversarial_sample(x, y_labels, true_class=y, model=lg, attack_model=AttackNoise, max_norm=1)"
   ]
  },
  {
   "cell_type": "markdown",
   "metadata": {},
   "source": [
    "### Untargeted FGSM"
   ]
  },
  {
   "cell_type": "code",
   "execution_count": 203,
   "metadata": {},
   "outputs": [
    {
     "data": {
      "image/png": "[encoded data removed]",
      "text/plain": [
       "<Figure size 1080x360 with 3 Axes>"
      ]
     },
     "metadata": {
      "needs_background": "light"
     },
     "output_type": "display_data"
    },
    {
     "data": {
      "image/png": "[encoded data removed]",
      "text/plain": [
       "<Figure size 432x288 with 1 Axes>"
      ]
     },
     "metadata": {
      "needs_background": "light"
     },
     "output_type": "display_data"
    },
    {
     "name": "stdout",
     "output_type": "stream",
     "text": [
      "Perturbation: 32.08823529411765; Result: False\n",
      "Max value: 255.0\n",
      "Min value: 0.0\n",
      "Max perturbation: 17.850000000000023\n"
     ]
    }
   ],
   "source": [
    "index = 0\n",
    "x = np.expand_dims(X_test.iloc[index, :], axis=0)\n",
    "y = np.zeros(len(y_labels))\n",
    "\n",
    "true_class = lg.predict(normalize(x))\n",
    "y[true_class] = 1\n",
    "\n",
    "show_adversarial_sample(x, y_labels, true_class=y, model=lg, attack_model=AttackFGSM, max_norm=0.07)"
   ]
  },
  {
   "cell_type": "markdown",
   "metadata": {},
   "source": [
    "### Untargeted I-FGSM"
   ]
  },
  {
   "cell_type": "code",
   "execution_count": 204,
   "metadata": {},
   "outputs": [
    {
     "data": {
      "image/png": "[encoded data removed]",
      "text/plain": [
       "<Figure size 1080x360 with 3 Axes>"
      ]
     },
     "metadata": {
      "needs_background": "light"
     },
     "output_type": "display_data"
    },
    {
     "data": {
      "image/png": "[encoded data removed]",
      "text/plain": [
       "<Figure size 432x288 with 1 Axes>"
      ]
     },
     "metadata": {
      "needs_background": "light"
     },
     "output_type": "display_data"
    },
    {
     "name": "stdout",
     "output_type": "stream",
     "text": [
      "Perturbation: 48.89745098039215; Result: True\n",
      "Max value: 255.0\n",
      "Min value: 0.0\n",
      "Max perturbation: 22.950000000000045\n"
     ]
    }
   ],
   "source": [
    "index = 422\n",
    "x = np.expand_dims(X_test.iloc[index, :], axis=0)\n",
    "y = np.zeros(len(y_labels))\n",
    "\n",
    "true_class = lg.predict(normalize(x))\n",
    "y[true_class] = 1\n",
    "\n",
    "show_adversarial_sample(x, y_labels, true_class=y, model=lg, attack_model=AttackIFGSM, max_norm=1, max_iters=100)"
   ]
  },
  {
   "cell_type": "markdown",
   "metadata": {},
   "source": [
    "### DeepFool"
   ]
  },
  {
   "cell_type": "code",
   "execution_count": 233,
   "metadata": {},
   "outputs": [
    {
     "data": {
      "image/png": "[encoded data removed]",
      "text/plain": [
       "<Figure size 1080x360 with 3 Axes>"
      ]
     },
     "metadata": {
      "needs_background": "light"
     },
     "output_type": "display_data"
    },
    {
     "data": {
      "image/png": "[encoded data removed]",
      "text/plain": [
       "<Figure size 432x288 with 1 Axes>"
      ]
     },
     "metadata": {
      "needs_background": "light"
     },
     "output_type": "display_data"
    },
    {
     "name": "stdout",
     "output_type": "stream",
     "text": [
      "Perturbation: 24.071168055154843; Result: True\n",
      "Max value: 255.0\n",
      "Min value: 0.0\n",
      "Max perturbation: 61.25438372748749\n"
     ]
    }
   ],
   "source": [
    "index = 1\n",
    "x = np.expand_dims(X_test.iloc[index, :], axis=0)\n",
    "y = np.zeros(len(y_labels))\n",
    "\n",
    "true_class = lg.predict(normalize(x))\n",
    "y[true_class] = 1\n",
    "\n",
    "show_adversarial_sample(x, y_labels, true_class=y, model=lg, attack_model=AttackDeepFool, max_norm=100, max_iters=100)"
   ]
  },
  {
   "cell_type": "markdown",
   "metadata": {},
   "source": [
    "### Targeted I-FGSM"
   ]
  },
  {
   "cell_type": "code",
   "execution_count": 210,
   "metadata": {},
   "outputs": [
    {
     "data": {
      "image/png": "[encoded data removed]",
      "text/plain": [
       "<Figure size 1080x360 with 3 Axes>"
      ]
     },
     "metadata": {
      "needs_background": "light"
     },
     "output_type": "display_data"
    },
    {
     "data": {
      "image/png": "[encoded data removed]",
      "text/plain": [
       "<Figure size 432x288 with 1 Axes>"
      ]
     },
     "metadata": {
      "needs_background": "light"
     },
     "output_type": "display_data"
    },
    {
     "name": "stdout",
     "output_type": "stream",
     "text": [
      "Perturbation: 87.32627450980398; Result: True\n",
      "Max value: 255.0\n",
      "Min value: 0.0\n",
      "Max perturbation: 58.65000000000006\n"
     ]
    }
   ],
   "source": [
    "index = 1\n",
    "x = np.expand_dims(X_test.iloc[index, :], axis=0)\n",
    "y = np.zeros(len(y_labels))\n",
    "y[9] = 1\n",
    "\n",
    "show_adversarial_sample(x, y_labels, true_class=y, model=lg, attack_model=AttackTIFGSM, max_norm=0.5, max_iters=100)"
   ]
  },
  {
   "cell_type": "code",
   "execution_count": 230,
   "metadata": {},
   "outputs": [
    {
     "data": {
      "image/png": "[encoded data removed]",
      "text/plain": [
       "<Figure size 1080x360 with 3 Axes>"
      ]
     },
     "metadata": {
      "needs_background": "light"
     },
     "output_type": "display_data"
    },
    {
     "data": {
      "image/png": "[encoded data removed]",
      "text/plain": [
       "<Figure size 432x288 with 1 Axes>"
      ]
     },
     "metadata": {
      "needs_background": "light"
     },
     "output_type": "display_data"
    },
    {
     "name": "stdout",
     "output_type": "stream",
     "text": [
      "Perturbation: 19.252156862745103; Result: True\n",
      "Max value: 255.0\n",
      "Min value: 0.0\n",
      "Max perturbation: 10.200000000000017\n"
     ]
    }
   ],
   "source": [
    "index = 123\n",
    "x = np.expand_dims(X_test.iloc[index, :], axis=0)\n",
    "y = np.zeros(len(y_labels))\n",
    "\n",
    "true_class = lg.predict(normalize(x))\n",
    "y[true_class] = 1\n",
    "\n",
    "show_adversarial_sample(x, y_labels, true_class=y, model=lg, attack_model=AttackMIFGSM, max_norm=1, max_iters=100)"
   ]
  },
  {
   "cell_type": "code",
   "execution_count": null,
   "metadata": {},
   "outputs": [],
   "source": [
    "y_real = np.array(y_test.iloc[:, 0])\n",
    "\n",
    "comp = pd.DataFrame({\"y_pred\": y_pred, \"y_real\": y_real})\n",
    "print(comp.head(20))"
   ]
  },
  {
   "cell_type": "code",
   "execution_count": null,
   "metadata": {},
   "outputs": [],
   "source": [
    "from sklearn.metrics import mean_squared_error\n",
    "from sklearn.metrics import mean_absolute_error\n",
    "from sklearn.metrics import r2_score\n",
    "rmse = mean_squared_error(y_real, y_pred, squared=True)\n",
    "mse = mean_squared_error(y_real, y_pred, squared=False)\n",
    "mae = mean_absolute_error(y_real, y_pred)\n",
    "r2 = r2_score(y_real, y_pred)\n",
    "accuracy = int(sum(y_real == y_pred) / len(y_pred) * 100)\n",
    "\n",
    "\n",
    "#print(f'Coefficients\\n {theta}')\n",
    "print(f'Root mean squared error: {rmse}')\n",
    "print(f'Mean squared error: {mse}')\n",
    "print(f'Mean absolute error: {mae}')\n",
    "print(f'Coefficient of determination: {r2}')\n",
    "print(f\"Accuracy: {accuracy}%\")"
   ]
  },
  {
   "cell_type": "code",
   "execution_count": null,
   "metadata": {},
   "outputs": [],
   "source": [
    "# import numpy as np\n",
    "# import matplotlib.pyplot as plt\n",
    "\n",
    "\n",
    "# # Example data\n",
    "# t = np.arange(0.0, 1.0 + 0.01, 0.01)\n",
    "# s = np.cos(4 * np.pi * t) + 2\n",
    "\n",
    "# plt.rc('text', usetex=True)\n",
    "# plt.rc('font', family='serif')\n",
    "# plt.plot(t, s)\n",
    "\n",
    "# plt.xlabel(r'\\textbf{time} (s)')\n",
    "# plt.ylabel(r'\\textit{voltage} (mV)',fontsize=16)\n",
    "# plt.title(r\"\\TeX\\ is Number \"\n",
    "#           r\"$\\displaystyle\\sum_{n=1}^\\infty\\frac{-e^{i\\pi}}{2^n}$!\",\n",
    "#           fontsize=16, color='gray')\n",
    "# # Make room for the ridiculously large title.\n",
    "# plt.subplots_adjust(top=0.8)\n",
    "\n",
    "# # plt.savefig('tex_demo')\n",
    "# # plt.show()"
   ]
  }
 ],
 "metadata": {
  "kernelspec": {
   "display_name": "Python 3.7.6 64-bit",
   "language": "python",
   "name": "python37664bit72af3e13b1864d0a85758af773701f9c"
  },
  "language_info": {
   "codemirror_mode": {
    "name": "ipython",
    "version": 3
   },
   "file_extension": ".py",
   "mimetype": "text/x-python",
   "name": "python",
   "nbconvert_exporter": "python",
   "pygments_lexer": "ipython3",
   "version": "3.7.6"
  }
 },
 "nbformat": 4,
 "nbformat_minor": 4
}
