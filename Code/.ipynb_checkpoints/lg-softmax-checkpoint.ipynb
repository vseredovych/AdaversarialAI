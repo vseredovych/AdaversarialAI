{
 "cells": [
  {
   "cell_type": "code",
   "execution_count": 1,
   "metadata": {},
   "outputs": [],
   "source": [
    "import numpy as np\n",
    "import pandas as pd\n",
    "import seaborn as sns\n",
    "\n",
    "from sklearn.model_selection import train_test_split\n",
    "from sklearn.metrics import mean_squared_error, r2_score\n",
    "\n",
    "import matplotlib.pyplot as plt\n",
    "%matplotlib inline"
   ]
  },
  {
   "cell_type": "code",
   "execution_count": 2,
   "metadata": {},
   "outputs": [],
   "source": [
    "def plot_J(J_history):\n",
    "    x = np.arange(0, len(J_history))\n",
    "    plt.plot(x, J_history)\n",
    "    plt.show()"
   ]
  },
  {
   "cell_type": "code",
   "execution_count": 3,
   "metadata": {},
   "outputs": [],
   "source": [
    "from sklearn.base import BaseEstimator, ClassifierMixin\n",
    "from sklearn.utils.validation import check_X_y, check_array, check_is_fitted\n",
    "from sklearn.utils.multiclass import unique_labels\n",
    "\n",
    "class LogisticRegression():\n",
    "    def __init__(self, normalize=True):\n",
    "        self.normalize = normalize\n",
    "        self.__mean = None\n",
    "        self.__std = None\n",
    "        \n",
    "    def fit(self, X_vert, Y_vert, alpha, num_iters, epsilon):\n",
    "        # X transformations\n",
    "        if self.normalize == True:\n",
    "            self.X_ = self.__normalize(X_vert)\n",
    "        else:\n",
    "            self.X_ = X_vert\n",
    "        self.X_ = self.X_.T\n",
    " \n",
    "        # Y transformations\n",
    "        self.Y_ = Y_vert.T\n",
    "\n",
    "        self.W = np.full(( self.X_.shape[0],self.Y_.shape[0]),0.01)\n",
    "        self.b = 0.0\n",
    "        self.W, self.b, self.Js = self.__gradient_descent(self.X_, self.Y_, self.W, self.b, alpha, num_iters, epsilon)\n",
    "\n",
    "    def predict(self, X):\n",
    "        # Check is fit had been called\n",
    "        check_is_fitted(self)\n",
    "        # Input validation\n",
    "        X = check_array(X)\n",
    "\n",
    "        if self.normalize:\n",
    "            X_norm = (X - self.__mean) / self.__std\n",
    "            z = self.__stable_softmax(np.dot(self.W.T,X_norm.T)+self.b)\n",
    "        else:\n",
    "            z = self.__stable_softmax(np.dot(self.W.T,X.T)+self.b)\n",
    "    \n",
    "        y_pred = np.zeros(z.shape[1], dtype=int)\n",
    "        for i in range(z.shape[1]):\n",
    "            y_pred[i] = np.argmax(z[:, i])    \n",
    "        \n",
    "        return y_pred\n",
    "\n",
    "    def predict_by_labels(self, X, y_labels):\n",
    "        # Check is fit had been called\n",
    "        check_is_fitted(self)\n",
    "        # Input validation\n",
    "        X = check_array(X)\n",
    "        \n",
    "        if self.normalize:\n",
    "            X_norm = (X - self.__mean) / self.__std\n",
    "            z = self.__stable_softmax(np.dot(self.W.T,X_norm.T)+self.b)\n",
    "        else:\n",
    "            z = self.__stable_softmax(np.dot(self.W.T,X.T)+self.b)\n",
    "            \n",
    "        y_pred = np.full((z.shape[1]), {})\n",
    "        for i in range(z.shape[1]):\n",
    "            y_pred[i] = { y_labels[j]: z[j][i] for j in range(z.shape[0])}\n",
    "        return y_pred\n",
    "            \n",
    "    def get_cost_history(self):\n",
    "        check_is_fitted(self)\n",
    "        return self.Js\n",
    "\n",
    "    def __normalize(self, X):\n",
    "        if self.__mean is None and self.__std is None:\n",
    "            mean = np.zeros([X.shape[1]])\n",
    "            std  = np.ones([X.shape[1]])\n",
    "            \n",
    "            for i in range(X.shape[1]):\n",
    "                if (np.std(X.iloc[:, i]) != 0):\n",
    "                    mean[i] = np.mean(X.iloc[:, i])\n",
    "                    std[i] = np.std(X.iloc[:, i])\n",
    "            \n",
    "            self.__mean = mean\n",
    "            self.__std = std\n",
    "\n",
    "        X_new = (X - self.__mean) / self.__std\n",
    "        return X_new\n",
    "\n",
    "    def __cost_function(self, X, Y, A):\n",
    "        m = X.shape[0]\n",
    "        if m == 0:\n",
    "            return None\n",
    "        \n",
    "        J = (1 / m) * np.sum(-Y * np.log(A) - (1 - Y) * np.log(1 - A))\n",
    "        return J\n",
    "\n",
    "    def __cross_entropy(self, X, Y, A):\n",
    "        m = X.shape[0]\n",
    "        if m == 0:\n",
    "            return None\n",
    "        \n",
    "        J = (-1 / m) * np.sum(Y.T * np.log(A.T))\n",
    "        return J\n",
    "    \n",
    "    def __sigmoid(self, z):\n",
    "        return 1 / (1 + np.exp(-z))\n",
    "    \n",
    "    def __softmax(self, z):\n",
    "        exps = np.exp(z)\n",
    "        return exps / exps.sum(axis=0, keepdims=True)\n",
    "\n",
    "    def __stable_softmax(self, z):\n",
    "        exps = np.exp(z - np.max(z))\n",
    "        return exps / exps.sum(axis=0, keepdims=True)\n",
    "\n",
    "    def __forward_backward_propagation(self, X, Y, W, b):        \n",
    "        # forward propagation\n",
    "        m = X.shape[1]\n",
    "\n",
    "        z = np.dot(W.T,X) + b\n",
    "        A = self.__stable_softmax(z)\n",
    "        cost = self.__cross_entropy(X, Y, A)\n",
    "\n",
    "        # backward propagation\n",
    "        dz = A - Y\n",
    "        derivative_weights = (1 / m) * np.dot(X, dz.T)\n",
    "        derivative_bias = (1 / m) * np.sum(dz)\n",
    "\n",
    "        return cost, derivative_weights, derivative_bias\n",
    "\n",
    "    def __gradient_descent(self, X, Y, W, b, alpha, num_iters, epsilon):        \n",
    "        # num of samples\n",
    "        m = X.shape[0]\n",
    "        # num of features\n",
    "        n = X.shape[1]\n",
    "\n",
    "        J_history = []\n",
    "\n",
    "        for i in range(num_iters):\n",
    "            J, delta_weights, delta_bias = self.__forward_backward_propagation(X, Y, W, b)\n",
    "\n",
    "            W = W - alpha * delta_weights\n",
    "            b = b - alpha * delta_bias\n",
    "\n",
    "            if i % 100 == 0:\n",
    "                print(f\"{i} iteration: {J}\")\n",
    "\n",
    "            J_history.append(J)\n",
    "\n",
    "        return W, b, J_history"
   ]
  },
  {
   "cell_type": "code",
   "execution_count": 4,
   "metadata": {},
   "outputs": [],
   "source": [
    "from sklearn.base import BaseEstimator, ClassifierMixin\n",
    "from sklearn.utils.validation import check_X_y, check_array, check_is_fitted\n",
    "from sklearn.utils.multiclass import unique_labels\n",
    "\n",
    "class AttackFGSM():\n",
    "    # Fast Gradient Sign Method Attack\n",
    "    def __init__(self, normalize=False):\n",
    "        self.goal_assurance_history = []\n",
    "        self.__std = None\n",
    "        self.__mean = None\n",
    "\n",
    "    def fit(self, X_vert, W, b, Y_vert, alpha, max_iters, predict_func):\n",
    "        # Check that X and y have correct shape        \n",
    "        self.num_iters = 0\n",
    "        self.max_iters = max_iters\n",
    "        \n",
    "        self.W = W\n",
    "        self.b = b\n",
    "\n",
    "        self.Y_ = np.expand_dims(Y_vert.T, axis=1)\n",
    "        self.X_ = X_vert.T\n",
    "        \n",
    "        self.X_ = self.__gradient_descent(self.X_, self.Y_, self.W, self.b, alpha, predict_func)    \n",
    "            \n",
    "    # def get_adversarial_X(self):\n",
    "    #     if (not self.std is None) and (not self.mean is None):\n",
    "    #         return (self.X_ * self.std) + self.mean\n",
    "\n",
    "    def __cross_entropy(self, X, Y, A):\n",
    "        m = X.shape[0]\n",
    "        if m == 0:\n",
    "            return None\n",
    "        \n",
    "        J = (-1 / m) * np.sum(Y.T * np.log(A.T))\n",
    "        return J\n",
    "    \n",
    "    def __softmax(self, z):\n",
    "        exp_z = np.exp(z)\n",
    "        return exp_z / exp_z.sum(axis=0, keepdims=True)\n",
    "    \n",
    "    def __stable_softmax(self, z):\n",
    "        exps = np.exp(z - np.max(z))\n",
    "        return exps / exps.sum(axis=0, keepdims=True)\n",
    "    \n",
    "    def __forward_backward_propagation(self, X, Y, W, b):        \n",
    "        # forward propagation\n",
    "        m = X.shape[1]\n",
    "        z = np.dot(W.T,X) + b\n",
    "        A = self.__stable_softmax(z)\n",
    "\n",
    "        # backward propagation\n",
    "        dz = A - Y\n",
    "        derivative_x = (1 / m) * np.dot(W, dz)\n",
    "        return derivative_x\n",
    "\n",
    "    def __is_tricked(self, X, Y, predict_func):\n",
    "        # goal class position\n",
    "        for i in range(Y.shape[1]):\n",
    "            goal_pos = np.argmax(Y[:, i] != 0)\n",
    "            if (predict_func(np.array(X))[i] != goal_pos):\n",
    "                return False\n",
    "        return True\n",
    "\n",
    "    def __gradient_descent(self, X, Y, W, b, alpha, predict_func):        \n",
    "        # num of samples\n",
    "        m = X.shape[0]\n",
    "        # num of features\n",
    "        n = X.shape[1]\n",
    "        \n",
    "        while (not self.__is_tricked(X.T, Y, predict_func)) and (self.num_iters < self.max_iters):\n",
    "            delta_x = self.__forward_backward_propagation(X, Y, W, b)\n",
    "            X = X - alpha * np.sign(delta_x)\n",
    "            \n",
    "            self.num_iters += 1       \n",
    "        \n",
    "        if self.__is_tricked(X.T, Y, predict_func) == True:\n",
    "            self.tricked = True\n",
    "        else:\n",
    "            self.tricked = False\n",
    "            \n",
    "        X_vert = X.T\n",
    "        return X_vert"
   ]
  },
  {
   "cell_type": "code",
   "execution_count": 5,
   "metadata": {},
   "outputs": [
    {
     "name": "stdout",
     "output_type": "stream",
     "text": [
      "Dataset: X=(42000, 784), y=(42000, 1)\n"
     ]
    }
   ],
   "source": [
    "filename_test = \"./digit-recognizer/test.csv\"\n",
    "filename_train = \"./digit-recognizer/train.csv\"\n",
    "\n",
    "df_train = pd.read_csv(filename_train, delimiter=',')\n",
    "df_test = pd.read_csv(filename_test, delimiter=',')\n",
    "\n",
    "X = df_train.loc[:, df_train.columns != \"label\"]\n",
    "y = df_train.loc[:, df_train.columns == \"label\"]\n",
    "print('Dataset: X={}, y={}'.format(X.shape, y.shape))"
   ]
  },
  {
   "cell_type": "code",
   "execution_count": 6,
   "metadata": {},
   "outputs": [
    {
     "name": "stdout",
     "output_type": "stream",
     "text": [
      "Training set: X=(33600, 784), y=(33600, 1)\n",
      "Test set: X=(8400, 784), y=(8400, 1)\n"
     ]
    }
   ],
   "source": [
    "X_train, X_test, y_train, y_test = train_test_split(X, y, test_size = 0.2, shuffle = True, stratify = y)\n",
    "\n",
    "print('Training set: X={}, y={}'.format(X_train.shape, y_train.shape))\n",
    "print('Test set: X={}, y={}'.format(X_test.shape, y_test.shape))"
   ]
  },
  {
   "cell_type": "code",
   "execution_count": 7,
   "metadata": {},
   "outputs": [
    {
     "data": {
      "image/png": "[encoded data removed]",
      "text/plain": [
       "<Figure size 432x288 with 1 Axes>"
      ]
     },
     "metadata": {
      "needs_background": "light"
     },
     "output_type": "display_data"
    }
   ],
   "source": [
    "X_t =  X_train.values.reshape(-1,28,28,1)\n",
    "g = plt.imshow(X_t[0][:, :, 0], 'gray')"
   ]
  },
  {
   "cell_type": "code",
   "execution_count": 8,
   "metadata": {},
   "outputs": [],
   "source": [
    "from sklearn.preprocessing import OneHotEncoder\n",
    "encoder = OneHotEncoder()\n",
    "encoder.fit(y_train)\n",
    "\n",
    "Y_train = encoder.transform(y_train).toarray()\n",
    "y_labels = [x[3:] for x in  encoder.get_feature_names()]\n",
    "\n",
    "# encoder.fit(y_test)\n",
    "# Y_test = encoder.transform(y_test).toarray()"
   ]
  },
  {
   "cell_type": "code",
   "execution_count": 9,
   "metadata": {
    "scrolled": true
   },
   "outputs": [
    {
     "name": "stdout",
     "output_type": "stream",
     "text": [
      "0 iteration: 98.68221827117335\n",
      "100 iteration: 10.688936518955721\n",
      "200 iteration: 9.998802861076937\n",
      "300 iteration: 9.62179833554795\n",
      "400 iteration: 9.362880707138611\n",
      "500 iteration: 9.166391610808168\n",
      "600 iteration: 9.008586117167606\n",
      "700 iteration: 8.877094080529796\n",
      "800 iteration: 8.764647965579746\n",
      "900 iteration: 8.666620198923805\n",
      "1000 iteration: 8.579886788199373\n",
      "1100 iteration: 8.502238774061494\n",
      "1200 iteration: 8.432055237931214\n",
      "1300 iteration: 8.368111041373458\n",
      "1400 iteration: 8.309457796532485\n",
      "1500 iteration: 8.255346660961308\n",
      "1600 iteration: 8.205176224456478\n",
      "1700 iteration: 8.158456231400896\n",
      "1800 iteration: 8.114781764671951\n",
      "1900 iteration: 8.073814523427995\n",
      "2000 iteration: 8.035268959528246\n",
      "2100 iteration: 7.998901817519926\n",
      "2200 iteration: 7.964504141161306\n",
      "2300 iteration: 7.931895102358432\n",
      "2400 iteration: 7.9009171832401375\n",
      "2500 iteration: 7.87143236730745\n",
      "2600 iteration: 7.843319089858346\n",
      "2700 iteration: 7.816469766765384\n",
      "2800 iteration: 7.790788769702376\n",
      "2900 iteration: 7.766190750478387\n",
      "3000 iteration: 7.742599241571299\n",
      "3100 iteration: 7.719945477517074\n",
      "3200 iteration: 7.698167394956044\n",
      "3300 iteration: 7.677208779585653\n",
      "3400 iteration: 7.657018536855841\n",
      "3500 iteration: 7.6375500698133205\n",
      "3600 iteration: 7.618760751310503\n",
      "3700 iteration: 7.600611478560233\n",
      "3800 iteration: 7.5830662968569555\n",
      "3900 iteration: 7.566092078413997\n",
      "4000 iteration: 7.549658243422738\n",
      "4100 iteration: 7.53373651360939\n",
      "4200 iteration: 7.51830069231474\n",
      "4300 iteration: 7.503326467982775\n",
      "4400 iteration: 7.488791239364338\n",
      "4500 iteration: 7.4746739610278965\n",
      "4600 iteration: 7.460955007519319\n",
      "4700 iteration: 7.447616054191469\n",
      "4800 iteration: 7.434639972544223\n",
      "4900 iteration: 7.422010737906763\n",
      "5000 iteration: 7.409713347402405\n",
      "5100 iteration: 7.397733746292937\n",
      "5200 iteration: 7.38605876094965\n",
      "5300 iteration: 7.374676036813463\n",
      "5400 iteration: 7.363573979786264\n",
      "5500 iteration: 7.352741699570188\n",
      "5600 iteration: 7.342168953603284\n",
      "5700 iteration: 7.331846090517163\n",
      "5800 iteration: 7.321763992560853\n",
      "5900 iteration: 7.311914017253291\n",
      "6000 iteration: 7.302287939603441\n",
      "6100 iteration: 7.292877897366455\n",
      "6200 iteration: 7.2836763426183415\n",
      "6300 iteration: 7.2746760030020265\n",
      "6400 iteration: 7.2658698550561525\n",
      "6500 iteration: 7.257251110195113\n",
      "6600 iteration: 7.248813211704674\n",
      "6700 iteration: 7.240549839312245\n",
      "6800 iteration: 7.23245491708502\n",
      "6900 iteration: 7.2245226207554305\n",
      "7000 iteration: 7.216747381755886\n",
      "7100 iteration: 7.209123886716199\n",
      "7200 iteration: 7.2016470724476624\n",
      "7300 iteration: 7.194312117249034\n",
      "7400 iteration: 7.187114429701917\n",
      "7500 iteration: 7.1800496360998025\n",
      "7600 iteration: 7.173113567439265\n",
      "7700 iteration: 7.166302246626531\n",
      "7800 iteration: 7.159611876299127\n",
      "7900 iteration: 7.153038827465775\n",
      "8000 iteration: 7.146579629032913\n",
      "8100 iteration: 7.140230958204247\n",
      "8200 iteration: 7.133989631695574\n",
      "8300 iteration: 7.127852597688491\n",
      "8400 iteration: 7.121816928442874\n",
      "8500 iteration: 7.115879813492459\n",
      "8600 iteration: 7.110038553355725\n",
      "8700 iteration: 7.104290553703492\n",
      "8800 iteration: 7.098633319933462\n",
      "8900 iteration: 7.0930644521098225\n",
      "9000 iteration: 7.087581640232927\n",
      "9100 iteration: 7.082182659809627\n",
      "9200 iteration: 7.076865367699485\n",
      "9300 iteration: 7.0716276982156305\n",
      "9400 iteration: 7.066467659461562\n",
      "9500 iteration: 7.061383329887324\n",
      "9600 iteration: 7.056372855049665\n",
      "9700 iteration: 7.051434444561686\n",
      "9800 iteration: 7.046566369218299\n",
      "9900 iteration: 7.041766958284372\n"
     ]
    },
    {
     "data": {
      "image/png": "[encoded data removed]",
      "text/plain": [
       "<Figure size 432x288 with 1 Axes>"
      ]
     },
     "metadata": {
      "needs_background": "light"
     },
     "output_type": "display_data"
    },
    {
     "name": "stdout",
     "output_type": "stream",
     "text": [
      "7.037081593821141\n"
     ]
    }
   ],
   "source": [
    "lg = LogisticRegression(normalize=True)\n",
    "lg.fit(X_train, Y_train, 1, 10000, 1e-20)\n",
    "\n",
    "plot_J(lg.get_cost_history())\n",
    "print(lg.get_cost_history()[-1])"
   ]
  },
  {
   "cell_type": "code",
   "execution_count": 10,
   "metadata": {},
   "outputs": [
    {
     "data": {
      "text/plain": [
       "array([2, 4, 7, ..., 9, 5, 4])"
      ]
     },
     "execution_count": 10,
     "metadata": {},
     "output_type": "execute_result"
    }
   ],
   "source": [
    "y_pred = lg.predict(X_test)\n",
    "y_pred"
   ]
  },
  {
   "cell_type": "code",
   "execution_count": 48,
   "metadata": {},
   "outputs": [],
   "source": [
    "from matplotlib import rc\n",
    "def show_adversarial_sample(x, y_labels, alpha, goal=[], model=lg):\n",
    "    attack = AttackFGSM()\n",
    "    attack.fit(x, lg.W, lg.b, goal, alpha, 10, lg.predict)\n",
    "    adv_pred = lg.predict(np.array( attack.X_))\n",
    "\n",
    "    fig, (ax1, ax2, ax3) = plt.subplots(1, 3, squeeze=True, sharex=True, sharey=True)\n",
    "    fig.set_size_inches(15,5)\n",
    "    fig.suptitle('Adversarial example')\n",
    "    \n",
    "    ax1.imshow(x.reshape(28,28), 'gray')\n",
    "    ax1.set_title(f\"Original\\n prediction: {lg.predict(x)[0]}\")\n",
    "    \n",
    "    ax2.imshow(x.reshape(28,28) - attack.X_.reshape(28,28), \"gray\")\n",
    "    ax2.set_title(f\"Difference\")\n",
    "    \n",
    "    ax3.imshow(attack.X_.reshape(28,28), 'gray')\n",
    "    ax3.set_title(f\"Adversarial\\n prediction: {adv_pred[0]}\")\n",
    "\n",
    "    plt.show()\n",
    "\n",
    "    pred_full = lg.predict_by_labels(np.array( attack.X_), y_labels)\n",
    "    plt.bar(pred_full[0].keys(), pred_full[0].values())\n",
    "    plot_J(attack.goal_assurance_history)\n",
    "    plt.show()\n",
    "    print(f\"Iterations: {attack.num_iters}; alpha: {alpha};\")"
   ]
  },
  {
   "cell_type": "code",
   "execution_count": 14,
   "metadata": {},
   "outputs": [],
   "source": [
    "def get_trick_iteration(x, y_labels, num_iter, alpha, goal=[], model=lg):\n",
    "    attack = AttackFGSM()\n",
    "    attack.fit(x, lg.W, lg.b, goal, alpha, num_iter, lg.predict)\n",
    "    adv_pred = lg.predict(np.array( attack.X_))\n",
    "    return attack.num_iters, attack.tricked"
   ]
  },
  {
   "cell_type": "code",
   "execution_count": 15,
   "metadata": {},
   "outputs": [],
   "source": [
    "n = len(y_labels)"
   ]
  },
  {
   "cell_type": "code",
   "execution_count": null,
   "metadata": {},
   "outputs": [
    {
     "data": {
      "text/plain": [
       "<matplotlib.legend.Legend at 0x1b39d79fc48>"
      ]
     },
     "execution_count": 55,
     "metadata": {},
     "output_type": "execute_result"
    }
   ],
   "source": [
    "# num = 0\n",
    "# den = 0\n",
    "# iter_res_dict = {}\n",
    "# y = np.zeros(n)\n",
    "\n",
    "\n",
    "\n",
    "# for i in range(1000):\n",
    "#     x = np.expand_dims(X_test.iloc[i, :], axis=0)\n",
    "#     for j in range(len(y_labels)):\n",
    "#         y = np.zeros(n)\n",
    "#         y[j] = 1\n",
    "#         for k in range(10):\n",
    "#             iters, result  = get_trick_iteration(x, y_labels, k, 1, goal=y, model=lg)\n",
    "#             if iters in iter_res_dict.keys():\n",
    "#                 iter_res_dict[iters][\"appearance_count\"] += 1 \n",
    "#                 iter_res_dict[iters][\"success_count\"] += result\n",
    "\n",
    "#             else:\n",
    "#                 iter_res_dict.update({iters: {\"appearance_count\": 1, \"success_count\": result} })\n",
    "    \n",
    "success_rate = {}\n",
    "for key, value in iter_res_dict.items():\n",
    "    success_rate[key] = value[\"success_count\"] / value[\"appearance_count\"] * 100\n",
    "        \n",
    "#print(num / den)\n",
    "#print(iter_res_dict)\n",
    "#print(success_rate)\n",
    "\n",
    "line1, = plt.plot(list(success_rate.keys()), list(success_rate.values()), linestyle='-', linewidth=1, color='blue', label='I-FGSM')\n",
    "plt.legend(loc=\"upper right\")\n"
   ]
  },
  {
   "cell_type": "code",
   "execution_count": 46,
   "metadata": {},
   "outputs": [
    {
     "data": {
      "image/png": "[encoded data removed]",
      "text/plain": [
       "<Figure size 1080x360 with 3 Axes>"
      ]
     },
     "metadata": {
      "needs_background": "light"
     },
     "output_type": "display_data"
    },
    {
     "data": {
      "image/png": "[encoded data removed]",
      "text/plain": [
       "<Figure size 432x288 with 1 Axes>"
      ]
     },
     "metadata": {
      "needs_background": "light"
     },
     "output_type": "display_data"
    },
    {
     "name": "stdout",
     "output_type": "stream",
     "text": [
      "Iterations: 1; alpha: 1;\n"
     ]
    }
   ],
   "source": [
    "y = np.zeros(n)\n",
    "y[1] = 1\n",
    "index = 50\n",
    "x = np.expand_dims(X_test.iloc[index, :], axis=0)\n",
    "\n",
    "show_adversarial_sample(x, y_labels, 1, goal=y, model=lg)"
   ]
  },
  {
   "cell_type": "code",
   "execution_count": 43,
   "metadata": {},
   "outputs": [
    {
     "data": {
      "image/png": "[encoded data removed]",
      "text/plain": [
       "<Figure size 1080x360 with 3 Axes>"
      ]
     },
     "metadata": {
      "needs_background": "light"
     },
     "output_type": "display_data"
    },
    {
     "data": {
      "image/png": "[encoded data removed]",
      "text/plain": [
       "<Figure size 432x288 with 1 Axes>"
      ]
     },
     "metadata": {
      "needs_background": "light"
     },
     "output_type": "display_data"
    },
    {
     "name": "stdout",
     "output_type": "stream",
     "text": [
      "Iterations: 3; alpha: 0.1;\n"
     ]
    }
   ],
   "source": [
    "y = np.zeros(n)\n",
    "y[5] = 1\n",
    "index = 4\n",
    "x = np.expand_dims(X_test.iloc[index, :], axis=0)\n",
    "\n",
    "show_adversarial_sample(x, y_labels, 0.1, goal=y, model=lg)"
   ]
  },
  {
   "cell_type": "code",
   "execution_count": 44,
   "metadata": {},
   "outputs": [
    {
     "name": "stdout",
     "output_type": "stream",
     "text": [
      "    y_pred  y_real\n",
      "0        2       2\n",
      "1        4       4\n",
      "2        7       7\n",
      "3        6       6\n",
      "4        4       4\n",
      "5        0       0\n",
      "6        1       1\n",
      "7        7       7\n",
      "8        2       2\n",
      "9        5       3\n",
      "10       3       3\n",
      "11       6       6\n",
      "12       1       1\n",
      "13       3       3\n",
      "14       9       9\n",
      "15       0       0\n",
      "16       2       2\n",
      "17       4       4\n",
      "18       4       4\n",
      "19       1       1\n"
     ]
    }
   ],
   "source": [
    "y_real = np.array(y_test.iloc[:, 0])\n",
    "\n",
    "comp = pd.DataFrame({\"y_pred\": y_pred, \"y_real\": y_real})\n",
    "print(comp.head(20))"
   ]
  },
  {
   "cell_type": "code",
   "execution_count": 45,
   "metadata": {},
   "outputs": [
    {
     "name": "stdout",
     "output_type": "stream",
     "text": [
      "Root mean squared error: 1.4727380952380953\n",
      "Mean squared error: 1.2135642114194434\n",
      "Mean absolute error: 0.31535714285714284\n",
      "Coefficient of determination: 0.8233939715299587\n",
      "Accuracy: 90%\n"
     ]
    }
   ],
   "source": [
    "from sklearn.metrics import mean_squared_error\n",
    "from sklearn.metrics import mean_absolute_error\n",
    "from sklearn.metrics import r2_score\n",
    "rmse = mean_squared_error(y_real, y_pred, squared=True)\n",
    "mse = mean_squared_error(y_real, y_pred, squared=False)\n",
    "mae = mean_absolute_error(y_real, y_pred)\n",
    "r2 = r2_score(y_real, y_pred)\n",
    "accuracy = int(sum(y_real == y_pred) / len(y_pred) * 100)\n",
    "\n",
    "\n",
    "#print(f'Coefficients\\n {theta}')\n",
    "print(f'Root mean squared error: {rmse}')\n",
    "print(f'Mean squared error: {mse}')\n",
    "print(f'Mean absolute error: {mae}')\n",
    "print(f'Coefficient of determination: {r2}')\n",
    "print(f\"Accuracy: {accuracy}%\")"
   ]
  }
 ],
 "metadata": {
  "kernelspec": {
   "display_name": "Python 3.7.6 64-bit",
   "language": "python",
   "name": "python37664bit94de08a6a54140b58f4cf3fb298ac5a9"
  },
  "language_info": {
   "codemirror_mode": {
    "name": "ipython",
    "version": 3
   },
   "file_extension": ".py",
   "mimetype": "text/x-python",
   "name": "python",
   "nbconvert_exporter": "python",
   "pygments_lexer": "ipython3",
   "version": "3.7.6"
  }
 },
 "nbformat": 4,
 "nbformat_minor": 4
}
