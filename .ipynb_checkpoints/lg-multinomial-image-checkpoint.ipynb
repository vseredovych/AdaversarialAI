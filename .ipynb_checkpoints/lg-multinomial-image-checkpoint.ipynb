{
 "cells": [
  {
   "cell_type": "code",
   "execution_count": 1,
   "metadata": {},
   "outputs": [],
   "source": [
    "import numpy as np\n",
    "import pandas as pd\n",
    "import seaborn as sns\n",
    "\n",
    "from sklearn.model_selection import train_test_split\n",
    "from sklearn.metrics import mean_squared_error, r2_score\n",
    "\n",
    "import matplotlib.pyplot as plt\n",
    "%matplotlib inline"
   ]
  },
  {
   "cell_type": "code",
   "execution_count": 2,
   "metadata": {},
   "outputs": [],
   "source": [
    "def plot_J(J_history):\n",
    "    x = np.arange(0, len(J_history))\n",
    "    plt.plot(x, J_history)\n",
    "    plt.show()"
   ]
  },
  {
   "cell_type": "code",
   "execution_count": 3,
   "metadata": {},
   "outputs": [],
   "source": [
    "from sklearn.base import BaseEstimator, ClassifierMixin\n",
    "from sklearn.utils.validation import check_X_y, check_array, check_is_fitted\n",
    "from sklearn.utils.multiclass import unique_labels\n",
    "from sklearn.preprocessing import OneHotEncoder\n",
    "\n",
    "class LogisticRegression(BaseEstimator, ClassifierMixin):\n",
    "    def __init__(self, normalize=True):\n",
    "        self.is_normalize = normalize\n",
    "\n",
    "    def fit(self, X, y, alpha, num_iters, epsilon):\n",
    "\n",
    "        # X transformations\n",
    "        if self.is_normalize == True:\n",
    "            self.X_, self.mean, self.std = self._normalize(X)\n",
    "        else:\n",
    "            self.X_ = X\n",
    "        self.X_ = self.X_.T\n",
    " \n",
    "        # Y transformations\n",
    "        encoder = OneHotEncoder()\n",
    "        encoder.fit(y)\n",
    "        Y = encoder.transform(y).toarray()\n",
    "        self.y_labels = [x[3:] for x in  encoder.get_feature_names()]\n",
    "        self.y_ = Y.T\n",
    "\n",
    "        self.w = np.full(( self.X_.shape[0],1),0.0)\n",
    "        self.b = 0.0\n",
    "        self.w, self.b, self.Js = self._gradient_descent(self.X_, self.y_, self.w, self.b, alpha, num_iters, epsilon, False)\n",
    "        self.coef_ = self.w\n",
    "\n",
    "    def predict(self, X, full_output=False):\n",
    "        # Check is fit had been called\n",
    "        check_is_fitted(self)\n",
    "        # Input validation\n",
    "        X = check_array(X)\n",
    "\n",
    "        if self.is_normalize:\n",
    "            X_norm = (X - self.mean) / self.std\n",
    "            z = self._sigmoid(np.dot(self.w.T,X_norm.T)+self.b)\n",
    "        else:\n",
    "            z = self._sigmoid(np.dot(self.w.T,X.T)+self.b)\n",
    "    \n",
    "        if full_output == True:\n",
    "            y_pred = np.full((z.shape[1]), {})\n",
    "            for i in range(z.shape[1]):\n",
    "                y_pred[i] = { self.y_labels[j]: z[j][i] for j in range(z.shape[0])}\n",
    "        else:\n",
    "            y_pred = np.zeros(z.shape[1], dtype=int)\n",
    "            for i in range(z.shape[1]):\n",
    "                y_pred[i] = np.argmax(z[:, i])\n",
    "        return y_pred\n",
    "\n",
    "    def get_cost_history(self):\n",
    "        check_is_fitted(self)\n",
    "        return self.Js\n",
    "\n",
    "    def _normalize(self, X):\n",
    "        mean = np.zeros([X.shape[1]])\n",
    "        std  = np.ones([X.shape[1]])\n",
    "        \n",
    "        for i in range(X.shape[1]):\n",
    "            if (np.std(X.iloc[:, i]) != 0):\n",
    "                mean[i] = np.mean(X.iloc[:, i])\n",
    "                std[i] = np.std(X.iloc[:, i])\n",
    "        X_new = (X - mean) / std\n",
    "        return X_new, mean, std\n",
    "\n",
    "    def _cost_function(self, X, Y, A):\n",
    "        m = X.shape[0]\n",
    "        if m == 0:\n",
    "            return None\n",
    "\n",
    "        J = (1 / m) * np.sum(-Y * np.log(A) - (1 - Y) * np.log(1 - A))\n",
    "        return J\n",
    "\n",
    "    def _sigmoid(self, z):\n",
    "        return 1 / (1 + np.exp(-z))\n",
    "\n",
    "    def _forward_backward_propagation(self, X, Y, w, b):        \n",
    "        # forward propagation\n",
    "        m = X.shape[1]\n",
    "\n",
    "        z = np.dot(w.T,X) + b\n",
    "        A = self._sigmoid(z)\n",
    "        cost = self._cost_function(X, Y, A)\n",
    "\n",
    "        # backward propagation\n",
    "        dz = A - Y\n",
    "        derivative_weights = (1 / m) * np.dot(X, dz.T)\n",
    "        derivative_bias = (1 / m) * np.sum(dz)\n",
    "\n",
    "        return cost, derivative_weights, derivative_bias\n",
    "\n",
    "    def _gradient_descent(self, X, Y, w, b, alpha, num_iters, epsilon, print_J=False):        \n",
    "        # num of samples\n",
    "        m = X.shape[0]\n",
    "        # num of features\n",
    "        n = X.shape[1]\n",
    "\n",
    "        J_history = []\n",
    "\n",
    "        for i in range(num_iters):\n",
    "            J, delta_weights, delta_bias = self._forward_backward_propagation(X, Y, w, b)\n",
    "\n",
    "            w = w - alpha * delta_weights\n",
    "            b = b - alpha * delta_bias\n",
    "\n",
    "            if print_J == True and i % 100 == 0:\n",
    "                print(J)\n",
    "\n",
    "            J_history.append(J)\n",
    "\n",
    "        return w, b, J_history"
   ]
  },
  {
   "cell_type": "code",
   "execution_count": 4,
   "metadata": {},
   "outputs": [],
   "source": [
    "from sklearn.base import BaseEstimator, ClassifierMixin\n",
    "from sklearn.utils.validation import check_X_y, check_array, check_is_fitted\n",
    "from sklearn.utils.multiclass import unique_labels\n",
    "\n",
    "class AttackFGSM():\n",
    "    # Fast Gradient Sign Method Attack\n",
    "    def __init__(self, normalize=False):\n",
    "        self.goal_assurance_history = []\n",
    "\n",
    "    def fit(self, X, w, b, y, alpha, max_iters, predict_func):\n",
    "        # Check that X and y have correct shape\n",
    "        self.w = w\n",
    "        self.b = b\n",
    "\n",
    "        self.y_ = np.expand_dims(y.T, axis=1)\n",
    "        self.X_ = X.T\n",
    "      \n",
    "        self.num_iters = 0\n",
    "        self.X_ = self._gradient_descent(self.X_, self.y_, self.w, self.b, alpha, max_iters, predict_func)\n",
    "\n",
    "    def _cost_function(self, X, Y, A):\n",
    "        m = X.shape[0]\n",
    "        if m == 0:\n",
    "            return None\n",
    "\n",
    "        J = (1 / m) * np.sum(-Y * np.log(A) - (1 - Y) * np.log(1 - A))\n",
    "        return J\n",
    "\n",
    "    def _sigmoid(self, z):\n",
    "        return 1 / (1 + np.exp(-z))\n",
    "\n",
    "    def _forward_backward_propagation(self, X, Y, w, b):        \n",
    "        # forward propagation\n",
    "        m = X.shape[1]\n",
    "        z = np.dot(w.T,X) + b\n",
    "        A = self._sigmoid(z)\n",
    "\n",
    "        # backward propagation\n",
    "        dz = A - Y\n",
    "        \n",
    "        derivative_x = (1 / m) * np.dot(w, dz)\n",
    "        return derivative_x\n",
    "\n",
    "    def _is_tricked(self, X, Y, predict_func):\n",
    "        # goal class position\n",
    "        for i in range(Y.shape[1]):\n",
    "            goal_pos = np.argmax(Y[:, i] != 0)\n",
    "            if (predict_func(np.array(X))[i] != goal_pos):\n",
    "                return False\n",
    "        return True\n",
    "\n",
    "    def _gradient_descent(self, X, Y, w, b, alpha, max_iters, predict_func):        \n",
    "        # num of samples\n",
    "        m = X.shape[0]\n",
    "        # num of features\n",
    "        n = X.shape[1]\n",
    "        \n",
    "        while (not self._is_tricked(X.T, Y, predict_func)) and (self.num_iters <= max_iters):\n",
    "            delta_x = self._forward_backward_propagation(X, Y, w, b)\n",
    "\n",
    "            X = X - alpha * np.sign(delta_x)\n",
    "            self.num_iters += 1       \n",
    "\n",
    "        # Antitranspose before return\n",
    "        return X.T"
   ]
  },
  {
   "cell_type": "code",
   "execution_count": 5,
   "metadata": {},
   "outputs": [
    {
     "name": "stdout",
     "output_type": "stream",
     "text": [
      "Dataset: X=(42000, 784), y=(42000, 1)\n"
     ]
    }
   ],
   "source": [
    "filename_test = \"./digit-recognizer/test.csv\"\n",
    "filename_train = \"./digit-recognizer/train.csv\"\n",
    "\n",
    "df_train = pd.read_csv(filename_train, delimiter=',')\n",
    "df_test = pd.read_csv(filename_test, delimiter=',')\n",
    "\n",
    "X = df_train.loc[:, df_train.columns != \"label\"]\n",
    "y = df_train.loc[:, df_train.columns == \"label\"]\n",
    "print('Dataset: X={}, y={}'.format(X.shape, y.shape))"
   ]
  },
  {
   "cell_type": "code",
   "execution_count": 6,
   "metadata": {},
   "outputs": [
    {
     "name": "stdout",
     "output_type": "stream",
     "text": [
      "Training set: X=(33600, 784), y=(33600, 1)\n",
      "Test set: X=(8400, 784), y=(8400, 1)\n"
     ]
    }
   ],
   "source": [
    "X_train, X_test, y_train, y_test = train_test_split(X, y, test_size = 0.2, shuffle = True, stratify = y)\n",
    "\n",
    "print('Training set: X={}, y={}'.format(X_train.shape, y_train.shape))\n",
    "print('Test set: X={}, y={}'.format(X_test.shape, y_test.shape))"
   ]
  },
  {
   "cell_type": "code",
   "execution_count": 7,
   "metadata": {},
   "outputs": [
    {
     "data": {
      "image/png": "[encoded data removed]",
      "text/plain": [
       "<Figure size 432x288 with 1 Axes>"
      ]
     },
     "metadata": {
      "needs_background": "light"
     },
     "output_type": "display_data"
    }
   ],
   "source": [
    "X_t =  X_train.values.reshape(-1,28,28,1)\n",
    "g = plt.imshow(X_t[0][:, :, 0], 'gray')"
   ]
  },
  {
   "cell_type": "code",
   "execution_count": 8,
   "metadata": {},
   "outputs": [
    {
     "data": {
      "image/png": "[encoded data removed]",
      "text/plain": [
       "<Figure size 432x288 with 1 Axes>"
      ]
     },
     "metadata": {
      "needs_background": "light"
     },
     "output_type": "display_data"
    },
    {
     "name": "stdout",
     "output_type": "stream",
     "text": [
      "36.18598431400156\n"
     ]
    }
   ],
   "source": [
    "lg = LogisticRegression(normalize=True)\n",
    "lg.fit(X_train, y_train, 0.1, 100, 1e-20)\n",
    "\n",
    "plot_J(lg.get_cost_history())\n",
    "print(lg.get_cost_history()[-1])"
   ]
  },
  {
   "cell_type": "code",
   "execution_count": 21,
   "metadata": {},
   "outputs": [],
   "source": [
    "y_pred = lg.predict(X_test)"
   ]
  },
  {
   "cell_type": "code",
   "execution_count": 29,
   "metadata": {},
   "outputs": [
    {
     "data": {
      "image/png": "[encoded data removed]",
      "text/plain": [
       "<Figure size 1080x360 with 3 Axes>"
      ]
     },
     "metadata": {
      "needs_background": "light"
     },
     "output_type": "display_data"
    },
    {
     "data": {
      "image/png": "[encoded data removed]",
      "text/plain": [
       "<Figure size 432x288 with 1 Axes>"
      ]
     },
     "metadata": {
      "needs_background": "light"
     },
     "output_type": "display_data"
    },
    {
     "name": "stdout",
     "output_type": "stream",
     "text": [
      "Iterations: 111; alpha: 0.1;\n"
     ]
    }
   ],
   "source": [
    "attack = AttackFGSM()\n",
    "sample_idx = 0\n",
    "\n",
    "x = np.expand_dims(X_test.iloc[sample_idx, :], axis=0)\n",
    "goal = np.zeros(np.unique(y_test[\"label\"]).shape)\n",
    "goal[7] = 1\n",
    "alpha = 0.1\n",
    "\n",
    "attack.fit(x, lg.coef_, lg.b, goal, alpha, 1000, lg.predict)\n",
    "adv_pred = lg.predict(np.array( attack.X_))\n",
    "\n",
    "fig, (ax1, ax2, ax3) = plt.subplots(1, 3)\n",
    "fig.set_size_inches(15,5)\n",
    "fig.suptitle('Adversarial example')\n",
    "ax1.imshow(X_test.values.reshape(-1,28,28,1)[sample_idx][:, :, 0], 'gray')\n",
    "ax1.set_title(f\"Original\\n prediction: {lg.predict(x)[0]}\")\n",
    "ax2.imshow(X_test.values.reshape(-1,28,28,1)[sample_idx][:, :, 0] - attack.X_.reshape(28,28), \"gray\")\n",
    "ax2.set_title(f\"Difference\")\n",
    "ax3.imshow(attack.X_.reshape(28,28), 'gray')\n",
    "ax3.set_title(f\"Adversarial\\n prediction: {adv_pred[0]}\")\n",
    "\n",
    "plt.show()\n",
    "\n",
    "pred_full = lg.predict(np.array( attack.X_), full_output=True)\n",
    "plt.bar(pred_full[0].keys(), pred_full[0].values())\n",
    "plot_J(attack.goal_assurance_history)\n",
    "plt.show()\n",
    "print(f\"Iterations: {attack.num_iters}; alpha: {alpha};\")"
   ]
  },
  {
   "cell_type": "code",
   "execution_count": 23,
   "metadata": {},
   "outputs": [
    {
     "name": "stdout",
     "output_type": "stream",
     "text": [
      "Iterations: 302; alpha: 0.1;\n"
     ]
    },
    {
     "data": {
      "image/png": "[encoded data removed]",
      "text/plain": [
       "<Figure size 1080x360 with 3 Axes>"
      ]
     },
     "metadata": {
      "needs_background": "light"
     },
     "output_type": "display_data"
    },
    {
     "data": {
      "image/png": "[encoded data removed]",
      "text/plain": [
       "<Figure size 432x288 with 1 Axes>"
      ]
     },
     "metadata": {
      "needs_background": "light"
     },
     "output_type": "display_data"
    }
   ],
   "source": [
    "attack = AttackFGSM()\n",
    "sample_idx = 1\n",
    "\n",
    "x = np.expand_dims(X_test.iloc[sample_idx, :], axis=0)\n",
    "goal = np.zeros(np.unique(y_test[\"label\"]).shape)\n",
    "goal[5] = 1\n",
    "alpha = 0.1\n",
    "\n",
    "attack.fit(x, lg.coef_, lg.b, goal, alpha, 1000, lg.predict)\n",
    "adv_pred = lg.predict(np.array( attack.X_))\n",
    "print(f\"Iterations: {attack.num_iters}; alpha: {alpha};\")\n",
    "\n",
    "fig, (ax1, ax2, ax3) = plt.subplots(1, 3)\n",
    "fig.set_size_inches(15,5)\n",
    "fig.suptitle('Adversarial example')\n",
    "ax1.imshow(X_test.values.reshape(-1,28,28,1)[sample_idx][:, :, 0], 'gray')\n",
    "ax1.set_title(f\"Original\\n prediction: {lg.predict(x)[0]}\")\n",
    "ax2.imshow(X_test.values.reshape(-1,28,28,1)[sample_idx][:, :, 0] - attack.X_.reshape(28,28), \"gray\")\n",
    "ax2.set_title(f\"Difference\")\n",
    "ax3.imshow(attack.X_.reshape(28,28), 'gray')\n",
    "ax3.set_title(f\"Adversarial\\n prediction: {adv_pred[0]}\")\n",
    "\n",
    "plt.show()\n",
    "\n",
    "pred_full = lg.predict(np.array( attack.X_), full_output=True)\n",
    "plt.bar(pred_full[0].keys(), pred_full[0].values())\n",
    "plot_J(attack.goal_assurance_history)\n",
    "plt.show()"
   ]
  },
  {
   "cell_type": "code",
   "execution_count": 24,
   "metadata": {},
   "outputs": [
    {
     "name": "stdout",
     "output_type": "stream",
     "text": [
      "    y_pred  y_real\n",
      "0        8       8\n",
      "1        9       9\n",
      "2        6       6\n",
      "3        2       2\n",
      "4        3       3\n",
      "5        2       2\n",
      "6        4       5\n",
      "7        1       1\n",
      "8        7       7\n",
      "9        2       2\n",
      "10       8       8\n",
      "11       8       8\n",
      "12       3       3\n",
      "13       6       6\n",
      "14       3       3\n",
      "15       6       6\n",
      "16       9       9\n",
      "17       2       2\n",
      "18       1       1\n",
      "19       2       4\n"
     ]
    }
   ],
   "source": [
    "y_real = np.array(y_test.iloc[:, 0])\n",
    "\n",
    "comp = pd.DataFrame({\"y_pred\": y_pred, \"y_real\": y_real})\n",
    "print(comp.head(20))"
   ]
  },
  {
   "cell_type": "code",
   "execution_count": 25,
   "metadata": {},
   "outputs": [
    {
     "name": "stdout",
     "output_type": "stream",
     "text": [
      "Root mean squared error: 2.084761904761905\n",
      "Mean squared error: 1.443870459827302\n",
      "Mean absolute error: 0.43047619047619046\n",
      "Coefficient of determination: 0.7500020394012318\n",
      "Accuracy: 88%\n"
     ]
    }
   ],
   "source": [
    "from sklearn.metrics import mean_squared_error\n",
    "from sklearn.metrics import mean_absolute_error\n",
    "from sklearn.metrics import r2_score\n",
    "rmse = mean_squared_error(y_real, y_pred, squared=True)\n",
    "mse = mean_squared_error(y_real, y_pred, squared=False)\n",
    "mae = mean_absolute_error(y_real, y_pred)\n",
    "r2 = r2_score(y_real, y_pred)\n",
    "accuracy = int(sum(y_real == y_pred) / len(y_pred) * 100)\n",
    "\n",
    "\n",
    "#print(f'Coefficients\\n {theta}')\n",
    "print(f'Root mean squared error: {rmse}')\n",
    "print(f'Mean squared error: {mse}')\n",
    "print(f'Mean absolute error: {mae}')\n",
    "print(f'Coefficient of determination: {r2}')\n",
    "print(f\"Accuracy: {accuracy}%\")"
   ]
  }
 ],
 "metadata": {
  "kernelspec": {
   "display_name": "Python 3.7.6 64-bit",
   "language": "python",
   "name": "python37664bit72af3e13b1864d0a85758af773701f9c"
  },
  "language_info": {
   "codemirror_mode": {
    "name": "ipython",
    "version": 3
   },
   "file_extension": ".py",
   "mimetype": "text/x-python",
   "name": "python",
   "nbconvert_exporter": "python",
   "pygments_lexer": "ipython3",
   "version": "3.7.6"
  }
 },
 "nbformat": 4,
 "nbformat_minor": 4
}
