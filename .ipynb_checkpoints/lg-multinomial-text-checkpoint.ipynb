{
 "cells": [
  {
   "cell_type": "code",
   "execution_count": 1,
   "metadata": {},
   "outputs": [],
   "source": [
    "import numpy as np\n",
    "import pandas as pd\n",
    "import seaborn as sns\n",
    "\n",
    "from sklearn.model_selection import train_test_split\n",
    "from sklearn.metrics import mean_squared_error, r2_score\n",
    "\n",
    "import matplotlib.pyplot as plt\n",
    "%matplotlib inline"
   ]
  },
  {
   "cell_type": "code",
   "execution_count": 2,
   "metadata": {},
   "outputs": [],
   "source": [
    "def plot_feature_correlations(X):\n",
    "    corrmat = X.corr()\n",
    "    top_corr_features = corrmat.index\n",
    "    sns.heatmap(X[top_corr_features].corr(),annot=True,cmap=\"RdYlGn\")"
   ]
  },
  {
   "cell_type": "code",
   "execution_count": 3,
   "metadata": {},
   "outputs": [],
   "source": [
    "def plot_feature_scatters(data):\n",
    "    color_list = ['red' if i=='Abnormal' else 'green' for i in data.loc[:,'class']]\n",
    "\n",
    "    # s - marker size\n",
    "    # \n",
    "    pd.plotting.scatter_matrix(data.loc[:, data.columns != 'class'],\n",
    "                                        c=color_list,\n",
    "                                        figsize= [15,15],\n",
    "                                        diagonal='hist',\n",
    "                                        alpha=0.5,\n",
    "                                        s = 100,\n",
    "                                        marker = '*',\n",
    "                                        edgecolor= \"black\")\n",
    "    plt.show()"
   ]
  },
  {
   "cell_type": "code",
   "execution_count": 4,
   "metadata": {},
   "outputs": [],
   "source": [
    "def plot_J(J_history):\n",
    "    x = np.arange(0, len(J_history))\n",
    "    plt.plot(x, J_history)\n",
    "    plt.show()"
   ]
  },
  {
   "cell_type": "code",
   "execution_count": 5,
   "metadata": {},
   "outputs": [],
   "source": [
    "from sklearn.base import BaseEstimator, ClassifierMixin\n",
    "from sklearn.utils.validation import check_X_y, check_array, check_is_fitted\n",
    "from sklearn.utils.multiclass import unique_labels\n",
    "from sklearn.preprocessing import OneHotEncoder\n",
    "\n",
    "class LogisticRegression(BaseEstimator, ClassifierMixin):\n",
    "    def __init__(self, normalize=True):\n",
    "        self.is_normalize = normalize\n",
    "\n",
    "    def fit(self, X, y, alpha, num_iters, epsilon):\n",
    "\n",
    "        # X transformations\n",
    "        if self.is_normalize == True:\n",
    "            self.X_, self.mean, self.std = self._normalize(X)\n",
    "        else:\n",
    "            self.X_ = X\n",
    "        self.X_ = self.X_.T\n",
    " \n",
    "        # Y transformations\n",
    "        encoder = OneHotEncoder()\n",
    "        encoder.fit(y)\n",
    "        Y = encoder.transform(y).toarray()\n",
    "        self.y_labels = [x[3:] for x in  encoder.get_feature_names()]\n",
    "        self.y_ = Y.T\n",
    "\n",
    "        self.w = np.full(( self.X_.shape[0],1),0.0)\n",
    "        self.b = 0.0\n",
    "        self.w, self.b, self.Js = self._gradient_descent(self.X_, self.y_, self.w, self.b, alpha, num_iters, epsilon, False)\n",
    "        self.coef_ = self.w\n",
    "\n",
    "    def predict(self, X, full_output=False):\n",
    "        # Check is fit had been called\n",
    "        check_is_fitted(self)\n",
    "        # Input validation\n",
    "        X = check_array(X)\n",
    "\n",
    "        if self.is_normalize:\n",
    "            X_norm = (X - self.mean) / self.std\n",
    "            z = self._sigmoid(np.dot(self.w.T,X_norm.T)+self.b)\n",
    "        else:\n",
    "            z = self._sigmoid(np.dot(self.w.T,X.T)+self.b)\n",
    "    \n",
    "        if full_output == True:\n",
    "            y_pred = np.full((z.shape[1]), {})\n",
    "            for i in range(z.shape[1]):\n",
    "                y_pred[i] = { self.y_labels[j]: z[j][i] for j in range(z.shape[0])}\n",
    "        else:\n",
    "            y_pred = np.zeros(z.shape[1], dtype=int)\n",
    "            for i in range(z.shape[1]):\n",
    "                y_pred[i] = np.argmax(z[:, i])\n",
    "        return y_pred\n",
    "\n",
    "    def get_cost_history(self):\n",
    "        check_is_fitted(self)\n",
    "        return self.Js\n",
    "\n",
    "    def _normalize(self, X):\n",
    "        mean = np.zeros([X.shape[1]])\n",
    "        std  = np.ones([X.shape[1]])\n",
    "        \n",
    "        for i in range(X.shape[1]):\n",
    "            if (np.std(X.iloc[:, i]) != 0):\n",
    "                mean[i] = np.mean(X.iloc[:, i])\n",
    "                std[i] = np.std(X.iloc[:, i])\n",
    "        X_new = (X - mean) / std\n",
    "        return X_new, mean, std\n",
    "\n",
    "    def _cost_function(self, X, Y, A):\n",
    "        m = X.shape[0]\n",
    "        if m == 0:\n",
    "            return None\n",
    "\n",
    "        J = (1 / m) * np.sum(-Y * np.log(A) - (1 - Y) * np.log(1 - A))\n",
    "        return J\n",
    "\n",
    "    def _sigmoid(self, z):\n",
    "        return 1 / (1 + np.exp(-z))\n",
    "\n",
    "    def _forward_backward_propagation(self, X, Y, w, b):        \n",
    "        # forward propagation\n",
    "        m = X.shape[1]\n",
    "\n",
    "        z = np.dot(w.T,X) + b\n",
    "        A = self._sigmoid(z)\n",
    "        cost = self._cost_function(X, Y, A)\n",
    "\n",
    "        # backward propagation\n",
    "        dz = A - Y\n",
    "        derivative_weights = (1 / m) * np.dot(X, dz.T)\n",
    "        derivative_bias = (1 / m) * np.sum(dz)\n",
    "\n",
    "        return cost, derivative_weights, derivative_bias\n",
    "\n",
    "    def _gradient_descent(self, X, Y, w, b, alpha, num_iters, epsilon, print_J=False):        \n",
    "        # num of samples\n",
    "        m = X.shape[0]\n",
    "        # num of features\n",
    "        n = X.shape[1]\n",
    "\n",
    "        J_history = []\n",
    "\n",
    "        for i in range(num_iters):\n",
    "            J, delta_weights, delta_bias = self._forward_backward_propagation(X, Y, w, b)\n",
    "\n",
    "            w = w - alpha * delta_weights\n",
    "            b = b - alpha * delta_bias\n",
    "\n",
    "            if print_J == True and i % 100 == 0:\n",
    "                print(J)\n",
    "\n",
    "            J_history.append(J)\n",
    "\n",
    "        return w, b, J_history"
   ]
  },
  {
   "cell_type": "code",
   "execution_count": 6,
   "metadata": {},
   "outputs": [],
   "source": [
    "from sklearn.base import BaseEstimator, ClassifierMixin\n",
    "from sklearn.utils.validation import check_X_y, check_array, check_is_fitted\n",
    "from sklearn.utils.multiclass import unique_labels\n",
    "\n",
    "class AttackFGSM():\n",
    "    # Fast Gradient Sign Method Attack\n",
    "    def __init__(self, normalize=False):\n",
    "        self.goal_assurance_history = []\n",
    "\n",
    "    def fit(self, X, w, b, y, alpha, max_iters, predict_func):\n",
    "        # Check that X and y have correct shape\n",
    "        self.w = w\n",
    "        self.b = b\n",
    "\n",
    "        self.y_ = np.expand_dims(y.T, axis=1)\n",
    "        self.X_ = X.T\n",
    "      \n",
    "        self.num_iters = 0\n",
    "        self.X_ = self._gradient_descent(self.X_, self.y_, self.w, self.b, alpha, max_iters, predict_func)\n",
    "\n",
    "    def _cost_function(self, X, Y, A):\n",
    "        m = X.shape[0]\n",
    "        if m == 0:\n",
    "            return None\n",
    "\n",
    "        J = (1 / m) * np.sum(-Y * np.log(A) - (1 - Y) * np.log(1 - A))\n",
    "        return J\n",
    "\n",
    "    def _sigmoid(self, z):\n",
    "        return 1 / (1 + np.exp(-z))\n",
    "\n",
    "    def _forward_backward_propagation(self, X, Y, w, b):        \n",
    "        # forward propagation\n",
    "        m = X.shape[1]\n",
    "        z = np.dot(w.T,X) + b\n",
    "        A = self._sigmoid(z)\n",
    "\n",
    "        # backward propagation\n",
    "        dz = A - Y\n",
    "        \n",
    "        derivative_x = (1 / m) * np.dot(w, dz)\n",
    "        return derivative_x\n",
    "\n",
    "    def _is_tricked(self, X, Y, predict_func):\n",
    "        # goal class position\n",
    "        for i in range(Y.shape[1]):\n",
    "            goal_pos = np.argmax(Y[:, i] != 0)\n",
    "            if (predict_func(np.array(X))[i] != goal_pos):\n",
    "                return False\n",
    "        return True\n",
    "\n",
    "    def _gradient_descent(self, X, Y, w, b, alpha, max_iters, predict_func):        \n",
    "        # num of samples\n",
    "        m = X.shape[0]\n",
    "        # num of features\n",
    "        n = X.shape[1]\n",
    "        \n",
    "        while (not self._is_tricked(X.T, Y, predict_func)) and (self.num_iters <= max_iters):\n",
    "            delta_x = self._forward_backward_propagation(X, Y, w, b)\n",
    "\n",
    "            X = X - alpha * np.sign(delta_x)\n",
    "            self.num_iters += 1       \n",
    "\n",
    "        # Antitranspose before return\n",
    "        return X.T"
   ]
  },
  {
   "cell_type": "code",
   "execution_count": 7,
   "metadata": {},
   "outputs": [
    {
     "name": "stdout",
     "output_type": "stream",
     "text": [
      "Dataset: X=(310, 6), y=(310, 1)\n"
     ]
    }
   ],
   "source": [
    "filename = \"biomechanical-features-of-orthopedic-patients/column_3C_weka.csv\"\n",
    "\n",
    "train_features = [\"pelvic_incidence\", \"pelvic_tilt\", \"lumbar_lordosis_angle\", \"sacral_slope\", \"pelvic_radius\", \"degree_spondylolisthesis\"]\n",
    "target_feature = [\"class\"]\n",
    "# Spondylolisthesis Hernia Normal\n",
    "\n",
    "data_features = train_features + target_feature\n",
    "df = pd.read_csv(filename, delimiter=',')\n",
    "df = df[data_features]\n",
    "\n",
    "X, y = df[train_features], df[target_feature]\n",
    "print('Dataset: X={}, y={}'.format(X.shape, y.shape))"
   ]
  },
  {
   "cell_type": "code",
   "execution_count": 8,
   "metadata": {},
   "outputs": [
    {
     "name": "stdout",
     "output_type": "stream",
     "text": [
      "<class 'pandas.core.frame.DataFrame'>\n",
      "RangeIndex: 310 entries, 0 to 309\n",
      "Data columns (total 7 columns):\n",
      " #   Column                    Non-Null Count  Dtype  \n",
      "---  ------                    --------------  -----  \n",
      " 0   pelvic_incidence          310 non-null    float64\n",
      " 1   pelvic_tilt               310 non-null    float64\n",
      " 2   lumbar_lordosis_angle     310 non-null    float64\n",
      " 3   sacral_slope              310 non-null    float64\n",
      " 4   pelvic_radius             310 non-null    float64\n",
      " 5   degree_spondylolisthesis  310 non-null    float64\n",
      " 6   class                     310 non-null    object \n",
      "dtypes: float64(6), object(1)\n",
      "memory usage: 17.1+ KB\n"
     ]
    }
   ],
   "source": [
    "df.info()"
   ]
  },
  {
   "cell_type": "code",
   "execution_count": 9,
   "metadata": {},
   "outputs": [
    {
     "data": {
      "text/html": [
       "<div>\n",
       "<style scoped>\n",
       "    .dataframe tbody tr th:only-of-type {\n",
       "        vertical-align: middle;\n",
       "    }\n",
       "\n",
       "    .dataframe tbody tr th {\n",
       "        vertical-align: top;\n",
       "    }\n",
       "\n",
       "    .dataframe thead th {\n",
       "        text-align: right;\n",
       "    }\n",
       "</style>\n",
       "<table border=\"1\" class=\"dataframe\">\n",
       "  <thead>\n",
       "    <tr style=\"text-align: right;\">\n",
       "      <th></th>\n",
       "      <th>pelvic_incidence</th>\n",
       "      <th>pelvic_tilt</th>\n",
       "      <th>lumbar_lordosis_angle</th>\n",
       "      <th>sacral_slope</th>\n",
       "      <th>pelvic_radius</th>\n",
       "      <th>degree_spondylolisthesis</th>\n",
       "      <th>class</th>\n",
       "    </tr>\n",
       "  </thead>\n",
       "  <tbody>\n",
       "    <tr>\n",
       "      <th>0</th>\n",
       "      <td>63.027818</td>\n",
       "      <td>22.552586</td>\n",
       "      <td>39.609117</td>\n",
       "      <td>40.475232</td>\n",
       "      <td>98.672917</td>\n",
       "      <td>-0.254400</td>\n",
       "      <td>Hernia</td>\n",
       "    </tr>\n",
       "    <tr>\n",
       "      <th>1</th>\n",
       "      <td>39.056951</td>\n",
       "      <td>10.060991</td>\n",
       "      <td>25.015378</td>\n",
       "      <td>28.995960</td>\n",
       "      <td>114.405425</td>\n",
       "      <td>4.564259</td>\n",
       "      <td>Hernia</td>\n",
       "    </tr>\n",
       "    <tr>\n",
       "      <th>2</th>\n",
       "      <td>68.832021</td>\n",
       "      <td>22.218482</td>\n",
       "      <td>50.092194</td>\n",
       "      <td>46.613539</td>\n",
       "      <td>105.985135</td>\n",
       "      <td>-3.530317</td>\n",
       "      <td>Hernia</td>\n",
       "    </tr>\n",
       "    <tr>\n",
       "      <th>3</th>\n",
       "      <td>69.297008</td>\n",
       "      <td>24.652878</td>\n",
       "      <td>44.311238</td>\n",
       "      <td>44.644130</td>\n",
       "      <td>101.868495</td>\n",
       "      <td>11.211523</td>\n",
       "      <td>Hernia</td>\n",
       "    </tr>\n",
       "    <tr>\n",
       "      <th>4</th>\n",
       "      <td>49.712859</td>\n",
       "      <td>9.652075</td>\n",
       "      <td>28.317406</td>\n",
       "      <td>40.060784</td>\n",
       "      <td>108.168725</td>\n",
       "      <td>7.918501</td>\n",
       "      <td>Hernia</td>\n",
       "    </tr>\n",
       "  </tbody>\n",
       "</table>\n",
       "</div>"
      ],
      "text/plain": [
       "   pelvic_incidence  pelvic_tilt  lumbar_lordosis_angle  sacral_slope  \\\n",
       "0         63.027818    22.552586              39.609117     40.475232   \n",
       "1         39.056951    10.060991              25.015378     28.995960   \n",
       "2         68.832021    22.218482              50.092194     46.613539   \n",
       "3         69.297008    24.652878              44.311238     44.644130   \n",
       "4         49.712859     9.652075              28.317406     40.060784   \n",
       "\n",
       "   pelvic_radius  degree_spondylolisthesis   class  \n",
       "0      98.672917                 -0.254400  Hernia  \n",
       "1     114.405425                  4.564259  Hernia  \n",
       "2     105.985135                 -3.530317  Hernia  \n",
       "3     101.868495                 11.211523  Hernia  \n",
       "4     108.168725                  7.918501  Hernia  "
      ]
     },
     "execution_count": 9,
     "metadata": {},
     "output_type": "execute_result"
    }
   ],
   "source": [
    "df.head()"
   ]
  },
  {
   "cell_type": "code",
   "execution_count": 10,
   "metadata": {},
   "outputs": [
    {
     "name": "stdout",
     "output_type": "stream",
     "text": [
      "Spondylolisthesis    150\n",
      "Normal               100\n",
      "Hernia                60\n",
      "Name: class, dtype: int64\n"
     ]
    },
    {
     "data": {
      "image/png": "[encoded data removed]",
      "text/plain": [
       "<Figure size 432x288 with 1 Axes>"
      ]
     },
     "metadata": {
      "needs_background": "light"
     },
     "output_type": "display_data"
    }
   ],
   "source": [
    "print(df[\"class\"].value_counts())\n",
    "sns.countplot(x=\"class\", data=df, palette=\"YlGnBu\")\n",
    "plt.show()"
   ]
  },
  {
   "cell_type": "code",
   "execution_count": 11,
   "metadata": {},
   "outputs": [],
   "source": [
    "#plot_feature_scatters(df)"
   ]
  },
  {
   "cell_type": "code",
   "execution_count": 12,
   "metadata": {},
   "outputs": [],
   "source": [
    "#plot_feature_correlations(df)"
   ]
  },
  {
   "cell_type": "code",
   "execution_count": 13,
   "metadata": {},
   "outputs": [
    {
     "name": "stdout",
     "output_type": "stream",
     "text": [
      "Training set: X=(248, 6), y=(248, 1)\n",
      "Test set: X=(62, 6), y=(62, 1)\n"
     ]
    }
   ],
   "source": [
    "X_train, X_test, y_train, y_test = train_test_split(X, y, test_size = 0.2, shuffle = True, stratify = y)\n",
    "\n",
    "print('Training set: X={}, y={}'.format(X_train.shape, y_train.shape))\n",
    "print('Test set: X={}, y={}'.format(X_test.shape, y_test.shape))"
   ]
  },
  {
   "cell_type": "code",
   "execution_count": 14,
   "metadata": {},
   "outputs": [
    {
     "name": "stdout",
     "output_type": "stream",
     "text": [
      "40.65972865727775\n"
     ]
    },
    {
     "data": {
      "image/png": "[encoded data removed]",
      "text/plain": [
       "<Figure size 432x288 with 1 Axes>"
      ]
     },
     "metadata": {
      "needs_background": "light"
     },
     "output_type": "display_data"
    }
   ],
   "source": [
    "lg = LogisticRegression(normalize=True)\n",
    "lg.fit(X_train, y_train, 0.05, 1000, 1e-20)\n",
    "\n",
    "print(lg.get_cost_history()[-1])\n",
    "plot_J(lg.get_cost_history())"
   ]
  },
  {
   "cell_type": "code",
   "execution_count": 32,
   "metadata": {},
   "outputs": [],
   "source": [
    "y_pred = [lg.y_labels[idx] for idx in lg.predict(X_test)]"
   ]
  },
  {
   "cell_type": "code",
   "execution_count": 16,
   "metadata": {},
   "outputs": [
    {
     "name": "stdout",
     "output_type": "stream",
     "text": [
      "========================== Adversarial Example ==========================\n",
      "Iterations: 208; alpha: 0.1;\n",
      "========================== Original =====================================\n",
      "Pprediction: Hernia\n",
      "[[ 49.71285934   9.65207488  28.317406    40.06078446 108.1687249\n",
      "    7.91850062]]\n",
      "========================== Adversarial ==================================\n",
      "Prediction: Normal\n",
      "[[ 38.31285934  20.65207488  13.517406    28.86078446 128.9687249\n",
      "  -12.88149938]]\n",
      "========================== Difference ===================================\n",
      "Delta: [[ 11.4 -11.   14.8  11.2 -20.8  20.8]]\n",
      "=========================================================================\n"
     ]
    },
    {
     "data": {
      "image/png": "[encoded data removed]",
      "text/plain": [
       "<Figure size 432x288 with 1 Axes>"
      ]
     },
     "metadata": {
      "needs_background": "light"
     },
     "output_type": "display_data"
    }
   ],
   "source": [
    "\n",
    "attack = AttackFGSM()\n",
    "\n",
    "sample_idx = 1\n",
    "x = np.expand_dims(X_test.iloc[sample_idx, :], axis=0)\n",
    "goal = np.zeros(np.unique(y_test[\"class\"]).shape)\n",
    "goal[1] = 1\n",
    "alpha = 0.1\n",
    "#x = np.random.random(len(X_test.iloc[8, :]))\n",
    "attack.fit(x, lg.coef_, lg.b, goal, alpha, 1000, lg.predict)\n",
    "\n",
    "print(\"========================== Adversarial Example ==========================\")\n",
    "print(f\"Iterations: {attack.num_iters}; alpha: {alpha};\")\n",
    "print(\"========================== Original =====================================\")\n",
    "print(f\"Pprediction: {lg.y_labels[ lg.predict(x)[0]]}\")\n",
    "print(x)\n",
    "print(\"========================== Adversarial ==================================\")\n",
    "print(f\"Prediction: {lg.y_labels[lg.predict(attack.X_)[0]]}\")\n",
    "print(attack.X_)\n",
    "print(\"========================== Difference ===================================\")\n",
    "print(f\"Delta: {x - attack.X_}\")\n",
    "print(\"=========================================================================\")\n",
    "\n",
    "pred_full = lg.predict(attack.X_, full_output=True)\n",
    "plt.bar(pred_full[0].keys(), pred_full[0].values())\n",
    "plot_J(attack.goal_assurance_history)\n",
    "plt.show()"
   ]
  },
  {
   "cell_type": "code",
   "execution_count": 17,
   "metadata": {},
   "outputs": [
    {
     "name": "stdout",
     "output_type": "stream",
     "text": [
      "========================== Adversarial Example ==========================\n",
      "Iterations: 551; alpha: 0.01;\n",
      "========================== Original =====================================\n",
      "Pprediction: Normal\n",
      "[[ 59.16761171  14.56274875  43.19915768  44.60486296 121.0356423\n",
      "    2.83050412]]\n",
      "========================== Adversarial ==================================\n",
      "Prediction: Hernia\n",
      "[[ 53.65761171  20.07274875  37.68915768  39.09486296 115.5256423\n",
      "   -0.49949588]]\n",
      "========================== Difference ===================================\n",
      "Delta: [[ 5.51 -5.51  5.51  5.51  5.51  3.33]]\n",
      "=========================================================================\n"
     ]
    },
    {
     "data": {
      "image/png": "[encoded data removed]",
      "text/plain": [
       "<Figure size 432x288 with 1 Axes>"
      ]
     },
     "metadata": {
      "needs_background": "light"
     },
     "output_type": "display_data"
    }
   ],
   "source": [
    "\n",
    "attack = AttackFGSM()\n",
    "\n",
    "sample_idx = 6\n",
    "x = np.expand_dims(X_test.iloc[sample_idx, :], axis=0)\n",
    "goal = np.zeros(np.unique(y_test[\"class\"]).shape)\n",
    "goal[0] = 2\n",
    "alpha = 0.01\n",
    "\n",
    "#x = np.random.random(len(X_test.iloc[8, :]))\n",
    "attack.fit(x, lg.coef_, lg.b, goal, alpha, 1000, lg.predict)\n",
    "\n",
    "print(\"========================== Adversarial Example ==========================\")\n",
    "print(f\"Iterations: {attack.num_iters}; alpha: {alpha};\")\n",
    "print(\"========================== Original =====================================\")\n",
    "print(f\"Pprediction: {lg.y_labels[ lg.predict(x)[0]]}\")\n",
    "print(x)\n",
    "print(\"========================== Adversarial ==================================\")\n",
    "print(f\"Prediction: {lg.y_labels[lg.predict(attack.X_)[0]]}\")\n",
    "print(attack.X_)\n",
    "print(\"========================== Difference ===================================\")\n",
    "print(f\"Delta: {x - attack.X_}\")\n",
    "print(\"=========================================================================\")\n",
    "\n",
    "pred_full = lg.predict(attack.X_, full_output=True)\n",
    "plt.bar(pred_full[0].keys(), pred_full[0].values())\n",
    "plot_J(attack.goal_assurance_history)\n",
    "plt.show()"
   ]
  },
  {
   "cell_type": "code",
   "execution_count": 33,
   "metadata": {},
   "outputs": [
    {
     "name": "stdout",
     "output_type": "stream",
     "text": [
      "                y_pred             y_real\n",
      "183  Spondylolisthesis  Spondylolisthesis\n",
      "4               Hernia             Hernia\n",
      "119  Spondylolisthesis  Spondylolisthesis\n",
      "160  Spondylolisthesis  Spondylolisthesis\n",
      "169             Hernia  Spondylolisthesis\n",
      "68              Normal  Spondylolisthesis\n",
      "284             Normal             Normal\n",
      "266             Normal             Normal\n",
      "146  Spondylolisthesis  Spondylolisthesis\n",
      "198  Spondylolisthesis  Spondylolisthesis\n",
      "111  Spondylolisthesis  Spondylolisthesis\n",
      "245             Normal             Normal\n",
      "136  Spondylolisthesis  Spondylolisthesis\n",
      "263             Normal             Normal\n",
      "0               Hernia             Hernia\n",
      "47              Hernia             Hernia\n",
      "54              Hernia             Hernia\n",
      "175  Spondylolisthesis  Spondylolisthesis\n",
      "299             Normal             Normal\n",
      "87              Normal  Spondylolisthesis\n",
      "124  Spondylolisthesis  Spondylolisthesis\n",
      "216             Normal             Normal\n",
      "123  Spondylolisthesis  Spondylolisthesis\n",
      "178  Spondylolisthesis  Spondylolisthesis\n",
      "215             Normal             Normal\n",
      "241             Normal             Normal\n",
      "204             Hernia  Spondylolisthesis\n",
      "259             Normal             Normal\n",
      "172             Hernia  Spondylolisthesis\n",
      "210             Hernia             Normal\n"
     ]
    }
   ],
   "source": [
    "# 1. 0.26842692 0.03495203 0.2543477  0.19252827 0.99322061 0.83653642\n",
    "y_real = y_test.iloc[:, 0]\n",
    "comp = pd.DataFrame({\"y_pred\": y_pred, \"y_real\": y_real})\n",
    "print(comp.head(30))"
   ]
  },
  {
   "cell_type": "code",
   "execution_count": 38,
   "metadata": {},
   "outputs": [
    {
     "name": "stdout",
     "output_type": "stream",
     "text": [
      "Accuracy: 0.7903225806451613\n"
     ]
    }
   ],
   "source": [
    "from sklearn.metrics import mean_squared_error\n",
    "from sklearn.metrics import mean_absolute_error\n",
    "from sklearn.metrics import r2_score\n",
    "\n",
    "accuracy = sum(y_real == y_pred) / len(y_pred)\n",
    "print(f\"Accuracy: {accuracy}\")"
   ]
  }
 ],
 "metadata": {
  "kernelspec": {
   "display_name": "Python 3.7.6 64-bit",
   "language": "python",
   "name": "python37664bit72af3e13b1864d0a85758af773701f9c"
  },
  "language_info": {
   "codemirror_mode": {
    "name": "ipython",
    "version": 3
   },
   "file_extension": ".py",
   "mimetype": "text/x-python",
   "name": "python",
   "nbconvert_exporter": "python",
   "pygments_lexer": "ipython3",
   "version": "3.7.6"
  }
 },
 "nbformat": 4,
 "nbformat_minor": 4
}
